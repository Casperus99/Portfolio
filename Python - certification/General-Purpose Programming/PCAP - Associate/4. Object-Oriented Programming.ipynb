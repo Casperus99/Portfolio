{
 "cells": [
  {
   "cell_type": "markdown",
   "metadata": {},
   "source": [
    "# **Section 4**: Object-Oriented Programming (34%)"
   ]
  },
  {
   "cell_type": "markdown",
   "metadata": {},
   "source": [
    "## 4.1 – Understand the Object-Oriented approach"
   ]
  },
  {
   "cell_type": "markdown",
   "metadata": {},
   "source": [
    "- **ideas and notions: class, object, property, method, encapsulation, inheritance, superclass, subclass, identifying class components**"
   ]
  },
  {
   "cell_type": "code",
   "execution_count": null,
   "metadata": {},
   "outputs": [],
   "source": [
    "# class - it's like an object constructor, or a \"blueprint\" for creating objects\n",
    "\n",
    "class MyClass:\n",
    "    pass"
   ]
  },
  {
   "cell_type": "code",
   "execution_count": null,
   "metadata": {},
   "outputs": [],
   "source": [
    "# object - instance of a specific class\n",
    "\n",
    "my_object = MyClass()"
   ]
  },
  {
   "cell_type": "code",
   "execution_count": null,
   "metadata": {},
   "outputs": [
    {
     "name": "stdout",
     "output_type": "stream",
     "text": [
      "5\n"
     ]
    }
   ],
   "source": [
    "# property (I think they meant attributes) - variables defined within class namespace\n",
    "\n",
    "class MyClass:\n",
    "    x = 5\n",
    "\n",
    "print(MyClass.x)"
   ]
  },
  {
   "cell_type": "code",
   "execution_count": 11,
   "metadata": {},
   "outputs": [
    {
     "data": {
      "text/plain": [
       "8"
      ]
     },
     "execution_count": 11,
     "metadata": {},
     "output_type": "execute_result"
    }
   ],
   "source": [
    "# method - it's a function that is linked with the class where it's defined\n",
    "\n",
    "class Calcualtor():\n",
    "    def add(a1, a2):\n",
    "        return a1 + a2\n",
    "    \n",
    "Calcualtor.add(3, 5)"
   ]
  },
  {
   "cell_type": "markdown",
   "metadata": {},
   "source": [
    "Encapsulation was covered in the 1st section:\n",
    "\n",
    "- Public Access Modifier: Theoretically, public methods and fields can be accessed directly by any class. (no prefix)\n",
    "- Protected Access Modifier: Theoretically, protected methods and fields can be accessed within the same class it is declared and its subclass.  (`_` prefix)\n",
    "- Private Access Modifier: Theoretically, private methods and fields can be only accessed within the same class it is declared. (`__` prefix)\n",
    "\n",
    "“Theoretically” because python doesn’t follow the textbook definition of such specifications. Instead, it depends on the programmer/organization as well as a unique feature of python called as name mangling using which we can mimic the actual security provided by access modifiers."
   ]
  },
  {
   "cell_type": "markdown",
   "metadata": {},
   "source": [
    "Inheritance, superclass and subclass\n",
    "\n",
    "- Inheritance allows us to define a class that inherits all the methods and properties from another class.\n",
    "- Parent class (superclass) is the class being inherited from, also called base class.\n",
    "- Child class (subclass) is the class that inherits from another class, also called derived class."
   ]
  },
  {
   "cell_type": "code",
   "execution_count": null,
   "metadata": {},
   "outputs": [],
   "source": [
    "# MyError class is a subclass of superclass Exception\n",
    "class MyError(Exception):\n",
    "    pass"
   ]
  },
  {
   "cell_type": "markdown",
   "metadata": {},
   "source": [
    "## 4.2 – Employ class and object properties"
   ]
  },
  {
   "cell_type": "markdown",
   "metadata": {},
   "source": [
    "- **instance vs. class variables: declarations and initializations**"
   ]
  },
  {
   "cell_type": "code",
   "execution_count": null,
   "metadata": {},
   "outputs": [
    {
     "name": "stdout",
     "output_type": "stream",
     "text": [
      "class\n",
      "object\n"
     ]
    }
   ],
   "source": [
    "# Instance variables are defined with the self keyword\n",
    "\n",
    "class MyClass:\n",
    "    var = \"class\"\n",
    "\n",
    "    def __init__(self):\n",
    "        self.var = \"object\"\n",
    "\n",
    "my_object = MyClass()\n",
    "print(MyClass.var)\n",
    "print(my_object.var)"
   ]
  },
  {
   "cell_type": "markdown",
   "metadata": {},
   "source": [
    "- **the `__dict__` property (objects vs. classes)**"
   ]
  },
  {
   "cell_type": "code",
   "execution_count": null,
   "metadata": {},
   "outputs": [
    {
     "name": "stdout",
     "output_type": "stream",
     "text": [
      "Class __dict__:\n",
      "__module__: __main__\n",
      "var: class\n",
      "__init__: <function MyClass.__init__ at 0x000001C70D28B740>\n",
      "__dict__: <attribute '__dict__' of 'MyClass' objects>\n",
      "__weakref__: <attribute '__weakref__' of 'MyClass' objects>\n",
      "__doc__: None\n",
      "\n",
      "Object __dict__:\n",
      "var: object\n"
     ]
    }
   ],
   "source": [
    "class MyClass:\n",
    "    var = \"class\"\n",
    "\n",
    "    def __init__(self):\n",
    "        self.var = \"object\"\n",
    "\n",
    "my_object = MyClass()\n",
    "print(f\"Class __dict__:\")\n",
    "for key, value  in MyClass.__dict__.items():\n",
    "    print(f\"{key}: {value}\")\n",
    "print()\n",
    "print(f\"Object __dict__:\")\n",
    "for key, value  in my_object.__dict__.items():\n",
    "    print(f\"{key}: {value}\")"
   ]
  },
  {
   "cell_type": "markdown",
   "metadata": {},
   "source": [
    "As we can see, object don't have any special properties that class has"
   ]
  },
  {
   "cell_type": "markdown",
   "metadata": {},
   "source": [
    "- **private components (instances vs. classes)**"
   ]
  },
  {
   "cell_type": "markdown",
   "metadata": {},
   "source": [
    "I'm once again surprised what they meant here. Private methods and variables? - explained two times. Special properties? We can see the difference above."
   ]
  },
  {
   "cell_type": "markdown",
   "metadata": {},
   "source": [
    "- **name mangling**"
   ]
  },
  {
   "cell_type": "markdown",
   "metadata": {},
   "source": [
    "In name mangling process any identifier with two leading underscore and max one trailing underscore is textually replaced with `_classname__identifier` where `classname` is the name of the current class."
   ]
  },
  {
   "cell_type": "code",
   "execution_count": null,
   "metadata": {},
   "outputs": [
    {
     "name": "stdout",
     "output_type": "stream",
     "text": [
      "Kacperus\n"
     ]
    },
    {
     "ename": "AttributeError",
     "evalue": "type object 'Student' has no attribute '__name'",
     "output_type": "error",
     "traceback": [
      "\u001b[1;31m---------------------------------------------------------------------------\u001b[0m",
      "\u001b[1;31mAttributeError\u001b[0m                            Traceback (most recent call last)",
      "Cell \u001b[1;32mIn[83], line 8\u001b[0m\n\u001b[0;32m      5\u001b[0m     nick \u001b[38;5;241m=\u001b[39m __name \u001b[38;5;241m+\u001b[39m \u001b[38;5;124m\"\u001b[39m\u001b[38;5;124mus\u001b[39m\u001b[38;5;124m\"\u001b[39m\n\u001b[0;32m      7\u001b[0m \u001b[38;5;28mprint\u001b[39m(Student\u001b[38;5;241m.\u001b[39mnick)\n\u001b[1;32m----> 8\u001b[0m \u001b[38;5;28mprint\u001b[39m(\u001b[43mStudent\u001b[49m\u001b[38;5;241;43m.\u001b[39;49m\u001b[43m__name\u001b[49m)\n",
      "\u001b[1;31mAttributeError\u001b[0m: type object 'Student' has no attribute '__name'"
     ]
    }
   ],
   "source": [
    "# __name variable outside the class definition is not seen with that name...\n",
    "\n",
    "class Student:  \n",
    "    __name = \"Kacper\"\n",
    "    nick = __name + \"us\"\n",
    "\n",
    "print(Student.nick)\n",
    "print(Student.__name)"
   ]
  },
  {
   "cell_type": "code",
   "execution_count": null,
   "metadata": {},
   "outputs": [
    {
     "name": "stdout",
     "output_type": "stream",
     "text": [
      "Kacperus\n",
      "Kacper\n"
     ]
    }
   ],
   "source": [
    "# __name changed to _Student__name outsie the class\n",
    "\n",
    "class Student:  \n",
    "    __name = \"Kacper\"\n",
    "    nick = __name + \"us\"\n",
    "\n",
    "print(Student.nick)\n",
    "print(Student._Student__name)"
   ]
  },
  {
   "cell_type": "code",
   "execution_count": 130,
   "metadata": {},
   "outputs": [
    {
     "name": "stdout",
     "output_type": "stream",
     "text": [
      "In child class\n"
     ]
    }
   ],
   "source": [
    "# This naturally shows method overriding...\n",
    "\n",
    "class Map:\n",
    "    def __init__(self):  \n",
    "        self.geek()  \n",
    "          \n",
    "    def geek(self):\n",
    "        print(\"In parent class\")\n",
    "\n",
    "class MapSubclass(Map):\n",
    "    def geek(self):          \n",
    "        print(\"In child class\") \n",
    "          \n",
    "obj = MapSubclass()"
   ]
  },
  {
   "cell_type": "code",
   "execution_count": 132,
   "metadata": {},
   "outputs": [
    {
     "name": "stdout",
     "output_type": "stream",
     "text": [
      "In parent class\n",
      "In parent class\n",
      "In child class\n"
     ]
    }
   ],
   "source": [
    "# But with mangling it's not so obvious\n",
    "# Defining SubClass object invokes superclass' __init__, since sub don't have one\n",
    "# And __geek() inside that __init__ will expand to _Map__geek() which is superclass method\n",
    "\n",
    "class Map:  \n",
    "    def __init__(self):  \n",
    "        self.__geek()  \n",
    "          \n",
    "    def __geek(self):\n",
    "        print(\"In parent class\")\n",
    "\n",
    "class MapSubclass(Map):\n",
    "    def __geek(self):\n",
    "        print(\"In child class\")\n",
    "          \n",
    "obj = MapSubclass()\n",
    "obj._Map__geek()\n",
    "obj._MapSubclass__geek()"
   ]
  },
  {
   "cell_type": "markdown",
   "metadata": {},
   "source": [
    "Additional tip:\n",
    "\n",
    "It appears that in default subclass definition can't see superclass components."
   ]
  },
  {
   "cell_type": "markdown",
   "metadata": {},
   "source": [
    "## 4.3 – Equip a class with methods"
   ]
  },
  {
   "cell_type": "markdown",
   "metadata": {},
   "source": [
    "- **declaring and using methods**"
   ]
  }
 ],
 "metadata": {
  "kernelspec": {
   "display_name": "Python 3",
   "language": "python",
   "name": "python3"
  },
  "language_info": {
   "codemirror_mode": {
    "name": "ipython",
    "version": 3
   },
   "file_extension": ".py",
   "mimetype": "text/x-python",
   "name": "python",
   "nbconvert_exporter": "python",
   "pygments_lexer": "ipython3",
   "version": "3.11.5"
  }
 },
 "nbformat": 4,
 "nbformat_minor": 2
}
