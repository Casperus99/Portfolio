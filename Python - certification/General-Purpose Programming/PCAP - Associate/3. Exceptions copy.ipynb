{
 "cells": [
  {
   "cell_type": "markdown",
   "metadata": {},
   "source": [
    "# **Section 3**: Strings (18%)"
   ]
  },
  {
   "cell_type": "markdown",
   "metadata": {},
   "source": [
    "## 3.1 – Understand machine representation of characters"
   ]
  },
  {
   "cell_type": "markdown",
   "metadata": {},
   "source": [
    "- **encoding standards: ASCII, UNICODE, UTF-8, code points, escape sequences**"
   ]
  },
  {
   "cell_type": "markdown",
   "metadata": {},
   "source": [
    "ASCII (American Standard Code for Information Interchange) - an acronym for American Standard Code for Information Interchange, is a character encoding standard for electronic communication. ASCII codes represent text in computers, telecommunications equipment, and other devices. They usually consist of 128 codes (0-127), but in extended version that number exceeds to 256 (0-255)\n",
    "\n",
    "![alt text](Images/ASCII-Code.png)"
   ]
  },
  {
   "cell_type": "code",
   "execution_count": null,
   "metadata": {},
   "outputs": [
    {
     "data": {
      "text/plain": [
       "\"'\\\\u0119'\""
      ]
     },
     "execution_count": 8,
     "metadata": {},
     "output_type": "execute_result"
    }
   ],
   "source": [
    "# ascii() function returns a string containing a printable representation of an object and escapes the non-ASCII characters in the string using \\x, \\u or \\U escapes.\n",
    "# It’s a built-in function that takes one argument and returns a string that represents the object using only ASCII characters.\n",
    "\n",
    "ascii('ę') # returns unicode code in hex"
   ]
  },
  {
   "cell_type": "markdown",
   "metadata": {},
   "source": [
    "TODO"
   ]
  },
  {
   "cell_type": "markdown",
   "metadata": {},
   "source": [
    "## 3.2 – Operate on strings"
   ]
  },
  {
   "cell_type": "markdown",
   "metadata": {},
   "source": [
    "- **functions: ord(), chr()**"
   ]
  },
  {
   "cell_type": "code",
   "execution_count": null,
   "metadata": {},
   "outputs": [
    {
     "data": {
      "text/plain": [
       "281"
      ]
     },
     "execution_count": 7,
     "metadata": {},
     "output_type": "execute_result"
    }
   ],
   "source": [
    "# ord(char) - returns the decimal number representing the unicode code of a specified character\n",
    "\n",
    "ord('ę')"
   ]
  },
  {
   "cell_type": "code",
   "execution_count": 16,
   "metadata": {},
   "outputs": [
    {
     "data": {
      "text/plain": [
       "'ę'"
      ]
     },
     "execution_count": 16,
     "metadata": {},
     "output_type": "execute_result"
    }
   ],
   "source": [
    "# chr(int) - returns the character that represents the specified unicode\n",
    "\n",
    "chr(281)"
   ]
  },
  {
   "cell_type": "markdown",
   "metadata": {},
   "source": [
    "- **indexing, slicing, immutability**"
   ]
  },
  {
   "cell_type": "markdown",
   "metadata": {},
   "source": [
    "This subject was described in PCEP but here is small recap:"
   ]
  },
  {
   "cell_type": "code",
   "execution_count": null,
   "metadata": {},
   "outputs": [
    {
     "name": "stdout",
     "output_type": "stream",
     "text": [
      "s\n",
      "ffec\n"
     ]
    },
    {
     "ename": "TypeError",
     "evalue": "'str' object does not support item assignment",
     "output_type": "error",
     "traceback": [
      "\u001b[1;31m---------------------------------------------------------------------------\u001b[0m",
      "\u001b[1;31mTypeError\u001b[0m                                 Traceback (most recent call last)",
      "Cell \u001b[1;32mIn[17], line 10\u001b[0m\n\u001b[0;32m      7\u001b[0m \u001b[38;5;28mprint\u001b[39m(my_string[\u001b[38;5;241m1\u001b[39m:\u001b[38;5;241m5\u001b[39m])\n\u001b[0;32m      9\u001b[0m \u001b[38;5;66;03m# immutability\u001b[39;00m\n\u001b[1;32m---> 10\u001b[0m \u001b[43mmy_string\u001b[49m\u001b[43m[\u001b[49m\u001b[38;5;241;43m0\u001b[39;49m\u001b[43m]\u001b[49m \u001b[38;5;241m=\u001b[39m \u001b[38;5;124m'\u001b[39m\u001b[38;5;124m3\u001b[39m\u001b[38;5;124m'\u001b[39m\n",
      "\u001b[1;31mTypeError\u001b[0m: 'str' object does not support item assignment"
     ]
    }
   ],
   "source": [
    "my_string = \"Effectiveness\"\n",
    "\n",
    "# indexing\n",
    "print(my_string[-1])\n",
    "\n",
    "# slicing\n",
    "print(my_string[1:5])\n",
    "\n",
    "# immutability (it will rise an error)\n",
    "my_string[0] = '3'"
   ]
  },
  {
   "cell_type": "markdown",
   "metadata": {},
   "source": [
    "- **iterating through strings, concatenating, multiplying, comparing (against strings and numbers)**"
   ]
  },
  {
   "cell_type": "markdown",
   "metadata": {},
   "source": [
    "This subject was also described in PCEP"
   ]
  },
  {
   "cell_type": "code",
   "execution_count": null,
   "metadata": {},
   "outputs": [
    {
     "name": "stdout",
     "output_type": "stream",
     "text": [
      "II nn tt ee rr pp oo ll aa tt ii oo nn "
     ]
    }
   ],
   "source": [
    "# iterating and multiplying\n",
    "for char in \"Interpolation\":\n",
    "    print(char*2, end=\" \")"
   ]
  },
  {
   "cell_type": "code",
   "execution_count": null,
   "metadata": {},
   "outputs": [
    {
     "name": "stdout",
     "output_type": "stream",
     "text": [
      "Hello World\n"
     ]
    }
   ],
   "source": [
    "# concatenating\n",
    "print(\"Hello\" + \" \" + \"World\")"
   ]
  },
  {
   "cell_type": "code",
   "execution_count": 31,
   "metadata": {},
   "outputs": [
    {
     "name": "stdout",
     "output_type": "stream",
     "text": [
      "False\n",
      "False\n",
      "True\n",
      "True\n"
     ]
    }
   ],
   "source": [
    "# comparing (agains strings and numbers)\n",
    "print(\"64\" == 64)\n",
    "print(\"ę\" == 281) # unicode code\n",
    "print(\"64\" == str(64))\n",
    "print(int(\"-64\") == -64)"
   ]
  },
  {
   "cell_type": "markdown",
   "metadata": {},
   "source": [
    "- **operators: in, not in**"
   ]
  },
  {
   "cell_type": "code",
   "execution_count": 36,
   "metadata": {},
   "outputs": [
    {
     "name": "stdout",
     "output_type": "stream",
     "text": [
      "'dis' is in the 'discipline'\n"
     ]
    }
   ],
   "source": [
    "if 'dis' in \"discipline\":\n",
    "    print(\"'dis' is in the 'discipline'\")"
   ]
  },
  {
   "cell_type": "code",
   "execution_count": 38,
   "metadata": {},
   "outputs": [
    {
     "name": "stdout",
     "output_type": "stream",
     "text": [
      "'lines' is not in the 'discipline'\n"
     ]
    }
   ],
   "source": [
    "if 'lines' not in \"discipline\":\n",
    "    print(\"'lines' is not in the 'discipline'\")"
   ]
  },
  {
   "cell_type": "markdown",
   "metadata": {},
   "source": [
    "## 3.3 – Employ built-in string methods"
   ]
  },
  {
   "cell_type": "markdown",
   "metadata": {},
   "source": [
    "- **methods: *.isxxx(), .join(), .split(), .sort(), sorted(), .index(), .find(), .rfind()***"
   ]
  },
  {
   "cell_type": "code",
   "execution_count": 53,
   "metadata": {},
   "outputs": [
    {
     "name": "stdout",
     "output_type": "stream",
     "text": [
      "# 1\n",
      "True\n",
      "False\n",
      "# 2\n",
      "True\n",
      "False\n",
      "# 3\n",
      "True\n",
      "False\n"
     ]
    }
   ],
   "source": [
    "# .isxxx() (e.g. isalnum, isascii, islower) - methods that check if string consists of the specific characters\n",
    "print(\"# 1\")\n",
    "print(\"casperus99\".isalnum())\n",
    "print(\"My name is Casper\".isalnum()) # it has blanks\n",
    "print(\"# 2\")\n",
    "print(\"casperus99\".isascii())\n",
    "print(\"jestem zmęczony\".isascii()) # it has letter 'ę'\n",
    "print(\"# 3\")\n",
    "print(\"casperus99\".islower())\n",
    "print(\"Casperus99\".islower()) # it has uppercase letter 'C'"
   ]
  },
  {
   "cell_type": "code",
   "execution_count": 57,
   "metadata": {},
   "outputs": [
    {
     "name": "stdout",
     "output_type": "stream",
     "text": [
      "Veni Vidi Vici\n",
      "\n",
      "Encapsulation\n"
     ]
    }
   ],
   "source": [
    "# string.join(iterable) - takes all items in an iterable and joins them into one chain with string as separator\n",
    "\n",
    "print(\" \".join(['Veni', 'Vidi', 'Vici']))\n",
    "print()\n",
    "print(\"\".join(['En', 'capsu', 'lation']))"
   ]
  },
  {
   "cell_type": "markdown",
   "metadata": {},
   "source": [
    "Rest of them were covered in PCEP"
   ]
  }
 ],
 "metadata": {
  "kernelspec": {
   "display_name": "Python 3",
   "language": "python",
   "name": "python3"
  },
  "language_info": {
   "codemirror_mode": {
    "name": "ipython",
    "version": 3
   },
   "file_extension": ".py",
   "mimetype": "text/x-python",
   "name": "python",
   "nbconvert_exporter": "python",
   "pygments_lexer": "ipython3",
   "version": "3.11.5"
  }
 },
 "nbformat": 4,
 "nbformat_minor": 2
}
