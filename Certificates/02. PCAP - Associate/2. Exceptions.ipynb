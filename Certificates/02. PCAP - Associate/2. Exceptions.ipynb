{
 "cells": [
  {
   "cell_type": "markdown",
   "metadata": {},
   "source": [
    "# **Section 2**: Exceptions (14%)"
   ]
  },
  {
   "cell_type": "markdown",
   "metadata": {},
   "source": [
    "## 2.1 – Handle errors using Python-defined exceptions"
   ]
  },
  {
   "cell_type": "markdown",
   "metadata": {},
   "source": [
    "- **except, except:-except, except:-else:, except (e1, e2)**"
   ]
  },
  {
   "cell_type": "code",
   "execution_count": 1,
   "metadata": {},
   "outputs": [
    {
     "name": "stdout",
     "output_type": "stream",
     "text": [
      "User Exception: Something went wrong\n"
     ]
    }
   ],
   "source": [
    "# Basic except\n",
    "# If any exception raises in 'try' block, the except block runs\n",
    "\n",
    "try:\n",
    "    print(polynomial)\n",
    "except:\n",
    "    print(\"User Exception: Something went wrong\")"
   ]
  },
  {
   "cell_type": "code",
   "execution_count": 4,
   "metadata": {},
   "outputs": [
    {
     "name": "stdout",
     "output_type": "stream",
     "text": [
      "User Exception: Something went wrong\n"
     ]
    }
   ],
   "source": [
    "# except Exception:\n",
    "# With this syntax we specify which exceptions are meant to be cached with this specific except block\n",
    "# Every subclass exception is also catched\n",
    "\n",
    "try:\n",
    "    print(polynomial)\n",
    "except Exception:\n",
    "    print(\"User Exception: Something went wrong\")\n"
   ]
  },
  {
   "cell_type": "code",
   "execution_count": 6,
   "metadata": {},
   "outputs": [
    {
     "name": "stdout",
     "output_type": "stream",
     "text": [
      "User Exception: Something went wrong\n"
     ]
    }
   ],
   "source": [
    "# We can create many branches of except blocks. One should remember that they should be defined from the lowest subclass to the highest.\n",
    "\n",
    "try:\n",
    "    print(polynomial)\n",
    "except SyntaxError:\n",
    "    print(\"Syntax Error\")\n",
    "except Exception:\n",
    "    print(\"User Exception: Something went wrong\")\n",
    "except:\n",
    "    print(\"Error\")"
   ]
  },
  {
   "cell_type": "code",
   "execution_count": 10,
   "metadata": {},
   "outputs": [
    {
     "name": "stdout",
     "output_type": "stream",
     "text": [
      "User Exception: Something went wrong\n",
      "polynomial\n",
      "Everything went fine!\n"
     ]
    }
   ],
   "source": [
    "# except: -else:\n",
    "# The else block will run only if the try block went without errors\n",
    "\n",
    "try:\n",
    "    print(polynomial)\n",
    "except:\n",
    "    print(\"User Exception: Something went wrong\")\n",
    "else:\n",
    "    print(\"Everything went fine!\")\n",
    "\n",
    "try:\n",
    "    print('polynomial')\n",
    "except:\n",
    "    print(\"User Exception: Something went wrong\")\n",
    "else:\n",
    "    print(\"Everything went fine!\")"
   ]
  },
  {
   "cell_type": "code",
   "execution_count": 14,
   "metadata": {},
   "outputs": [
    {
     "name": "stdout",
     "output_type": "stream",
     "text": [
      "User Exception: Something went wrong\n"
     ]
    }
   ],
   "source": [
    "# except (Ex1, Ex2)\n",
    "# If you want to have the same response to some types of exceptions, you can group them into one except clause:\n",
    "\n",
    "try:\n",
    "    print(5/0)\n",
    "except (ZeroDivisionError, KeyboardInterrupt):\n",
    "    print(\"User Exception: Something went wrong\")"
   ]
  },
  {
   "cell_type": "markdown",
   "metadata": {},
   "source": [
    "- **the hierarchy of exceptions**"
   ]
  },
  {
   "cell_type": "markdown",
   "metadata": {},
   "source": [
    "Most of the hierarchy was covered in the previous certificate, but here is a summary:\n",
    "\n",
    "![alt text](Images/Exceptions_hierarchy.png)\n",
    "\n",
    "###### Source: https://dotnettutorials.net/lesson/exception-handling-in-python/"
   ]
  },
  {
   "cell_type": "markdown",
   "metadata": {},
   "source": [
    "- **raise, raise ex**"
   ]
  },
  {
   "cell_type": "code",
   "execution_count": 24,
   "metadata": {},
   "outputs": [
    {
     "name": "stdout",
     "output_type": "stream",
     "text": [
      "User can't divide\n",
      "User exception\n"
     ]
    }
   ],
   "source": [
    "# We can raise exceptions up:\n",
    "\n",
    "def divide(a, b):\n",
    "    try:\n",
    "        return a/b\n",
    "    except Exception:\n",
    "        raise #Raises the last exception\n",
    "    \n",
    "try:\n",
    "    divide(5, 0) # We try to divide by zero so ZeroDivisionError occures\n",
    "except ZeroDivisionError:\n",
    "    print(\"User can't divide\")\n",
    "except Exception:\n",
    "    print(\"User exception\")\n",
    "except:\n",
    "    print(\"User error\")\n",
    "\n",
    "try:\n",
    "    divide(5, \"awd\") # We try to divide by string so TypeError occures catched by except: Exception block\n",
    "except ZeroDivisionError:\n",
    "    print(\"User can't divide\")\n",
    "except Exception:\n",
    "    print(\"User exception\")\n",
    "except:\n",
    "    print(\"User error\")\n"
   ]
  },
  {
   "cell_type": "code",
   "execution_count": 30,
   "metadata": {},
   "outputs": [
    {
     "ename": "ZeroDivisionError",
     "evalue": "My own message",
     "output_type": "error",
     "traceback": [
      "\u001b[1;31m---------------------------------------------------------------------------\u001b[0m",
      "\u001b[1;31mZeroDivisionError\u001b[0m                         Traceback (most recent call last)",
      "Cell \u001b[1;32mIn[30], line 5\u001b[0m, in \u001b[0;36mdivide\u001b[1;34m(a, b)\u001b[0m\n\u001b[0;32m      4\u001b[0m \u001b[38;5;28;01mtry\u001b[39;00m:\n\u001b[1;32m----> 5\u001b[0m     \u001b[38;5;28;01mreturn\u001b[39;00m \u001b[43ma\u001b[49m\u001b[38;5;241;43m/\u001b[39;49m\u001b[43mb\u001b[49m\n\u001b[0;32m      6\u001b[0m \u001b[38;5;28;01mexcept\u001b[39;00m \u001b[38;5;167;01mZeroDivisionError\u001b[39;00m:\n",
      "\u001b[1;31mZeroDivisionError\u001b[0m: division by zero",
      "\nDuring handling of the above exception, another exception occurred:\n",
      "\u001b[1;31mZeroDivisionError\u001b[0m                         Traceback (most recent call last)",
      "Cell \u001b[1;32mIn[30], line 10\u001b[0m\n\u001b[0;32m      6\u001b[0m     \u001b[38;5;28;01mexcept\u001b[39;00m \u001b[38;5;167;01mZeroDivisionError\u001b[39;00m:\n\u001b[0;32m      7\u001b[0m         \u001b[38;5;28;01mraise\u001b[39;00m \u001b[38;5;167;01mZeroDivisionError\u001b[39;00m(\u001b[38;5;124m\"\u001b[39m\u001b[38;5;124mMy own message\u001b[39m\u001b[38;5;124m\"\u001b[39m)\n\u001b[1;32m---> 10\u001b[0m \u001b[43mdivide\u001b[49m\u001b[43m(\u001b[49m\u001b[38;5;241;43m5\u001b[39;49m\u001b[43m,\u001b[49m\u001b[43m \u001b[49m\u001b[38;5;241;43m0\u001b[39;49m\u001b[43m)\u001b[49m \u001b[38;5;66;03m# We try to divide by zero\u001b[39;00m\n",
      "Cell \u001b[1;32mIn[30], line 7\u001b[0m, in \u001b[0;36mdivide\u001b[1;34m(a, b)\u001b[0m\n\u001b[0;32m      5\u001b[0m     \u001b[38;5;28;01mreturn\u001b[39;00m a\u001b[38;5;241m/\u001b[39mb\n\u001b[0;32m      6\u001b[0m \u001b[38;5;28;01mexcept\u001b[39;00m \u001b[38;5;167;01mZeroDivisionError\u001b[39;00m:\n\u001b[1;32m----> 7\u001b[0m     \u001b[38;5;28;01mraise\u001b[39;00m \u001b[38;5;167;01mZeroDivisionError\u001b[39;00m(\u001b[38;5;124m\"\u001b[39m\u001b[38;5;124mMy own message\u001b[39m\u001b[38;5;124m\"\u001b[39m)\n",
      "\u001b[1;31mZeroDivisionError\u001b[0m: My own message"
     ]
    }
   ],
   "source": [
    "# And we can also raise specific exceptions with our own arguments, e.g. message\n",
    "\n",
    "def divide(a, b):\n",
    "    try:\n",
    "        return a/b\n",
    "    except ZeroDivisionError:\n",
    "        raise ZeroDivisionError(\"My own message\")\n",
    "    \n",
    "\n",
    "divide(5, 0)\n"
   ]
  },
  {
   "cell_type": "markdown",
   "metadata": {},
   "source": [
    "- **assert**"
   ]
  },
  {
   "cell_type": "code",
   "execution_count": 120,
   "metadata": {},
   "outputs": [
    {
     "ename": "AssertionError",
     "evalue": "",
     "output_type": "error",
     "traceback": [
      "\u001b[1;31m---------------------------------------------------------------------------\u001b[0m",
      "\u001b[1;31mAssertionError\u001b[0m                            Traceback (most recent call last)",
      "Cell \u001b[1;32mIn[120], line 7\u001b[0m\n\u001b[0;32m      4\u001b[0m \u001b[38;5;28;01massert\u001b[39;00m x \u001b[38;5;241m==\u001b[39m \u001b[38;5;124m\"\u001b[39m\u001b[38;5;124mhello\u001b[39m\u001b[38;5;124m\"\u001b[39m\n\u001b[0;32m      6\u001b[0m \u001b[38;5;66;03m#if condition returns False, AssertionError is raised:\u001b[39;00m\n\u001b[1;32m----> 7\u001b[0m \u001b[38;5;28;01massert\u001b[39;00m x \u001b[38;5;241m==\u001b[39m \u001b[38;5;124m\"\u001b[39m\u001b[38;5;124mgoodbye\u001b[39m\u001b[38;5;124m\"\u001b[39m\n",
      "\u001b[1;31mAssertionError\u001b[0m: "
     ]
    }
   ],
   "source": [
    "# The 'assert' keyword is used when debugging code or during tests\n",
    " \n",
    "x = \"hello\"\n",
    "\n",
    "#if condition returns True, then nothing happens:\n",
    "assert x == \"hello\"\n",
    "\n",
    "#if condition returns False, AssertionError is raised:\n",
    "assert x == \"goodbye\""
   ]
  },
  {
   "cell_type": "code",
   "execution_count": 124,
   "metadata": {},
   "outputs": [
    {
     "ename": "AssertionError",
     "evalue": "welcome should be 'hello'",
     "output_type": "error",
     "traceback": [
      "\u001b[1;31m---------------------------------------------------------------------------\u001b[0m",
      "\u001b[1;31mAssertionError\u001b[0m                            Traceback (most recent call last)",
      "Cell \u001b[1;32mIn[124], line 4\u001b[0m\n\u001b[0;32m      1\u001b[0m x \u001b[38;5;241m=\u001b[39m \u001b[38;5;124m\"\u001b[39m\u001b[38;5;124mwelcome\u001b[39m\u001b[38;5;124m\"\u001b[39m\n\u001b[0;32m      3\u001b[0m \u001b[38;5;66;03m# You can write a message to be written if the code returns False:\u001b[39;00m\n\u001b[1;32m----> 4\u001b[0m \u001b[38;5;28;01massert\u001b[39;00m x \u001b[38;5;241m==\u001b[39m \u001b[38;5;124m\"\u001b[39m\u001b[38;5;124mhello\u001b[39m\u001b[38;5;124m\"\u001b[39m, \u001b[38;5;124mf\u001b[39m\u001b[38;5;124m\"\u001b[39m\u001b[38;5;132;01m{\u001b[39;00mx\u001b[38;5;132;01m}\u001b[39;00m\u001b[38;5;124m should be \u001b[39m\u001b[38;5;124m'\u001b[39m\u001b[38;5;124mhello\u001b[39m\u001b[38;5;124m'\u001b[39m\u001b[38;5;124m\"\u001b[39m\n",
      "\u001b[1;31mAssertionError\u001b[0m: welcome should be 'hello'"
     ]
    }
   ],
   "source": [
    "x = \"welcome\"\n",
    "\n",
    "# You can write a message to be written if the code returns False:\n",
    "assert x == \"hello\", f\"{x} should be 'hello'\""
   ]
  },
  {
   "cell_type": "markdown",
   "metadata": {},
   "source": [
    "- **event classes**"
   ]
  },
  {
   "cell_type": "markdown",
   "metadata": {},
   "source": [
    "(I haven't found anything that could be connected to this topic. There is logging or thread package but I don't really think it's about them. Topic regarding them would be named differently in my opinion)"
   ]
  },
  {
   "cell_type": "markdown",
   "metadata": {},
   "source": [
    "- **except Exception as e**"
   ]
  },
  {
   "cell_type": "code",
   "execution_count": 125,
   "metadata": {},
   "outputs": [
    {
     "name": "stdout",
     "output_type": "stream",
     "text": [
      "Unexpected error happened: name 'polynomial' is not defined\n"
     ]
    }
   ],
   "source": [
    "# With that syntax we can get into exception attributes like message:\n",
    "\n",
    "try:\n",
    "    print(polynomial)\n",
    "except Exception as e:\n",
    "    print(f\"Unexpected error happened: {str(e)}\")"
   ]
  },
  {
   "cell_type": "markdown",
   "metadata": {},
   "source": [
    "- **the *arg* property**"
   ]
  },
  {
   "cell_type": "markdown",
   "metadata": {},
   "source": [
    "I found only OSError that could have arg property:\n",
    "\n",
    "![alt text](Images/OSError_doc.png)"
   ]
  },
  {
   "cell_type": "markdown",
   "metadata": {},
   "source": [
    "Maybe they meant *args and *kwargs, but it's not really connected to the Exception subject"
   ]
  },
  {
   "cell_type": "markdown",
   "metadata": {},
   "source": [
    "## 2.2 – Extend the Python exceptions hierarchy with self-defined exceptions"
   ]
  },
  {
   "cell_type": "markdown",
   "metadata": {},
   "source": [
    "- **self-defined exceptions**"
   ]
  },
  {
   "cell_type": "markdown",
   "metadata": {},
   "source": [
    "Exceptions need to be derived from the Exception class, either directly or indirectly. Although not mandatory, most of the exceptions are named as names that end in “Error” similar to the naming of the standard exceptions in python."
   ]
  },
  {
   "cell_type": "markdown",
   "metadata": {},
   "source": [
    "- **defining and using self-defined exceptions**"
   ]
  },
  {
   "cell_type": "code",
   "execution_count": 131,
   "metadata": {},
   "outputs": [
    {
     "name": "stdout",
     "output_type": "stream",
     "text": [
      "A New Exception occurred:  6\n",
      "Global error flg state: True\n"
     ]
    }
   ],
   "source": [
    "global_error_flg = False\n",
    "\n",
    "# A python program to create user-defined exception\n",
    "# class MyError is derived from super class Exception\n",
    "class MyError(Exception):\n",
    " \n",
    "    # Constructor or Initializer\n",
    "    def __init__(self, value):\n",
    "        self.value = value\n",
    "        self.set_global_err_flg()\n",
    " \n",
    "    # __str__ is to print() the value\n",
    "    def __str__(self):\n",
    "        return(repr(self.value))\n",
    "    \n",
    "    # We can expand the class with methods\n",
    "    def set_global_err_flg(self):\n",
    "        global global_error_flg\n",
    "        global_error_flg = True\n",
    "\n",
    "\n",
    "try:\n",
    "    raise(MyError(3*2))\n",
    " \n",
    "# Value of Exception is stored in error\n",
    "except MyError as error:\n",
    "    print('A New Exception occurred: ', error.value)\n",
    "    print(f\"Global error flg state: {global_error_flg}\")"
   ]
  }
 ],
 "metadata": {
  "kernelspec": {
   "display_name": "Python 3",
   "language": "python",
   "name": "python3"
  },
  "language_info": {
   "codemirror_mode": {
    "name": "ipython",
    "version": 3
   },
   "file_extension": ".py",
   "mimetype": "text/x-python",
   "name": "python",
   "nbconvert_exporter": "python",
   "pygments_lexer": "ipython3",
   "version": "3.11.5"
  }
 },
 "nbformat": 4,
 "nbformat_minor": 2
}
