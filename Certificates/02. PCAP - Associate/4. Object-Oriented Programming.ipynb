{
 "cells": [
  {
   "cell_type": "markdown",
   "metadata": {},
   "source": [
    "# **Section 4**: Object-Oriented Programming (34%)"
   ]
  },
  {
   "cell_type": "markdown",
   "metadata": {},
   "source": [
    "## 4.1 – Understand the Object-Oriented approach"
   ]
  },
  {
   "cell_type": "markdown",
   "metadata": {},
   "source": [
    "- **ideas and notions: class, object, property, method, encapsulation, inheritance, superclass, subclass, identifying class components**"
   ]
  },
  {
   "cell_type": "code",
   "execution_count": null,
   "metadata": {},
   "outputs": [],
   "source": [
    "# class - it's like an object constructor, or a \"blueprint\" for creating objects\n",
    "\n",
    "class MyClass:\n",
    "    pass"
   ]
  },
  {
   "cell_type": "code",
   "execution_count": null,
   "metadata": {},
   "outputs": [],
   "source": [
    "# object - instance of a specific class\n",
    "\n",
    "my_object = MyClass()"
   ]
  },
  {
   "cell_type": "code",
   "execution_count": 117,
   "metadata": {},
   "outputs": [
    {
     "data": {
      "text/plain": [
       "'name'"
      ]
     },
     "execution_count": 117,
     "metadata": {},
     "output_type": "execute_result"
    }
   ],
   "source": [
    "# Property is a variable that belongs to a class or object\n",
    "# For example:\n",
    "\n",
    "class MyClass:\n",
    "    x = \"name\"\n",
    "\n",
    "MyClass.x"
   ]
  },
  {
   "cell_type": "code",
   "execution_count": 11,
   "metadata": {},
   "outputs": [
    {
     "data": {
      "text/plain": [
       "8"
      ]
     },
     "execution_count": 11,
     "metadata": {},
     "output_type": "execute_result"
    }
   ],
   "source": [
    "# method - it's a function that is linked with the class where it's defined\n",
    "\n",
    "class Calcualtor():\n",
    "    def add(a1, a2):\n",
    "        return a1 + a2\n",
    "    \n",
    "Calcualtor.add(3, 5)"
   ]
  },
  {
   "cell_type": "markdown",
   "metadata": {},
   "source": [
    "Encapsulation was covered in the 1st section:\n",
    "\n",
    "- Public Access Modifier: Theoretically, public methods and fields can be accessed directly by any class. (no prefix)\n",
    "- Protected Access Modifier: Theoretically, protected methods and fields can be accessed within the same class it is declared and its subclass.  (`_` prefix)\n",
    "- Private Access Modifier: Theoretically, private methods and fields can be only accessed within the same class it is declared. (`__` prefix)\n",
    "\n",
    "“Theoretically” because python doesn’t follow the textbook definition of such specifications. Instead, it depends on the programmer/organization as well as a unique feature of python called as name mangling using which we can mimic the actual security provided by access modifiers."
   ]
  },
  {
   "cell_type": "markdown",
   "metadata": {},
   "source": [
    "Inheritance, superclass and subclass\n",
    "\n",
    "- Inheritance allows us to define a class that inherits all the methods and properties from another class.\n",
    "- Parent class (superclass) is the class being inherited from, also called base class.\n",
    "- Child class (subclass) is the class that inherits from another class, also called derived class."
   ]
  },
  {
   "cell_type": "code",
   "execution_count": null,
   "metadata": {},
   "outputs": [],
   "source": [
    "# MyError class is a subclass of superclass Exception\n",
    "class MyError(Exception):\n",
    "    pass"
   ]
  },
  {
   "cell_type": "markdown",
   "metadata": {},
   "source": [
    "## 4.2 – Employ class and object properties"
   ]
  },
  {
   "cell_type": "markdown",
   "metadata": {},
   "source": [
    "- **instance vs. class variables: declarations and initializations**"
   ]
  },
  {
   "cell_type": "code",
   "execution_count": 6,
   "metadata": {},
   "outputs": [
    {
     "name": "stdout",
     "output_type": "stream",
     "text": [
      "class\n",
      "object\n"
     ]
    }
   ],
   "source": [
    "# Instance variables are defined with the self keyword\n",
    "\n",
    "class MyClass:\n",
    "    var = \"class\"\n",
    "\n",
    "    def __init__(self):\n",
    "        self.var = \"object\"\n",
    "\n",
    "my_object = MyClass()\n",
    "print(MyClass.var)\n",
    "print(my_object.var)"
   ]
  },
  {
   "cell_type": "markdown",
   "metadata": {},
   "source": [
    "- **the `__dict__` property (objects vs. classes)**"
   ]
  },
  {
   "cell_type": "code",
   "execution_count": 7,
   "metadata": {},
   "outputs": [
    {
     "name": "stdout",
     "output_type": "stream",
     "text": [
      "Class __dict__:\n",
      "__module__: __main__\n",
      "var: class\n",
      "__init__: <function MyClass.__init__ at 0x0000022E1B6202C0>\n",
      "__dict__: <attribute '__dict__' of 'MyClass' objects>\n",
      "__weakref__: <attribute '__weakref__' of 'MyClass' objects>\n",
      "__doc__: None\n",
      "\n",
      "Object __dict__:\n",
      "var: object\n"
     ]
    }
   ],
   "source": [
    "class MyClass:\n",
    "    var = \"class\"\n",
    "\n",
    "    def __init__(self):\n",
    "        self.var = \"object\"\n",
    "\n",
    "my_object = MyClass()\n",
    "print(f\"Class __dict__:\")\n",
    "for key, value  in MyClass.__dict__.items():\n",
    "    print(f\"{key}: {value}\")\n",
    "print()\n",
    "print(f\"Object __dict__:\")\n",
    "for key, value  in my_object.__dict__.items():\n",
    "    print(f\"{key}: {value}\")"
   ]
  },
  {
   "cell_type": "markdown",
   "metadata": {},
   "source": [
    "As we can see, object don't have any special properties that class has"
   ]
  },
  {
   "cell_type": "markdown",
   "metadata": {},
   "source": [
    "- **private components (instances vs. classes)**"
   ]
  },
  {
   "cell_type": "markdown",
   "metadata": {},
   "source": [
    "I'm once again surprised what they meant here. Private methods and variables? - explained two times. Special properties? We can see the difference above."
   ]
  },
  {
   "cell_type": "markdown",
   "metadata": {},
   "source": [
    "- **name mangling**"
   ]
  },
  {
   "cell_type": "markdown",
   "metadata": {},
   "source": [
    "In name mangling process any identifier with two leading underscore and max one trailing underscore is textually replaced with `_classname__identifier` where `classname` is the name of the current class."
   ]
  },
  {
   "cell_type": "code",
   "execution_count": 8,
   "metadata": {},
   "outputs": [
    {
     "name": "stdout",
     "output_type": "stream",
     "text": [
      "Kacperus\n"
     ]
    },
    {
     "ename": "AttributeError",
     "evalue": "type object 'Student' has no attribute '__name'",
     "output_type": "error",
     "traceback": [
      "\u001b[1;31m---------------------------------------------------------------------------\u001b[0m",
      "\u001b[1;31mAttributeError\u001b[0m                            Traceback (most recent call last)",
      "Cell \u001b[1;32mIn[8], line 8\u001b[0m\n\u001b[0;32m      5\u001b[0m     nick \u001b[38;5;241m=\u001b[39m __name \u001b[38;5;241m+\u001b[39m \u001b[38;5;124m\"\u001b[39m\u001b[38;5;124mus\u001b[39m\u001b[38;5;124m\"\u001b[39m\n\u001b[0;32m      7\u001b[0m \u001b[38;5;28mprint\u001b[39m(Student\u001b[38;5;241m.\u001b[39mnick)\n\u001b[1;32m----> 8\u001b[0m \u001b[38;5;28mprint\u001b[39m(\u001b[43mStudent\u001b[49m\u001b[38;5;241;43m.\u001b[39;49m\u001b[43m__name\u001b[49m)\n",
      "\u001b[1;31mAttributeError\u001b[0m: type object 'Student' has no attribute '__name'"
     ]
    }
   ],
   "source": [
    "# __name variable outside the class definition is not seen with that name...\n",
    "\n",
    "class Student:  \n",
    "    __name = \"Kacper\"\n",
    "    nick = __name + \"us\"\n",
    "\n",
    "print(Student.nick)\n",
    "print(Student.__name)"
   ]
  },
  {
   "cell_type": "code",
   "execution_count": null,
   "metadata": {},
   "outputs": [
    {
     "name": "stdout",
     "output_type": "stream",
     "text": [
      "Kacperus\n",
      "Kacper\n"
     ]
    }
   ],
   "source": [
    "# __name changed to _Student__name outside the class\n",
    "\n",
    "class Student:  \n",
    "    __name = \"Kacper\"\n",
    "    nick = __name + \"us\"\n",
    "\n",
    "print(Student.nick)\n",
    "print(Student._Student__name)"
   ]
  },
  {
   "cell_type": "code",
   "execution_count": 130,
   "metadata": {},
   "outputs": [
    {
     "name": "stdout",
     "output_type": "stream",
     "text": [
      "In child class\n"
     ]
    }
   ],
   "source": [
    "# This naturally shows method overriding...\n",
    "\n",
    "class Map:\n",
    "    def __init__(self):  \n",
    "        self.geek()  \n",
    "          \n",
    "    def geek(self):\n",
    "        print(\"In parent class\")\n",
    "\n",
    "class MapSubclass(Map):\n",
    "    def geek(self):          \n",
    "        print(\"In child class\") \n",
    "          \n",
    "obj = MapSubclass()"
   ]
  },
  {
   "cell_type": "code",
   "execution_count": 9,
   "metadata": {},
   "outputs": [
    {
     "name": "stdout",
     "output_type": "stream",
     "text": [
      "In parent class\n",
      "In parent class\n",
      "In child class\n"
     ]
    }
   ],
   "source": [
    "# But with mangling it's not so obvious\n",
    "# Defining SubClass object invokes superclass' __init__, since sub don't have one\n",
    "# And __geek() inside that __init__ will expand to _Map__geek() which is superclass method\n",
    "\n",
    "class Map:  \n",
    "    def __init__(self):  \n",
    "        self.__geek()  \n",
    "          \n",
    "    def __geek(self):\n",
    "        print(\"In parent class\")\n",
    "\n",
    "class MapSubclass(Map):\n",
    "    def __geek(self):\n",
    "        print(\"In child class\")\n",
    "          \n",
    "obj = MapSubclass()\n",
    "obj._Map__geek()\n",
    "obj._MapSubclass__geek()"
   ]
  },
  {
   "cell_type": "markdown",
   "metadata": {},
   "source": [
    "## 4.3 – Equip a class with methods"
   ]
  },
  {
   "cell_type": "markdown",
   "metadata": {},
   "source": [
    "- **declaring and using methods**"
   ]
  },
  {
   "cell_type": "code",
   "execution_count": 35,
   "metadata": {},
   "outputs": [
    {
     "name": "stdout",
     "output_type": "stream",
     "text": [
      "hi!32\n",
      "How are you?\n"
     ]
    }
   ],
   "source": [
    "# Methods are declared just like functions\n",
    "\n",
    "class Student:\n",
    "\n",
    "    def say_hi():\n",
    "        print(\"hi!\")\n",
    "\n",
    "    def say_this(text):\n",
    "        print(str(text))\n",
    "\n",
    "# But if we want to use these functions we have to add their class as a prefix:\n",
    "Student.say_hi()\n",
    "Student.say_this(\"How are you?\")"
   ]
  },
  {
   "cell_type": "markdown",
   "metadata": {},
   "source": [
    "- **the self parameter**"
   ]
  },
  {
   "cell_type": "code",
   "execution_count": 36,
   "metadata": {},
   "outputs": [
    {
     "name": "stdout",
     "output_type": "stream",
     "text": [
      "Kacper\n"
     ]
    }
   ],
   "source": [
    "# Self parameter represents the instance of the class.\n",
    "# They are used when we want to use an instance, not the class.\n",
    "\n",
    "class Student:\n",
    "    # If we want to define something in object-scope we need to use self\n",
    "    def set_name(self, name):\n",
    "        self.name = name \n",
    "\n",
    "    def get_name(self):\n",
    "        return self.name\n",
    "    \n",
    "student_1 = Student()\n",
    "# Now, this specific object will get attribute 'name' thanks to self parameter\n",
    "# That's why method invocation follows the instance - not the class\n",
    "student_1.set_name(\"Kacper\")\n",
    "# And once again method is invoked 'on' the instance - because we want to get attribute of this specific instance\n",
    "print(student_1.get_name())"
   ]
  },
  {
   "cell_type": "markdown",
   "metadata": {},
   "source": [
    "## 4.4 – Discover the class structure"
   ]
  },
  {
   "cell_type": "markdown",
   "metadata": {},
   "source": [
    "- **introspection and the _hasattr()_ function (objects vs classes)**"
   ]
  },
  {
   "cell_type": "markdown",
   "metadata": {},
   "source": [
    "__Code Introspection__ in Python is a technique that allows a program to analyze and examine its own structure at runtime. With it, you can check object types, list available methods, inspect class attributes, modules, and even retrieve the source code of functions."
   ]
  },
  {
   "cell_type": "code",
   "execution_count": 44,
   "metadata": {},
   "outputs": [
    {
     "name": "stdout",
     "output_type": "stream",
     "text": [
      "True\n",
      "False\n",
      "True\n",
      "True\n"
     ]
    }
   ],
   "source": [
    "# hasattr(object, attribute) - returns True if the specified object has the specified attribute, otherwise False.\n",
    "# (objects vs classes) - through objects we can see class attributes, but we can't see object attributes via class.\n",
    "\n",
    "class Student:\n",
    "    x = 10\n",
    "\n",
    "    def set_y(self, val):\n",
    "        self.y = val\n",
    "\n",
    "\n",
    "student_1 = Student()\n",
    "student_1.set_y(20)\n",
    "\n",
    "print(hasattr(Student, 'x'))\n",
    "print(hasattr(Student, 'y')) # <- 'y' is an instance attribute\n",
    "print(hasattr(student_1, 'x'))\n",
    "print(hasattr(student_1, 'y'))"
   ]
  },
  {
   "cell_type": "markdown",
   "metadata": {},
   "source": [
    "- **properties: _\\_\\_name\\_\\__, _\\_\\_module\\_\\__ , _\\_\\_bases\\_\\__**"
   ]
  },
  {
   "cell_type": "code",
   "execution_count": 47,
   "metadata": {},
   "outputs": [
    {
     "name": "stdout",
     "output_type": "stream",
     "text": [
      "Student\n"
     ]
    }
   ],
   "source": [
    "# __name__ - holds the name of the class as a string\n",
    "\n",
    "class Student:\n",
    "    pass\n",
    "\n",
    "x = Student()\n",
    "print(x.__class__.__name__)"
   ]
  },
  {
   "cell_type": "code",
   "execution_count": 49,
   "metadata": {},
   "outputs": [
    {
     "name": "stdout",
     "output_type": "stream",
     "text": [
      "__main__\n",
      "math\n"
     ]
    }
   ],
   "source": [
    "# __module__ - stores the name of the module where the class was defined. If the class is defined in the main script, it will return \"__main__\".\n",
    "# If the object is inside a module (e.g., my_module.py), it will return the module name.\n",
    "from math import tan\n",
    "\n",
    "class Student:\n",
    "    pass\n",
    "\n",
    "print(Student.__module__)\n",
    "print(tan.__module__)"
   ]
  },
  {
   "cell_type": "code",
   "execution_count": 53,
   "metadata": {},
   "outputs": [
    {
     "name": "stdout",
     "output_type": "stream",
     "text": [
      "(<class 'object'>,)\n",
      "(<class '__main__.A'>, <class '__main__.B'>)\n"
     ]
    }
   ],
   "source": [
    "# __bases__ - tuple containing references to the base (parent) classes of a given class.\n",
    "# If the class does not inherit from another class, it defaults to (object,).\n",
    "\n",
    "class Parent:\n",
    "    pass\n",
    "\n",
    "print(Parent.__bases__)\n",
    "\n",
    "class A:\n",
    "    pass\n",
    "\n",
    "class B:\n",
    "    pass\n",
    "\n",
    "class C(A, B):\n",
    "    pass\n",
    "\n",
    "print(C.__bases__)"
   ]
  },
  {
   "cell_type": "markdown",
   "metadata": {},
   "source": [
    "## 4.5 – Build a class hierarchy using inheritance"
   ]
  },
  {
   "cell_type": "markdown",
   "metadata": {},
   "source": [
    "- **single and multiple inheritance**"
   ]
  },
  {
   "cell_type": "code",
   "execution_count": 82,
   "metadata": {},
   "outputs": [
    {
     "name": "stdout",
     "output_type": "stream",
     "text": [
      "Parent object attributes:\n",
      "    > parent_count\n",
      "    > parent_func\n",
      "Child object attributes:\n",
      "    > child_count\n",
      "    > child_func\n",
      "    > parent_count\n",
      "    > parent_func\n"
     ]
    }
   ],
   "source": [
    "# SINGLE INHERITANCE - A child class automatically gets the attributes and methods of its parent class.\n",
    "# In this scenario child class sees its attributes and parents but parent sees only his attributes.\n",
    "\n",
    "class Parent:\n",
    "    \n",
    "    parent_count = 1\n",
    "\n",
    "    def parent_func(self):\n",
    "        Parent.parent_count += 1\n",
    "        print(\"Parent function\")\n",
    "\n",
    "class Child(Parent):\n",
    "    \n",
    "    child_count = 2\n",
    "\n",
    "    def child_func(self):\n",
    "        Child.child_count += 1\n",
    "        print(\"Child function\")\n",
    "\n",
    "parent_1 = Parent()\n",
    "child_1 = Child()\n",
    "\n",
    "print(\"Parent object attributes:\")\n",
    "# Getting attributes not starting with '_':\n",
    "for key in parent_1.__dir__():\n",
    "    if key[0] != \"_\":\n",
    "        print(f\"    > {key}\")\n",
    "print(\"Child object attributes:\")\n",
    "for key in child_1.__dir__():\n",
    "    if key[0] != \"_\":\n",
    "        print(f\"    > {key}\")"
   ]
  },
  {
   "cell_type": "code",
   "execution_count": 84,
   "metadata": {},
   "outputs": [
    {
     "name": "stdout",
     "output_type": "stream",
     "text": [
      "Parent A object attributes:\n",
      "    > parent_A_count\n",
      "    > parent_A_func\n",
      "Parent B object attributes:\n",
      "    > parent_B_count\n",
      "    > parent_B_func\n",
      "Child object attributes:\n",
      "    > child_count\n",
      "    > child_func\n",
      "    > parent_A_count\n",
      "    > parent_A_func\n",
      "    > parent_B_count\n",
      "    > parent_B_func\n"
     ]
    }
   ],
   "source": [
    "# MULTIPLE INHERITANCE - A child class automatically gets the attributes and methods of its parents classes.\n",
    "# In this scenario child class sees its attributes and parents' but parents see only their attributes.\n",
    "\n",
    "class Parent_A:\n",
    "    \n",
    "    parent_A_count = 0\n",
    "\n",
    "    def parent_A_func(self):\n",
    "        Parent_A.parent_A_count += 1\n",
    "        print(\"Parent A function\")\n",
    "\n",
    "\n",
    "class Parent_B:\n",
    "    \n",
    "    parent_B_count = 0\n",
    "\n",
    "    def parent_B_func(self):\n",
    "        Parent_B.parent_B_count += 1\n",
    "        print(\"Parent B function\")\n",
    "    \n",
    "\n",
    "class Child(Parent_A, Parent_B):\n",
    "    \n",
    "    child_count = 0\n",
    "\n",
    "    def child_func(self):\n",
    "        Child.child_count += 1\n",
    "        print(\"Child function\")\n",
    "\n",
    "Parent_a = Parent_A()\n",
    "parent_b = Parent_B()\n",
    "child_1 = Child()\n",
    "\n",
    "print(\"Parent A object attributes:\")\n",
    "# Getting attributes not starting with '_':\n",
    "for key in Parent_a.__dir__():\n",
    "    if key[0] != \"_\":\n",
    "        print(f\"    > {key}\")\n",
    "print(\"Parent B object attributes:\")\n",
    "for key in parent_b.__dir__():\n",
    "    if key[0] != \"_\":\n",
    "        print(f\"    > {key}\")\n",
    "print(\"Child object attributes:\")\n",
    "for key in child_1.__dir__():\n",
    "    if key[0] != \"_\":\n",
    "        print(f\"    > {key}\")"
   ]
  },
  {
   "cell_type": "markdown",
   "metadata": {},
   "source": [
    "- **the isinstance() function**"
   ]
  },
  {
   "cell_type": "code",
   "execution_count": 89,
   "metadata": {},
   "outputs": [
    {
     "name": "stdout",
     "output_type": "stream",
     "text": [
      "True\n",
      "True\n",
      "False\n"
     ]
    }
   ],
   "source": [
    "# isinstance(object, Class) → Checks if an object is an instance of a class.\n",
    "\n",
    "print(isinstance(child_1, Child))\n",
    "print(isinstance(child_1, Parent_A)) # It's true because child inherits from Parent_A\n",
    "print(isinstance(parent_b, Parent_A))"
   ]
  },
  {
   "cell_type": "markdown",
   "metadata": {},
   "source": [
    "- **overriding**"
   ]
  },
  {
   "cell_type": "code",
   "execution_count": 92,
   "metadata": {},
   "outputs": [
    {
     "name": "stdout",
     "output_type": "stream",
     "text": [
      "Woof!\n"
     ]
    }
   ],
   "source": [
    "# A child class can override a method or attribute from the parent class by redefining it\n",
    "\n",
    "class Animal:\n",
    "    def speak(self):\n",
    "        return \"I make a sound\"\n",
    "\n",
    "class Dog(Animal):\n",
    "    def speak(self):  # Overriding the parent method\n",
    "        return \"Woof!\"\n",
    "\n",
    "dog = Dog()\n",
    "print(dog.speak())"
   ]
  },
  {
   "cell_type": "markdown",
   "metadata": {},
   "source": [
    "- **operators: _is not_, _is_**"
   ]
  },
  {
   "cell_type": "code",
   "execution_count": 99,
   "metadata": {},
   "outputs": [
    {
     "name": "stdout",
     "output_type": "stream",
     "text": [
      "This check didn't work\n"
     ]
    }
   ],
   "source": [
    "# Operators 'is not' and 'is' when comparing objects and classes don't work. We use isinstance() to check for this\n",
    "\n",
    "dog = Dog()\n",
    "if dog is Dog:\n",
    "    print(\"It's a Dog class\")\n",
    "else:\n",
    "    print(\"This check didn't work\")"
   ]
  },
  {
   "cell_type": "markdown",
   "metadata": {},
   "source": [
    "- **polymorphism**"
   ]
  },
  {
   "cell_type": "code",
   "execution_count": 104,
   "metadata": {},
   "outputs": [
    {
     "name": "stdout",
     "output_type": "stream",
     "text": [
      "Woof!\n",
      "Meow!\n"
     ]
    }
   ],
   "source": [
    "# Polymorphism (many forms) - It enables writing more flexible and reusable code, as you can call the same method on different objects without worrying about their specific class.\n",
    "\n",
    "class Animal:\n",
    "    def speak(self):\n",
    "        pass\n",
    "\n",
    "class Dog:\n",
    "    def speak(self):\n",
    "        return \"Woof!\"\n",
    "\n",
    "class Cat:\n",
    "    def speak(self):\n",
    "        return \"Meow!\"\n",
    "\n",
    "def make_sound(animal: Animal):\n",
    "    return animal.speak()  # Doesn't care about class, only the method\n",
    "\n",
    "dog = Dog()\n",
    "cat = Cat()\n",
    "\n",
    "print(make_sound(dog))\n",
    "print(make_sound(cat))"
   ]
  },
  {
   "cell_type": "markdown",
   "metadata": {},
   "source": [
    "- **overriding the __str__() method**"
   ]
  },
  {
   "cell_type": "code",
   "execution_count": 107,
   "metadata": {},
   "outputs": [
    {
     "name": "stdout",
     "output_type": "stream",
     "text": [
      "<__main__.Animal object at 0x0000022E1B6339D0>\n",
      "Animal (name=cat)\n"
     ]
    }
   ],
   "source": [
    "# Many dunders control what should happen when typical operations are called. Examples:\n",
    "# > __str__ - allows you to control what gets printed when you use print(obj) or str(obj)\n",
    "# > __eq__ - by default, == checks object identity (whether two objects are the same in memory), but __eq__ lets you customize this behavior\n",
    "# > __add__ - let you customize what shoul happen if you try to add two objects (or object and something else)\n",
    "\n",
    "# Here I overrride __str__ method:\n",
    "class Animal:\n",
    "\n",
    "    def __init__(self, name):\n",
    "        self.name = name\n",
    "\n",
    "animal_1 = Animal(\"cat\")\n",
    "print(animal_1)\n",
    "\n",
    "class Animal_2(Animal):\n",
    "\n",
    "    def __str__(self):\n",
    "        return f\"Animal (name={self.name})\"\n",
    "    \n",
    "animal_2 = Animal_2(\"cat\")\n",
    "print(animal_2)"
   ]
  },
  {
   "cell_type": "markdown",
   "metadata": {},
   "source": [
    "- **diamonds**"
   ]
  },
  {
   "cell_type": "markdown",
   "metadata": {},
   "source": [
    "The __Diamond Problem__ occurs in multiple inheritance, when a class inherits from two classes that both inherit from the same parent. This creates an ambiguity about which method to call if the child class does not override the inherited method.\n",
    "\n",
    "![alt text](Images/Diamond_problem.webp)"
   ]
  },
  {
   "cell_type": "code",
   "execution_count": 109,
   "metadata": {},
   "outputs": [
    {
     "name": "stdout",
     "output_type": "stream",
     "text": [
      "[<class '__main__.D'>, <class '__main__.B'>, <class '__main__.C'>, <class '__main__.A'>, <class 'object'>]\n"
     ]
    }
   ],
   "source": [
    "# Python solves this using the Method Resolution Order (MRO). You can check MRO using the __mro__ attribute or the mro() method:\n",
    "\n",
    "class A:\n",
    "    def greet(self):\n",
    "        return \"Hello from A\"\n",
    "\n",
    "class B(A):\n",
    "    def greet(self):\n",
    "        return \"Hello from B\"\n",
    "\n",
    "class C(A):\n",
    "    def greet(self):\n",
    "        return \"Hello from C\"\n",
    "\n",
    "class D(B, C):  # Multiple Inheritance\n",
    "    pass\n",
    "\n",
    "print(D.mro())"
   ]
  },
  {
   "cell_type": "code",
   "execution_count": 110,
   "metadata": {},
   "outputs": [
    {
     "name": "stdout",
     "output_type": "stream",
     "text": [
      "Hello from B\n"
     ]
    }
   ],
   "source": [
    "# Python follows the C3 Linearization (MRO Algorithm).\n",
    "# The order of method resolution is D → B → C → A → object.\n",
    "# Since B appears before C, D will use B.greet().\n",
    "\n",
    "d = D()\n",
    "print(d.greet())"
   ]
  },
  {
   "cell_type": "code",
   "execution_count": 111,
   "metadata": {},
   "outputs": [
    {
     "name": "stdout",
     "output_type": "stream",
     "text": [
      "Hello from A & C & B & D\n"
     ]
    }
   ],
   "source": [
    "# If you want to ensure the correct method is called, use super():\n",
    "\n",
    "class A:\n",
    "    def greet(self):\n",
    "        return \"Hello from A\"\n",
    "\n",
    "class B(A):\n",
    "    def greet(self):\n",
    "        return super().greet() + \" & B\"\n",
    "\n",
    "class C(A):\n",
    "    def greet(self):\n",
    "        return super().greet() + \" & C\"\n",
    "\n",
    "class D(B, C):\n",
    "    def greet(self):\n",
    "        return super().greet() + \" & D\"\n",
    "\n",
    "d = D()\n",
    "print(d.greet())  "
   ]
  },
  {
   "cell_type": "markdown",
   "metadata": {},
   "source": [
    "## 4.6 – Construct and initialize objects"
   ]
  },
  {
   "cell_type": "markdown",
   "metadata": {},
   "source": [
    "- **declaring and invoking constructors**"
   ]
  },
  {
   "cell_type": "code",
   "execution_count": 112,
   "metadata": {},
   "outputs": [
    {
     "name": "stdout",
     "output_type": "stream",
     "text": [
      "Alice 30\n"
     ]
    }
   ],
   "source": [
    "# In Python, a constructor is a special method used to initialize an object's attributes when it is created. The constructor is declared using the __init__ method inside a class.\n",
    "\n",
    "class Person:\n",
    "    def __init__(self, name, age):\n",
    "        self.name = name  # Instance attribute\n",
    "        self.age = age    # Instance attribute\n",
    "\n",
    "p1 = Person(\"Alice\", 30)  # Constructor is called here\n",
    "print(p1.name, p1.age) "
   ]
  }
 ],
 "metadata": {
  "kernelspec": {
   "display_name": "Python 3",
   "language": "python",
   "name": "python3"
  },
  "language_info": {
   "codemirror_mode": {
    "name": "ipython",
    "version": 3
   },
   "file_extension": ".py",
   "mimetype": "text/x-python",
   "name": "python",
   "nbconvert_exporter": "python",
   "pygments_lexer": "ipython3",
   "version": "3.11.5"
  }
 },
 "nbformat": 4,
 "nbformat_minor": 2
}
