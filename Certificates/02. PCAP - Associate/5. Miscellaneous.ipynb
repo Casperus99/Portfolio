{
 "cells": [
  {
   "cell_type": "markdown",
   "metadata": {},
   "source": [
    "# **Section 5**: Miscellaneous (22%)"
   ]
  },
  {
   "cell_type": "markdown",
   "metadata": {},
   "source": [
    "## 5.1 – Build complex lists using list comprehension"
   ]
  },
  {
   "cell_type": "markdown",
   "metadata": {},
   "source": [
    "- **list comprehensions: the if operator, nested comprehensions**"
   ]
  },
  {
   "cell_type": "code",
   "execution_count": 1,
   "metadata": {},
   "outputs": [
    {
     "name": "stdout",
     "output_type": "stream",
     "text": [
      "[1, 0, 1, 0, 1, 0, 1, 0, 1, 0]\n"
     ]
    }
   ],
   "source": [
    "# Another way of checking condition with \"if's\" looks like this:\n",
    "\n",
    "the_list = []\n",
    "\n",
    "for x in range(10):\n",
    "    the_list.append(1 if x % 2 == 0 else 0) # 'expression_one' if 'condition' else 'expression_two'\n",
    "\n",
    "print(the_list)\n"
   ]
  },
  {
   "cell_type": "code",
   "execution_count": 2,
   "metadata": {},
   "outputs": [
    {
     "data": {
      "text/plain": [
       "[1, 0, 1, 0, 1, 0, 1, 0, 1, 0]"
      ]
     },
     "execution_count": 2,
     "metadata": {},
     "output_type": "execute_result"
    }
   ],
   "source": [
    "# We can use it in list comprehensions\n",
    "\n",
    "[1 if x % 2 == 0 else 0 for x in range(10)]"
   ]
  },
  {
   "cell_type": "code",
   "execution_count": 3,
   "metadata": {},
   "outputs": [
    {
     "name": "stdout",
     "output_type": "stream",
     "text": [
      "1 0 1 0 1 0 1 0 1 0 \n",
      "1 0 1 0 1 0 1 0 1 0 \n"
     ]
    }
   ],
   "source": [
    "# List comprehensions vs. generators\n",
    "# Just one change can turn any list comprehension into a generator\n",
    "\n",
    "the_list = [1 if x % 2 == 0 else 0 for x in range(10)]\n",
    "the_generator = (1 if x % 2 == 0 else 0 for x in range(10))\n",
    "\n",
    "for v in the_list:\n",
    "    print(v, end=\" \")\n",
    "print()\n",
    "\n",
    "for v in the_generator:\n",
    "    print(v, end=\" \")\n",
    "print()\n",
    "\n",
    "# Note: the same appearance of the output doesn't mean that both loops work in the same way.\n",
    "# In the first loop, the list is created (and iterated through) as a whole - it actually exists when the loop is being executed.\n",
    "# In the second loop, there is no list at all - there are only subsequent values produced by the generator, one by one."
   ]
  },
  {
   "cell_type": "code",
   "execution_count": 8,
   "metadata": {},
   "outputs": [
    {
     "data": {
      "text/plain": [
       "[1, 0, 1, 0, 1, 0, 1, 0, 1, 0]"
      ]
     },
     "execution_count": 8,
     "metadata": {},
     "output_type": "execute_result"
    }
   ],
   "source": [
    "# Nested comprehensions\n",
    "\n",
    "[1 if x % 2 == 0 else 0 for x in [x**2 for x in range(10)]]"
   ]
  },
  {
   "cell_type": "markdown",
   "metadata": {},
   "source": [
    "## 5.2 – Embed lambda functions into the code"
   ]
  },
  {
   "cell_type": "markdown",
   "metadata": {},
   "source": [
    "- **lambdas: defining and using lambdas**"
   ]
  },
  {
   "cell_type": "code",
   "execution_count": 9,
   "metadata": {},
   "outputs": [
    {
     "name": "stdout",
     "output_type": "stream",
     "text": [
      "4 4\n",
      "1 1\n",
      "0 0\n",
      "1 1\n",
      "4 4\n"
     ]
    }
   ],
   "source": [
    "# A lambda function is a function without a name (you can also call it an anonymous function)\n",
    "# lambda parameters: expression\n",
    "\n",
    "two = lambda: 2\n",
    "sqr = lambda x: x * x\n",
    "pwr = lambda x, y: x ** y\n",
    "\n",
    "for a in range(-2, 3):\n",
    "    print(sqr(a), end=\" \")\n",
    "    print(pwr(a, two()))"
   ]
  },
  {
   "cell_type": "markdown",
   "metadata": {},
   "source": [
    "- **functions: map(), filter()**"
   ]
  },
  {
   "cell_type": "code",
   "execution_count": 12,
   "metadata": {},
   "outputs": [
    {
     "data": {
      "text/plain": [
       "[1, 2, 4, 8, 16]"
      ]
     },
     "execution_count": 12,
     "metadata": {},
     "output_type": "execute_result"
    }
   ],
   "source": [
    "# map(function, list) - applies the function passed by its first argument to all its second argument's elements,\n",
    "#   and returns an iterator delivering all subsequent function results.\n",
    "\n",
    "list_1 = [x for x in range(5)]\n",
    "list(map(lambda x: 2 ** x, list_1))"
   ]
  },
  {
   "cell_type": "code",
   "execution_count": 29,
   "metadata": {},
   "outputs": [
    {
     "name": "stdout",
     "output_type": "stream",
     "text": [
      "[-9, 10, 7, 4, 5]\n",
      "[10, 4]\n"
     ]
    }
   ],
   "source": [
    "# filter(function, list) - filters its second argument while being guided by directions flowing from the function specified as the first argument\n",
    "# The elements which return True from the function pass the filter - the others are rejected.\n",
    "\n",
    "from random import seed, randint\n",
    "\n",
    "data = [randint(-10,10) for x in range(5)]\n",
    "filtered = list(filter(lambda x: x > 0 and x % 2 == 0, data))\n",
    "\n",
    "print(data)\n",
    "print(filtered)"
   ]
  },
  {
   "cell_type": "markdown",
   "metadata": {},
   "source": [
    "- **self-defined functions taking lambdas as arguments**"
   ]
  },
  {
   "cell_type": "code",
   "execution_count": 30,
   "metadata": {},
   "outputs": [
    {
     "name": "stdout",
     "output_type": "stream",
     "text": [
      "f(-2)=18\n",
      "f(-1)=8\n",
      "f(0)=2\n",
      "f(1)=0\n",
      "f(2)=2\n"
     ]
    }
   ],
   "source": [
    "# It's nothing else than functions that can take normal functions as arguments\n",
    "\n",
    "def print_function(args, fun):\n",
    "    for x in args:\n",
    "        print('f(', x,')=', fun(x), sep='')\n",
    "\n",
    "print_function([x for x in range(-2, 3)], lambda x: 2 * x**2 - 4 * x + 2)"
   ]
  },
  {
   "cell_type": "markdown",
   "metadata": {},
   "source": [
    "## 5.3 – Define and use closures"
   ]
  },
  {
   "cell_type": "markdown",
   "metadata": {},
   "source": [
    "- **closures: meaning and rationale**"
   ]
  },
  {
   "cell_type": "code",
   "execution_count": 32,
   "metadata": {},
   "outputs": [
    {
     "ename": "NameError",
     "evalue": "name 'loc' is not defined",
     "output_type": "error",
     "traceback": [
      "\u001b[1;31m---------------------------------------------------------------------------\u001b[0m",
      "\u001b[1;31mNameError\u001b[0m                                 Traceback (most recent call last)",
      "Cell \u001b[1;32mIn[32], line 11\u001b[0m\n\u001b[0;32m      8\u001b[0m var \u001b[38;5;241m=\u001b[39m \u001b[38;5;241m1\u001b[39m\n\u001b[0;32m      9\u001b[0m outer(var)\n\u001b[1;32m---> 11\u001b[0m \u001b[38;5;28mprint\u001b[39m(\u001b[43mloc\u001b[49m)\n\u001b[0;32m     12\u001b[0m \u001b[38;5;66;03m# This will return an error, because loc variable is only available when outer function is being executed\u001b[39;00m\n",
      "\u001b[1;31mNameError\u001b[0m: name 'loc' is not defined"
     ]
    }
   ],
   "source": [
    "# closure is a technique which allows the storing of values in spite of the fact\n",
    "#   that the context in which they have been created does not exist anymore.\n",
    "\n",
    "def outer(par):\n",
    "    loc = par\n",
    "\n",
    "\n",
    "var = 1\n",
    "outer(var)\n",
    "\n",
    "print(loc)\n",
    "# This will return an error, because loc variable is only available when outer function is being executed"
   ]
  },
  {
   "cell_type": "markdown",
   "metadata": {},
   "source": [
    "- **defining and using closures**"
   ]
  },
  {
   "cell_type": "code",
   "execution_count": 33,
   "metadata": {},
   "outputs": [
    {
     "name": "stdout",
     "output_type": "stream",
     "text": [
      "0 0 0\n",
      "1 1 1\n",
      "2 4 8\n",
      "3 9 27\n",
      "4 16 64\n"
     ]
    }
   ],
   "source": [
    "# The inner() function returns the value of the variable accessible inside its scope, as inner() can use any of the entities at the disposal of outer()\n",
    "# The outer() function returns the inner() function itself; more precisely, it returns a copy of the inner() function,\n",
    "#   the one which was frozen at the moment of outer()'s invocation; the frozen function contains its full environment,\n",
    "#   including the state of all local variables, which also means that the value of loc is successfully retained, although outer() ceased to exist a long time ago.\n",
    "\n",
    "def outer(par):\n",
    "    loc = par\n",
    "\n",
    "    def inner():\n",
    "        return loc\n",
    "    return inner\n",
    "\n",
    "\n",
    "var = 1\n",
    "fun = outer(var)\n",
    "print(fun())\n"
   ]
  },
  {
   "cell_type": "code",
   "execution_count": null,
   "metadata": {},
   "outputs": [],
   "source": [
    "# This example shows one more interesting circumstance - you can create as many closures as you want using one and the same piece of code.\n",
    "# closure not only makes use of the frozen environment, but it can also modify its behavior by using values taken from the outside.\n",
    "\n",
    "def make_closure(par):\n",
    "    loc = par\n",
    "\n",
    "    def power(p):\n",
    "        return p ** loc\n",
    "    return power\n",
    "\n",
    "\n",
    "fsqr = make_closure(2)\n",
    "fcub = make_closure(3)\n",
    "\n",
    "for i in range(5):\n",
    "    print(i, fsqr(i), fcub(i))"
   ]
  },
  {
   "cell_type": "markdown",
   "metadata": {},
   "source": [
    "## 5.4 – Understand basic Input/Output terminology"
   ]
  },
  {
   "cell_type": "markdown",
   "metadata": {},
   "source": [
    "- **I/O modes**"
   ]
  },
  {
   "cell_type": "markdown",
   "metadata": {},
   "source": [
    "The opening of the stream is not only associated with the file, but should also declare the manner in which the stream will be processed. This declaration is called an open mode.\n",
    "\n",
    "If the opening is successful, the program will be allowed to perform only the operations which are consistent with the declared open mode.\n",
    "\n",
    "There are three basic modes used to open the stream:\n",
    "- __read mode__: a stream opened in this mode allows __read operations only__; trying to write to the stream will cause an exception (the exception is named UnsupportedOperation, which inherits OSError and ValueError, and comes from the io module);\n",
    "- __write mode__: a stream opened in this mode allows __write operations only__; attempting to read the stream will cause the exception mentioned above;\n",
    "- __update mode__: a stream opened in this mode allows __both writes and reads__."
   ]
  },
  {
   "cell_type": "markdown",
   "metadata": {},
   "source": [
    "- **predefined streams**"
   ]
  },
  {
   "cell_type": "markdown",
   "metadata": {},
   "source": [
    "When our program starts, the three streams are already opened and don't require any extra preparations. What's more, your program can use these streams explicitly if you take care to import the `sys` module. The names of these streams are: `sys.stdin`, `sys.stdout`, and `sys.stderr`.\n",
    "\n",
    "- `sys.stdin`\n",
    "    - stdin (as standard input)\n",
    "    - the `stdin` stream is normally associated with the keyboard, pre-open for reading and regarded as the primary data source for the running programs;\n",
    "    - the well-known `input()` function reads data from `stdin` by default.\n",
    "\n",
    "- `sys.stdout`\n",
    "    - stdout (as standard output)\n",
    "    - the `stdout` stream is normally associated with the screen, pre-open for writing, regarded as the primary target for outputting data by the running program;\n",
    "    - the well-known `print()` function outputs the data to the `stdout` stream.\n",
    "\n",
    "- `sys.stderr`\n",
    "    - stderr (as standard error output)\n",
    "    - the `stderr` stream is normally associated with the screen, pre-open for writing, regarded as the primary place where the running program should send information on the errors encountered during its work;\n",
    "    - the separation of `stdout` (useful results produced by the program) from the `stderr` (error messages, undeniably useful but does not provide results) gives the possibility of redirecting these two types of information to the different targets."
   ]
  },
  {
   "cell_type": "markdown",
   "metadata": {},
   "source": [
    "- **handles vs. streams**"
   ]
  },
  {
   "cell_type": "markdown",
   "metadata": {},
   "source": [
    "Python assumes that every file is hidden behind an object of an adequate class. An object of an adequate class is created when you open the file and annihilate it at the time of closing. You never use constructors to bring these objects to life. The only way you obtain them is to invoke the function named `open()`.\n",
    "\n",
    "So you can say that these objects that provide interfaces to operate on streams (like files) can be called handlers. You perform operations on a stream with a handler."
   ]
  },
  {
   "cell_type": "markdown",
   "metadata": {},
   "source": [
    "- **text vs. binary modes**"
   ]
  },
  {
   "cell_type": "markdown",
   "metadata": {},
   "source": [
    "Due to the type of the stream's contents, all the streams are divided into text and binary streams.\n",
    "\n",
    "The text streams ones are structured in lines; that is, they contain typographical characters (letters, digits, punctuation, etc.) arranged in rows (lines), as seen with the naked eye when you look at the contents of the file in the editor.\n",
    "\n",
    "This file is written (or read) mostly character by character, or line by line.\n",
    "\n",
    "The binary streams don't contain text but a sequence of bytes of any value. This sequence can be, for example, an executable program, an image, an audio or a video clip, a database file, etc.\n",
    "\n",
    "Because these files don't contain lines, the reads and writes relate to portions of data of any size. Hence the data is read/written byte by byte, or block by block, where the size of the block usually ranges from one to an arbitrarily chosen value.\n",
    "\n",
    "![alt text](Images/IO_modes.png)\n",
    "\n",
    "Additionaly you can also open a file for its exclusive creation. You can do this using the `x` open mode. If the file already exists, the open() function will raise an exception."
   ]
  },
  {
   "cell_type": "markdown",
   "metadata": {},
   "source": [
    "## 5.5 – Perform Input/Output operations"
   ]
  },
  {
   "cell_type": "markdown",
   "metadata": {},
   "source": [
    "- **the open() function**"
   ]
  },
  {
   "cell_type": "code",
   "execution_count": 35,
   "metadata": {},
   "outputs": [
    {
     "name": "stdout",
     "output_type": "stream",
     "text": [
      "Cannot open the file: [Errno 2] No such file or directory: 'C:/Users/User/Desktop/file.txt'\n"
     ]
    }
   ],
   "source": [
    "# The opening of the stream is performed by a function which can be invoked in the following way:\n",
    "\n",
    "try:\n",
    "    stream = open(\"C:/Users/User/Desktop/file.txt\", \"rt\")\n",
    "    # Processing goes here.\n",
    "    stream.close()\n",
    "except Exception as exc:\n",
    "    print(\"Cannot open the file:\", exc)"
   ]
  },
  {
   "cell_type": "markdown",
   "metadata": {},
   "source": [
    "What's going on here?\n",
    "\n",
    "- we open the try-except block as we want to handle runtime errors softly;\n",
    "- we use the `open()` function to try to open the specified file (note the way we've specified the file name)\n",
    "- the open mode is defined as text to read (as __text is the default setting__, we can skip the `t` in mode string)\n",
    "- in case of success we get an object from the `open()` function and we assign it to the stream variable;\n",
    "- if `open()` fails, we handle the exception printing full error information (it's definitely good to know what exactly happened)"
   ]
  },
  {
   "cell_type": "code",
   "execution_count": 40,
   "metadata": {},
   "outputs": [
    {
     "name": "stdout",
     "output_type": "stream",
     "text": [
      "I/O error occurred:  No such file or directory\n"
     ]
    }
   ],
   "source": [
    "# Open funtion returns an instance of the iterable class. It lets you iterate over next lines of the file.\n",
    "# Moreover, close() is invoked when any of the file reads reaches the end of the file.\n",
    "\n",
    "from os import strerror\n",
    "\n",
    "try:\n",
    "\tccnt = lcnt = 0\n",
    "\tfor line in open('text.txt', 'rt'):\n",
    "\t\tlcnt += 1\n",
    "\t\tfor ch in line:\n",
    "\t\t\tprint(ch, end='')\n",
    "\t\t\tccnt += 1\n",
    "\tprint(\"\\n\\nCharacters in file:\", ccnt)\n",
    "\tprint(\"Lines in file:     \", lcnt)\n",
    "except IOError as e:\n",
    "\tprint(\"I/O error occurred: \", strerror(e.errno))\n"
   ]
  },
  {
   "cell_type": "markdown",
   "metadata": {},
   "source": [
    "- **the errno variable and its values**"
   ]
  },
  {
   "cell_type": "code",
   "execution_count": 37,
   "metadata": {},
   "outputs": [],
   "source": [
    "# The IOError object is equipped with a property named errno (the name comes from the phrase error number) and you can access it as follows:\n",
    "\n",
    "try:\n",
    "    # Some stream operations.\n",
    "    pass\n",
    "except IOError as exc:\n",
    "    print(exc.errno)\n",
    "\n",
    "# The value of the errno attribute can be compared with one of the predefined symbolic constants defined in the errno module. For example;\n",
    "# errno.EACCES → Permission denied\n",
    "# errno.EEXIST → File exists\n",
    "# errno.ENOENT → No such file or directory"
   ]
  },
  {
   "cell_type": "code",
   "execution_count": 39,
   "metadata": {},
   "outputs": [
    {
     "name": "stdout",
     "output_type": "stream",
     "text": [
      "The file could not be opened: No such file or directory\n"
     ]
    }
   ],
   "source": [
    "# os.strerror(errno) - with error number given, returns a string describing the meaning of the error.\n",
    "\n",
    "from os import strerror\n",
    "\n",
    "try:\n",
    "    s = open(\"c:/users/user/Desktop/file.txt\", \"rt\")\n",
    "    s.close()\n",
    "except Exception as exc:\n",
    "    print(\"The file could not be opened:\", strerror(exc.errno))"
   ]
  },
  {
   "cell_type": "markdown",
   "metadata": {},
   "source": [
    "- **functions: _close()_, ._read()_, ._write()_, ._readline()_, _readlines()_**"
   ]
  },
  {
   "cell_type": "code",
   "execution_count": null,
   "metadata": {},
   "outputs": [],
   "source": [
    "# .close() doesn't really need additional explanation. Just make sure that you put this during error handling."
   ]
  },
  {
   "cell_type": "code",
   "execution_count": 50,
   "metadata": {},
   "outputs": [],
   "source": [
    "file_path = \"D:\\GiT\\Portfolio\\Python - certification\\General-Purpose Programming\\PCAP - Associate\\Additional files\\Section 5\\sample.txt\""
   ]
  },
  {
   "cell_type": "code",
   "execution_count": 51,
   "metadata": {},
   "outputs": [
    {
     "name": "stdout",
     "output_type": "stream",
     "text": [
      "Sample text, and\n",
      "Lorem Ipsum having a good time \n",
      "and\n",
      "all\n"
     ]
    }
   ],
   "source": [
    "# .read() - you can use it to read whole text file...\n",
    "\n",
    "stream = open(file_path, \"rt\", encoding = \"utf-8\")\n",
    "\n",
    "print(stream.read()) # printing the content of the file"
   ]
  },
  {
   "cell_type": "code",
   "execution_count": 58,
   "metadata": {},
   "outputs": [
    {
     "name": "stdout",
     "output_type": "stream",
     "text": [
      "Sample text, and\n",
      "Lorem Ipsum h\n"
     ]
    }
   ],
   "source": [
    "# ... or specific number of characters. Then puts \"HEAD\" on the last ridden character.\n",
    "\n",
    "stream = open(file_path, \"rt\", encoding = \"utf-8\")\n",
    "\n",
    "print(stream.read(30))"
   ]
  },
  {
   "cell_type": "code",
   "execution_count": 64,
   "metadata": {},
   "outputs": [
    {
     "name": "stdout",
     "output_type": "stream",
     "text": [
      "Sample text, and\n",
      "\n",
      "Lorem Ipsu\n"
     ]
    }
   ],
   "source": [
    "# readline() - reads whole lines, one by one. You can set number of loaded bytes in line.\n",
    "\n",
    "stream = open(file_path, \"rt\", encoding = \"utf-8\")\n",
    "\n",
    "print(stream.readline())\n",
    "print(stream.readline(10))"
   ]
  },
  {
   "cell_type": "code",
   "execution_count": 69,
   "metadata": {},
   "outputs": [
    {
     "name": "stdout",
     "output_type": "stream",
     "text": [
      "['Sample text, and\\n', 'Lorem Ipsum having a good time \\n', 'and\\n', 'all']\n",
      "Sample tex\n"
     ]
    }
   ],
   "source": [
    "# readlines() - tries to load every line in file as lists element. You can also set number of loaded bytes\n",
    "\n",
    "stream = open(file_path, \"rt\", encoding = \"utf-8\")\n",
    "\n",
    "print(stream.readlines())\n",
    "\n",
    "stream = open(file_path, \"rt\", encoding = \"utf-8\")  # returns a list\n",
    "print(stream.readline(10)) # It loads only the first 10 bytes"
   ]
  },
  {
   "cell_type": "markdown",
   "metadata": {},
   "source": [
    "- **using bytearray as input/output buffer**"
   ]
  },
  {
   "cell_type": "code",
   "execution_count": 73,
   "metadata": {},
   "outputs": [
    {
     "data": {
      "text/plain": [
       "bytearray(b'\\x00\\x00\\x00\\x00\\x00\\x00\\x00\\x00\\x00\\x00')"
      ]
     },
     "execution_count": 73,
     "metadata": {},
     "output_type": "execute_result"
    }
   ],
   "source": [
    "# bytearray - specialized class used to store amorphous data.\n",
    "# Amorphous data is data which have no specific shape or form - they are just a series of bytes.\n",
    "\n",
    "data = bytearray(10)  # Such an invocation creates a bytearray object able to store ten bytes.\n",
    "data\n",
    "\n",
    "# Note: such a constructor fills the whole array with zeros."
   ]
  },
  {
   "cell_type": "markdown",
   "metadata": {},
   "source": [
    "Bytearrays resemble lists in many respects. For example, they are __mutable__, they're a subject of the len() function, and you can access any of their elements using conventional indexing.\n",
    "\n",
    "There is one important limitation - __you mustn't set any byte array elements with a value which is not an integer__ (violating this rule will cause a TypeError exception) and you're __not allowed to assign a value that doesn't come from the range 0 to 255 inclusive__ (unless you want to provoke a ValueError exception).\n",
    "\n",
    "You can __treat any byte array elements as integer values__ - just like in the example in the editor."
   ]
  },
  {
   "cell_type": "code",
   "execution_count": null,
   "metadata": {},
   "outputs": [],
   "source": [
    "# You can read a file with simple .read() function and store it using bytearray constructor.\n",
    "\n",
    "bf = open('file.bin', 'rb')\n",
    "data = bytearray(bf.read(5))\n",
    "\n",
    "# You can also use .readinto() to load data into variable directly\n",
    "data = bytearray(10)\n",
    "bf = open('file.bin', 'rb')\n",
    "bf.readinto(data)"
   ]
  },
  {
   "cell_type": "code",
   "execution_count": 74,
   "metadata": {},
   "outputs": [],
   "source": [
    "# We can use bytearray as a buffer to load file content partially. If a file is too big and you will try to load whole at once, your OS my get corrupted.\n",
    "\n",
    "src = open(file_path, 'rb')\n",
    "buffer = bytearray(65536)\n",
    "try:\n",
    "    readin = src.readinto(buffer)\n",
    "    while readin > 0:\n",
    "        readin = src.readinto(buffer)\n",
    "except IOError as e:\n",
    "    print(\"Cannot create the destination file: \", strerror(e.errno))\n",
    "    exit(e.errno)\t"
   ]
  }
 ],
 "metadata": {
  "kernelspec": {
   "display_name": "Python 3",
   "language": "python",
   "name": "python3"
  },
  "language_info": {
   "codemirror_mode": {
    "name": "ipython",
    "version": 3
   },
   "file_extension": ".py",
   "mimetype": "text/x-python",
   "name": "python",
   "nbconvert_exporter": "python",
   "pygments_lexer": "ipython3",
   "version": "3.11.5"
  }
 },
 "nbformat": 4,
 "nbformat_minor": 2
}
