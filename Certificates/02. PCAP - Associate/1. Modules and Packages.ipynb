{
 "cells": [
  {
   "cell_type": "markdown",
   "metadata": {},
   "source": [
    "# **Section 1**: Modules and Packages (12%)"
   ]
  },
  {
   "cell_type": "markdown",
   "metadata": {},
   "source": [
    "## 1.1 – Import and use modules and packages"
   ]
  },
  {
   "cell_type": "markdown",
   "metadata": {},
   "source": [
    "- **import variants: import, from import, import as, import \\***"
   ]
  },
  {
   "cell_type": "code",
   "execution_count": 1,
   "metadata": {},
   "outputs": [
    {
     "data": {
      "text/plain": [
       "1.5574077246549023"
      ]
     },
     "execution_count": 1,
     "metadata": {},
     "output_type": "execute_result"
    }
   ],
   "source": [
    "# In python we include whole modules with import statement:\n",
    "\n",
    "import math\n",
    "\n",
    "# Then we have to use functions with specific namespace:\n",
    "\n",
    "math.tan(1)"
   ]
  },
  {
   "cell_type": "code",
   "execution_count": 6,
   "metadata": {},
   "outputs": [
    {
     "data": {
      "text/plain": [
       "2"
      ]
     },
     "execution_count": 6,
     "metadata": {},
     "output_type": "execute_result"
    }
   ],
   "source": [
    "# We can also import specific functions and classes from modules:\n",
    "\n",
    "from math import ceil\n",
    "\n",
    "# In this case we don't have to use module namespace:\n",
    "\n",
    "ceil(3/2)"
   ]
  },
  {
   "cell_type": "code",
   "execution_count": 3,
   "metadata": {},
   "outputs": [
    {
     "data": {
      "text/plain": [
       "5"
      ]
     },
     "execution_count": 3,
     "metadata": {},
     "output_type": "execute_result"
    }
   ],
   "source": [
    "# It's possible to import all the functions within the module:\n",
    "\n",
    "from math import *\n",
    "\n",
    "# Then it's just like importing the whole module but we don't use namespace:\n",
    "\n",
    "floor(231/42)"
   ]
  },
  {
   "cell_type": "code",
   "execution_count": 4,
   "metadata": {},
   "outputs": [
    {
     "data": {
      "text/plain": [
       "7.38905609893065"
      ]
     },
     "execution_count": 4,
     "metadata": {},
     "output_type": "execute_result"
    }
   ],
   "source": [
    "# We can also import whole modules with changed namespaces:\n",
    "\n",
    "import math as mt\n",
    "\n",
    "# In this scenario when we call a function we have to use our module namespace:\n",
    "\n",
    "mt.exp(2)"
   ]
  },
  {
   "cell_type": "code",
   "execution_count": 7,
   "metadata": {},
   "outputs": [
    {
     "data": {
      "text/plain": [
       "73"
      ]
     },
     "execution_count": 7,
     "metadata": {},
     "output_type": "execute_result"
    }
   ],
   "source": [
    "# We can also change names of the imported modules and attributes\n",
    "\n",
    "from math import ceil as ce, floor as floo\n",
    "\n",
    "ce(23424/324)"
   ]
  },
  {
   "cell_type": "markdown",
   "metadata": {},
   "source": [
    "- **advanced qualifying for nested modules**"
   ]
  },
  {
   "cell_type": "code",
   "execution_count": null,
   "metadata": {},
   "outputs": [],
   "source": [
    "# We can get to nested modules with a dot\n",
    "\n",
    "from game.sound.effects import echo_filter, distort_filter\n",
    "# This block won't work because there is no such package created. It should provide only a visual tutorial"
   ]
  },
  {
   "cell_type": "markdown",
   "metadata": {},
   "source": [
    "- **the _dir()_ function**"
   ]
  },
  {
   "cell_type": "markdown",
   "metadata": {},
   "source": [
    "The _dir()_ function returns all properties and methods of the specified object, without the values.\n",
    "\n",
    "Without argument, this function will return all the properties and methods, even built-in properties which are global."
   ]
  },
  {
   "cell_type": "code",
   "execution_count": 8,
   "metadata": {},
   "outputs": [
    {
     "data": {
      "text/plain": [
       "['In',\n",
       " 'Out',\n",
       " '_',\n",
       " '_1',\n",
       " '_2',\n",
       " '_3',\n",
       " '_4',\n",
       " '_5',\n",
       " '_6',\n",
       " '_7',\n",
       " '__',\n",
       " '___',\n",
       " '__builtin__',\n",
       " '__builtins__',\n",
       " '__doc__',\n",
       " '__loader__',\n",
       " '__name__',\n",
       " '__package__',\n",
       " '__spec__',\n",
       " '__vsc_ipynb_file__',\n",
       " '_dh',\n",
       " '_i',\n",
       " '_i1',\n",
       " '_i2',\n",
       " '_i3',\n",
       " '_i4',\n",
       " '_i5',\n",
       " '_i6',\n",
       " '_i7',\n",
       " '_i8',\n",
       " '_ih',\n",
       " '_ii',\n",
       " '_iii',\n",
       " '_oh',\n",
       " 'acos',\n",
       " 'acosh',\n",
       " 'asin',\n",
       " 'asinh',\n",
       " 'atan',\n",
       " 'atan2',\n",
       " 'atanh',\n",
       " 'cbrt',\n",
       " 'ce',\n",
       " 'ceil',\n",
       " 'comb',\n",
       " 'copysign',\n",
       " 'cos',\n",
       " 'cosh',\n",
       " 'degrees',\n",
       " 'dist',\n",
       " 'e',\n",
       " 'erf',\n",
       " 'erfc',\n",
       " 'exit',\n",
       " 'exp',\n",
       " 'exp2',\n",
       " 'expm1',\n",
       " 'fabs',\n",
       " 'factorial',\n",
       " 'flo',\n",
       " 'floo',\n",
       " 'floor',\n",
       " 'fmod',\n",
       " 'frexp',\n",
       " 'fsum',\n",
       " 'gamma',\n",
       " 'gcd',\n",
       " 'get_ipython',\n",
       " 'hypot',\n",
       " 'inf',\n",
       " 'isclose',\n",
       " 'isfinite',\n",
       " 'isinf',\n",
       " 'isnan',\n",
       " 'isqrt',\n",
       " 'lcm',\n",
       " 'ldexp',\n",
       " 'lgamma',\n",
       " 'log',\n",
       " 'log10',\n",
       " 'log1p',\n",
       " 'log2',\n",
       " 'math',\n",
       " 'modf',\n",
       " 'mt',\n",
       " 'nan',\n",
       " 'nextafter',\n",
       " 'open',\n",
       " 'perm',\n",
       " 'pi',\n",
       " 'pow',\n",
       " 'prod',\n",
       " 'quit',\n",
       " 'radians',\n",
       " 'remainder',\n",
       " 'sin',\n",
       " 'sinh',\n",
       " 'sqrt',\n",
       " 'tan',\n",
       " 'tanh',\n",
       " 'tau',\n",
       " 'trunc',\n",
       " 'ulp']"
      ]
     },
     "execution_count": 8,
     "metadata": {},
     "output_type": "execute_result"
    }
   ],
   "source": [
    "dir()"
   ]
  },
  {
   "cell_type": "code",
   "execution_count": 9,
   "metadata": {},
   "outputs": [
    {
     "data": {
      "text/plain": [
       "['__doc__',\n",
       " '__loader__',\n",
       " '__name__',\n",
       " '__package__',\n",
       " '__spec__',\n",
       " 'acos',\n",
       " 'acosh',\n",
       " 'asin',\n",
       " 'asinh',\n",
       " 'atan',\n",
       " 'atan2',\n",
       " 'atanh',\n",
       " 'cbrt',\n",
       " 'ceil',\n",
       " 'comb',\n",
       " 'copysign',\n",
       " 'cos',\n",
       " 'cosh',\n",
       " 'degrees',\n",
       " 'dist',\n",
       " 'e',\n",
       " 'erf',\n",
       " 'erfc',\n",
       " 'exp',\n",
       " 'exp2',\n",
       " 'expm1',\n",
       " 'fabs',\n",
       " 'factorial',\n",
       " 'floor',\n",
       " 'fmod',\n",
       " 'frexp',\n",
       " 'fsum',\n",
       " 'gamma',\n",
       " 'gcd',\n",
       " 'hypot',\n",
       " 'inf',\n",
       " 'isclose',\n",
       " 'isfinite',\n",
       " 'isinf',\n",
       " 'isnan',\n",
       " 'isqrt',\n",
       " 'lcm',\n",
       " 'ldexp',\n",
       " 'lgamma',\n",
       " 'log',\n",
       " 'log10',\n",
       " 'log1p',\n",
       " 'log2',\n",
       " 'modf',\n",
       " 'nan',\n",
       " 'nextafter',\n",
       " 'perm',\n",
       " 'pi',\n",
       " 'pow',\n",
       " 'prod',\n",
       " 'radians',\n",
       " 'remainder',\n",
       " 'sin',\n",
       " 'sinh',\n",
       " 'sqrt',\n",
       " 'tan',\n",
       " 'tanh',\n",
       " 'tau',\n",
       " 'trunc',\n",
       " 'ulp']"
      ]
     },
     "execution_count": 9,
     "metadata": {},
     "output_type": "execute_result"
    }
   ],
   "source": [
    "import math\n",
    "\n",
    "dir(math)"
   ]
  },
  {
   "cell_type": "markdown",
   "metadata": {},
   "source": [
    "- **the _sys.path_ variable**"
   ]
  },
  {
   "cell_type": "markdown",
   "metadata": {},
   "source": [
    "sys.path is a built-in variable within the sys module. It contains a list of directories that the interpreter will search in for the required module. \n",
    "\n",
    "When a module(a module is a python file) is imported within a Python file, the interpreter first searches for the specified module among its built-in modules. If not found it looks through the list of directories(a directory is a folder that contains related modules) defined by sys.path."
   ]
  },
  {
   "cell_type": "code",
   "execution_count": 1,
   "metadata": {},
   "outputs": [
    {
     "data": {
      "text/plain": [
       "['d:\\\\GiT\\\\Portfolio\\\\Python - certification\\\\General-Purpose Programming\\\\PCAP - Associate',\n",
       " 'd:\\\\Programy\\\\Python\\\\Python311\\\\python311.zip',\n",
       " 'd:\\\\Programy\\\\Python\\\\Python311\\\\DLLs',\n",
       " 'd:\\\\Programy\\\\Python\\\\Python311\\\\Lib',\n",
       " 'd:\\\\Programy\\\\Python\\\\Python311',\n",
       " '',\n",
       " 'C:\\\\Users\\\\caspe\\\\AppData\\\\Roaming\\\\Python\\\\Python311\\\\site-packages',\n",
       " 'C:\\\\Users\\\\caspe\\\\AppData\\\\Roaming\\\\Python\\\\Python311\\\\site-packages\\\\win32',\n",
       " 'C:\\\\Users\\\\caspe\\\\AppData\\\\Roaming\\\\Python\\\\Python311\\\\site-packages\\\\win32\\\\lib',\n",
       " 'C:\\\\Users\\\\caspe\\\\AppData\\\\Roaming\\\\Python\\\\Python311\\\\site-packages\\\\Pythonwin',\n",
       " 'd:\\\\Programy\\\\Python\\\\Python311\\\\Lib\\\\site-packages',\n",
       " 'd:\\\\Programy\\\\Python\\\\Python311\\\\Lib\\\\site-packages\\\\vboxapi-1.0-py3.11.egg']"
      ]
     },
     "execution_count": 1,
     "metadata": {},
     "output_type": "execute_result"
    }
   ],
   "source": [
    "import sys\n",
    "\n",
    "sys.path"
   ]
  },
  {
   "cell_type": "code",
   "execution_count": 2,
   "metadata": {},
   "outputs": [
    {
     "data": {
      "text/plain": [
       "['d:\\\\GiT\\\\Portfolio\\\\Python - certification\\\\General-Purpose Programming\\\\PCAP - Associate',\n",
       " 'd:\\\\Programy\\\\Python\\\\Python311\\\\python311.zip',\n",
       " 'd:\\\\Programy\\\\Python\\\\Python311\\\\DLLs',\n",
       " 'd:\\\\Programy\\\\Python\\\\Python311\\\\Lib',\n",
       " 'd:\\\\Programy\\\\Python\\\\Python311',\n",
       " '',\n",
       " 'C:\\\\Users\\\\caspe\\\\AppData\\\\Roaming\\\\Python\\\\Python311\\\\site-packages',\n",
       " 'C:\\\\Users\\\\caspe\\\\AppData\\\\Roaming\\\\Python\\\\Python311\\\\site-packages\\\\win32',\n",
       " 'C:\\\\Users\\\\caspe\\\\AppData\\\\Roaming\\\\Python\\\\Python311\\\\site-packages\\\\win32\\\\lib',\n",
       " 'C:\\\\Users\\\\caspe\\\\AppData\\\\Roaming\\\\Python\\\\Python311\\\\site-packages\\\\Pythonwin',\n",
       " 'd:\\\\Programy\\\\Python\\\\Python311\\\\Lib\\\\site-packages',\n",
       " 'd:\\\\Programy\\\\Python\\\\Python311\\\\Lib\\\\site-packages\\\\vboxapi-1.0-py3.11.egg',\n",
       " 'C:/Users/Vanshi/Desktop']"
      ]
     },
     "execution_count": 2,
     "metadata": {},
     "output_type": "execute_result"
    }
   ],
   "source": [
    "# We can also append a new path to be searched\n",
    "\n",
    "import sys\n",
    "\n",
    "sys.path.append('C:/Users/Vanshi/Desktop')\n",
    "sys.path"
   ]
  },
  {
   "cell_type": "markdown",
   "metadata": {},
   "source": [
    "## 1.2 – Perform evaluations using the math module"
   ]
  },
  {
   "cell_type": "markdown",
   "metadata": {},
   "source": [
    "- **functions: ceil(), floor(), trunc(), factorial(), hypot(), sqrt()**"
   ]
  },
  {
   "cell_type": "code",
   "execution_count": 4,
   "metadata": {},
   "outputs": [
    {
     "data": {
      "text/plain": [
       "4"
      ]
     },
     "execution_count": 4,
     "metadata": {},
     "output_type": "execute_result"
    }
   ],
   "source": [
    "# ceil(number) - returns an int ceiling value, representing the rounded number\n",
    "from math import ceil, pi\n",
    "\n",
    "ceil(pi)"
   ]
  },
  {
   "cell_type": "code",
   "execution_count": 1,
   "metadata": {},
   "outputs": [
    {
     "data": {
      "text/plain": [
       "3"
      ]
     },
     "execution_count": 1,
     "metadata": {},
     "output_type": "execute_result"
    }
   ],
   "source": [
    "# floor(number) - returns an int floor of value, representing the rounded number\n",
    "from math import floor, pi\n",
    "\n",
    "floor(pi)"
   ]
  },
  {
   "cell_type": "code",
   "execution_count": 2,
   "metadata": {},
   "outputs": [
    {
     "data": {
      "text/plain": [
       "3"
      ]
     },
     "execution_count": 2,
     "metadata": {},
     "output_type": "execute_result"
    }
   ],
   "source": [
    "# trunc(number) - returns the truncated integer part of a number\n",
    "from math import trunc, pi\n",
    "\n",
    "floor(pi)"
   ]
  },
  {
   "cell_type": "code",
   "execution_count": 3,
   "metadata": {},
   "outputs": [
    {
     "data": {
      "text/plain": [
       "720"
      ]
     },
     "execution_count": 3,
     "metadata": {},
     "output_type": "execute_result"
    }
   ],
   "source": [
    "# factorial(int) - returns the factorial of a number\n",
    "from math import factorial\n",
    "\n",
    "factorial(6)\n",
    "# 6! = 6x5x4x3x2x1"
   ]
  },
  {
   "cell_type": "code",
   "execution_count": 5,
   "metadata": {},
   "outputs": [
    {
     "data": {
      "text/plain": [
       "3.0"
      ]
     },
     "execution_count": 5,
     "metadata": {},
     "output_type": "execute_result"
    }
   ],
   "source": [
    "# hypot(x1, x2, x3, ..., xn) - returns the Euclidean norm. The Euclidian norm is the distance from the origin to the coordinates given\n",
    "from math import hypot\n",
    "\n",
    "hypot(3,4)\n",
    "# Just like pythagorean theorem 3^2+4^2=5^2"
   ]
  },
  {
   "cell_type": "code",
   "execution_count": 7,
   "metadata": {},
   "outputs": [
    {
     "data": {
      "text/plain": [
       "5.0"
      ]
     },
     "execution_count": 7,
     "metadata": {},
     "output_type": "execute_result"
    }
   ],
   "source": [
    "# sqrt(number) - returns the square root of a number\n",
    "from math import sqrt\n",
    "\n",
    "sqrt(25)"
   ]
  },
  {
   "cell_type": "markdown",
   "metadata": {},
   "source": [
    "## 1.3 – Generate random values using the random module"
   ]
  },
  {
   "cell_type": "markdown",
   "metadata": {},
   "source": [
    "- **functions: random(), seed(), choice(), sample()**"
   ]
  },
  {
   "cell_type": "code",
   "execution_count": 25,
   "metadata": {},
   "outputs": [
    {
     "name": "stdout",
     "output_type": "stream",
     "text": [
      "0.24869012687492853\n",
      "0.8915267442520687\n",
      "0.5854487831681964\n"
     ]
    }
   ],
   "source": [
    "# random() - returns a random floating number between 0 and 1\n",
    "from random import random\n",
    "\n",
    "print(random())\n",
    "print(random())\n",
    "print(random())"
   ]
  },
  {
   "cell_type": "code",
   "execution_count": 26,
   "metadata": {},
   "outputs": [
    {
     "name": "stdout",
     "output_type": "stream",
     "text": [
      "0.5445153033510574\n",
      "0.5882783473896851\n",
      "0.5714025946899135\n",
      "0.4288890546751146\n",
      "0.5714025946899135\n",
      "0.4288890546751146\n",
      "^ The last two pairs are the same! ^\n"
     ]
    }
   ],
   "source": [
    "# seed() - method is used to initialize the random number generator.\n",
    "# By default the random number generator uses the current system time.\n",
    "# If you use the same seed value twice you will get the same random number twice.\n",
    "import random\n",
    "\n",
    "print(random.random())\n",
    "print(random.random())\n",
    "random.seed(10)\n",
    "print(random.random())\n",
    "print(random.random())\n",
    "random.seed(10)\n",
    "print(random.random())\n",
    "print(random.random())\n",
    "random.seed()\n",
    "print(\"^ The last two pairs are the same! ^\")"
   ]
  },
  {
   "cell_type": "code",
   "execution_count": 35,
   "metadata": {},
   "outputs": [
    {
     "name": "stdout",
     "output_type": "stream",
     "text": [
      "-753\n",
      "10\n"
     ]
    }
   ],
   "source": [
    "# choice(sequence) - returns a randomly selected element from the specified sequence\n",
    "from random import choice\n",
    "\n",
    "my_seq = [2, 10, 54, 9320, -753]\n",
    "print(choice(my_seq))\n",
    "print(choice(my_seq))"
   ]
  },
  {
   "cell_type": "code",
   "execution_count": 45,
   "metadata": {},
   "outputs": [
    {
     "name": "stdout",
     "output_type": "stream",
     "text": [
      "[10, 54]\n",
      "[54, 10, -753, 2, 9320]\n"
     ]
    }
   ],
   "source": [
    "# sample(sequence) - returns a list with a specified number of randomly selected items from a sequence (no duplicates!)\n",
    "from random import sample\n",
    "\n",
    "my_seq = [2, 10, 54, 9320, -753]\n",
    "print(sample(my_seq, 2))\n",
    "print(sample(my_seq, 5))"
   ]
  },
  {
   "cell_type": "markdown",
   "metadata": {},
   "source": [
    "## 1.4 – Discover host platform properties using the *platform* module"
   ]
  },
  {
   "cell_type": "markdown",
   "metadata": {},
   "source": [
    "- **functions: platform(), machine(), processor(), system(), version(), python_implementation(), python_version_tuple()**"
   ]
  },
  {
   "cell_type": "code",
   "execution_count": 47,
   "metadata": {},
   "outputs": [
    {
     "data": {
      "text/plain": [
       "'Windows-10-10.0.22631-SP0'"
      ]
     },
     "execution_count": 47,
     "metadata": {},
     "output_type": "execute_result"
    }
   ],
   "source": [
    "# platform() - returns a string containing information about the system\n",
    "import platform \n",
    "\n",
    "platform.platform()"
   ]
  },
  {
   "cell_type": "code",
   "execution_count": 49,
   "metadata": {},
   "outputs": [
    {
     "data": {
      "text/plain": [
       "'AMD64'"
      ]
     },
     "execution_count": 49,
     "metadata": {},
     "output_type": "execute_result"
    }
   ],
   "source": [
    "# platform() - returns information about the size of registers available in the core\n",
    "import platform \n",
    "\n",
    "platform.machine()"
   ]
  },
  {
   "cell_type": "code",
   "execution_count": 50,
   "metadata": {},
   "outputs": [
    {
     "data": {
      "text/plain": [
       "'Intel64 Family 6 Model 151 Stepping 2, GenuineIntel'"
      ]
     },
     "execution_count": 50,
     "metadata": {},
     "output_type": "execute_result"
    }
   ],
   "source": [
    "# processor() - returns the real name of the system’s processor\n",
    "import platform \n",
    "\n",
    "platform.processor()"
   ]
  },
  {
   "cell_type": "code",
   "execution_count": 52,
   "metadata": {},
   "outputs": [
    {
     "data": {
      "text/plain": [
       "'Windows'"
      ]
     },
     "execution_count": 52,
     "metadata": {},
     "output_type": "execute_result"
    }
   ],
   "source": [
    "# system() - returns the name of the OS\n",
    "import platform \n",
    "\n",
    "platform.system()"
   ]
  },
  {
   "cell_type": "code",
   "execution_count": 53,
   "metadata": {},
   "outputs": [
    {
     "data": {
      "text/plain": [
       "'10.0.22631'"
      ]
     },
     "execution_count": 53,
     "metadata": {},
     "output_type": "execute_result"
    }
   ],
   "source": [
    "# version() - returns the OS version\n",
    "import platform \n",
    "\n",
    "platform.version()"
   ]
  },
  {
   "cell_type": "code",
   "execution_count": 54,
   "metadata": {},
   "outputs": [
    {
     "data": {
      "text/plain": [
       "'CPython'"
      ]
     },
     "execution_count": 54,
     "metadata": {},
     "output_type": "execute_result"
    }
   ],
   "source": [
    "# python_implementation() - returns information about the python implementation. The possible outputs of this function are CPython, JPython, PyPy, IronPython\n",
    "import platform \n",
    "\n",
    "platform.python_implementation()"
   ]
  },
  {
   "cell_type": "code",
   "execution_count": 56,
   "metadata": {},
   "outputs": [
    {
     "data": {
      "text/plain": [
       "('3', '11', '5')"
      ]
     },
     "execution_count": 56,
     "metadata": {},
     "output_type": "execute_result"
    }
   ],
   "source": [
    "# python_version_tuple() - returns information about the Python version, but in tuple\n",
    "import platform \n",
    "\n",
    "platform.python_version_tuple()"
   ]
  },
  {
   "cell_type": "markdown",
   "metadata": {},
   "source": [
    "## 1.5 – Create and use user-defined modules and packages"
   ]
  },
  {
   "cell_type": "markdown",
   "metadata": {},
   "source": [
    "- **idea and rationale**"
   ]
  },
  {
   "cell_type": "markdown",
   "metadata": {},
   "source": [
    "Suppose you have developed a very large application that includes many modules. As the number of modules grows, it becomes difficult to keep track of them all if they are dumped into one location. This is particularly so if they have similar names or functionality. You might wish for a means of grouping and organizing them.\n",
    "\n",
    "Packages allow for a hierarchical structuring of the module namespace using dot notation. In the same way that modules help avoid collisions between global variable names, packages help avoid collisions between module names.\n",
    "\n",
    "(Since I don't want to mess up the content of this folder I created a special folder in \"Additional files\" which contains environment which the next blocks in this notebook will reference) "
   ]
  },
  {
   "cell_type": "markdown",
   "metadata": {},
   "source": [
    "- **the \\_\\_*pycache*__ directory**"
   ]
  },
  {
   "cell_type": "markdown",
   "metadata": {},
   "source": [
    "Python uses local \\_\\_pycache__ folders to store the compiled bytecode of **imported modules** in your project. On subsequent runs, the interpreter will try to load precompiled versions of modules from these folders, provided they’re up-to-date with the corresponding source files. Note that this caching mechanism only gets triggered for modules you import in your code rather than executing as scripts in the terminal."
   ]
  },
  {
   "cell_type": "markdown",
   "metadata": {},
   "source": [
    "When you import an **individual module** from a package, Python will produce the corresponding .pyc file and cache it in the \\_\\_pycache__ folder located inside that package. It’ll also compile the package’s \\_\\_init__.py file but won’t touch any other modules or nested subpackages. However, if the imported module itself imports other modules, then those modules will also be compiled, and so on."
   ]
  },
  {
   "cell_type": "markdown",
   "metadata": {},
   "source": [
    "To determine whether a module needs recompiling, Python compares the source file’s **size** and its **last-modified timestamp** to the metadata stored in the corresponding .pyc file."
   ]
  },
  {
   "cell_type": "markdown",
   "metadata": {},
   "source": [
    "You can instruct Python to store the cache in a centralized folder with this syntax:\n",
    "```shell\n",
    "$ python -X pycache_prefix=/tmp/pycache calculator.py\n",
    "```"
   ]
  },
  {
   "cell_type": "markdown",
   "metadata": {},
   "source": [
    "- **the \\_\\_*name*__ variable**"
   ]
  },
  {
   "cell_type": "markdown",
   "metadata": {},
   "source": [
    "For most practical purposes, you can think of the conditional block that you open with if \\_\\_name__ == \"\\_\\_main__\" as a way to store code that should only run when your file is executed as a script. Python sets the global \\_\\_name__ of a module equal to \"\\_\\_main__\" if the Python interpreter runs your code in the top-level code environment. It means that if imported module had this statement in itself, the code under it wouldn't run because \\_\\_name__ would be module's name not \\_\\_main__. "
   ]
  },
  {
   "cell_type": "markdown",
   "metadata": {},
   "source": [
    "- **public and private variables**"
   ]
  },
  {
   "cell_type": "markdown",
   "metadata": {},
   "source": [
    "A Class in Python has three types of access modifiers:\n",
    "\n",
    "- Public Access Modifier: Theoretically, public methods and fields can be accessed directly by any class.\n",
    "- Protected Access Modifier: Theoretically, protected methods and fields can be accessed within the same class it is declared and its subclass.  ( _ prefix)\n",
    "- Private Access Modifier: Theoretically, private methods and fields can be only accessed within the same class it is declared. ( __ prefix)\n",
    "\n",
    "I am mentioning “Theoretically” because python doesn’t follow the textbook definition of such specifications. Instead, it depends on the programmer/organization as well as a unique feature of python called as name mangling using which we can mimic the actual security provided by access modifiers."
   ]
  },
  {
   "cell_type": "markdown",
   "metadata": {},
   "source": [
    "- **the \\_\\_*init*__.py file**"
   ]
  },
  {
   "cell_type": "markdown",
   "metadata": {},
   "source": [
    "In Python projects, if you create a file called ```__init__.py``` in a directory then Python will treat that directory as a package. Since version 3.3 and the implementation of PEP 420, Python will automatically create “Namespace Packages” implicitly in many cases. This means that ```__init__.py``` is now often optional, but it’s still useful to structure your initialization code.\n",
    "\n",
    "A common thing to define in the ```__init__.py``` is the ```__all__``` variable. This overwrites what modules and functions should be imported when a user runs an import statement in the form ```from mypackage import *```. Another common thing is to define needed modules to import for the package."
   ]
  },
  {
   "cell_type": "markdown",
   "metadata": {},
   "source": [
    "- **searching for/through modules/packages**"
   ]
  },
  {
   "cell_type": "markdown",
   "metadata": {},
   "source": [
    "When a module named `spam` is imported, the interpreter first searches for a built-in module with that name. If not found, it then searches for a file named `spam.py` in a list of directories given by the variable `sys.path`. `sys.path` is initialized from these locations:\n",
    "\n",
    "- The directory containing the input script (or the current directory when no file is specified).\n",
    "- `PYTHONPATH` (a list of directory names, with the same syntax as the shell variable PATH).\n",
    "- The installation-dependent default."
   ]
  },
  {
   "cell_type": "markdown",
   "metadata": {},
   "source": [
    "- **nested packages vs. directory trees**"
   ]
  },
  {
   "cell_type": "markdown",
   "metadata": {},
   "source": [
    "You can import nested packages with this syntax:\n",
    "```python\n",
    "from package_1.package_2.package_3 import package_4\n",
    "```\n",
    "\n",
    "(I am not sure what \"directory trees\" are about)"
   ]
  }
 ],
 "metadata": {
  "kernelspec": {
   "display_name": "Python 3",
   "language": "python",
   "name": "python3"
  },
  "language_info": {
   "codemirror_mode": {
    "name": "ipython",
    "version": 3
   },
   "file_extension": ".py",
   "mimetype": "text/x-python",
   "name": "python",
   "nbconvert_exporter": "python",
   "pygments_lexer": "ipython3",
   "version": "3.11.5"
  }
 },
 "nbformat": 4,
 "nbformat_minor": 2
}
