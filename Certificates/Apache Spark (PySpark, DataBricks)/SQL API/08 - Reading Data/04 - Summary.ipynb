{
 "cells": [
  {
   "cell_type": "code",
   "execution_count": 0,
   "metadata": {
    "application/vnd.databricks.v1+cell": {
     "cellMetadata": {
      "byteLimit": 2048000,
      "rowLimit": 10000
     },
     "collapsed": true,
     "inputWidgets": {},
     "nuid": "7e6b80f0-0409-4d17-8939-63720682b66e",
     "showTitle": false,
     "tableResultSettingsMap": {},
     "title": ""
    }
   },
   "outputs": [],
   "source": [
    "schema = \"\"\"\n",
    "    order_id INT,\n",
    "    order_date TIMESTAMP,\n",
    "    order_customer_id INT,\n",
    "    order_status STRING\n",
    "\"\"\"\n",
    "\n",
    "columns = ['order_id', 'order_date', 'order_customer_id', 'order_status']"
   ]
  },
  {
   "cell_type": "code",
   "execution_count": 0,
   "metadata": {
    "application/vnd.databricks.v1+cell": {
     "cellMetadata": {
      "byteLimit": 2048000,
      "rowLimit": 10000
     },
     "inputWidgets": {},
     "nuid": "9bff1800-71f7-4aca-80e7-724c94721008",
     "showTitle": false,
     "tableResultSettingsMap": {},
     "title": ""
    }
   },
   "outputs": [],
   "source": [
    "# READING DATA (CSV, JSON, PARQUET)\n",
    "\n",
    "# Basics\n",
    "spark.read.csv('/public/retail_db/orders')\n",
    "spark.read.json('/public/retail_db_json/orders')\n",
    "spark.read.parquet('/user/root/retail_db_parquet/orders')\n",
    "\n",
    "# More fancy\n",
    "spark.read.format('csv').load('/public/retail_db/orders')\n",
    "spark.read.format('json').load('/public/retail_db_json/orders')\n",
    "spark.read.format('parquet').load('/user/root/retail_db_parquet/orders')\n",
    "\n",
    "# Specyfing Schema\n",
    "spark.read.csv('/public/retail_db/orders', schema=schema)\n",
    "spark.read.schema(schema).json('/public/retail_db_json/orders')\n",
    "\n",
    "# Specyfing set of options\n",
    "spark.read.csv('/public/retail_db/orders', sep=',', header='true')\n",
    "spark.read.option('header', True).csv('/public/retail_db/orders')\n",
    "spark\\\n",
    "    .read\\\n",
    "    .options(inferSchema='true', sep=',') \\\n",
    "    .csv('/public/retail_db/orders') \\\n",
    "    .toDF(*columns)\n",
    "\n",
    "# JSON and PARQUET will infer long and string schema automatically"
   ]
  }
 ],
 "metadata": {
  "application/vnd.databricks.v1+notebook": {
   "computePreferences": null,
   "dashboards": [],
   "environmentMetadata": {
    "base_environment": "",
    "environment_version": "2"
   },
   "inputWidgetPreferences": null,
   "language": "python",
   "notebookMetadata": {
    "pythonIndentUnit": 4
   },
   "notebookName": "04 - Summary",
   "widgets": {}
  },
  "language_info": {
   "name": "python"
  }
 },
 "nbformat": 4,
 "nbformat_minor": 0
}
