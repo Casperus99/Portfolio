{
 "cells": [
  {
   "cell_type": "code",
   "execution_count": 0,
   "metadata": {
    "application/vnd.databricks.v1+cell": {
     "cellMetadata": {
      "byteLimit": 2048000,
      "rowLimit": 10000
     },
     "inputWidgets": {},
     "nuid": "c7911a68-8100-4cfc-bf47-f64c1cafc6fe",
     "showTitle": false,
     "tableResultSettingsMap": {},
     "title": ""
    }
   },
   "outputs": [
    {
     "output_type": "stream",
     "name": "stdout",
     "output_type": "stream",
     "text": [
      "+-----------------+---------------------+--------+---------------+\n|order_customer_id|order_date           |order_id|order_status   |\n+-----------------+---------------------+--------+---------------+\n|11599            |2013-07-25 00:00:00.0|1       |CLOSED         |\n|256              |2013-07-25 00:00:00.0|2       |PENDING_PAYMENT|\n|12111            |2013-07-25 00:00:00.0|3       |COMPLETE       |\n|8827             |2013-07-25 00:00:00.0|4       |CLOSED         |\n|11318            |2013-07-25 00:00:00.0|5       |COMPLETE       |\n+-----------------+---------------------+--------+---------------+\nonly showing top 5 rows\n\nroot\n |-- order_customer_id: long (nullable = true)\n |-- order_date: string (nullable = true)\n |-- order_id: long (nullable = true)\n |-- order_status: string (nullable = true)\n\n"
     ]
    }
   ],
   "source": [
    "df = spark.read.parquet('/user/root/retail_db_parquet/orders')\n",
    "df.show(n=5, truncate=False)\n",
    "df.printSchema()"
   ]
  }
 ],
 "metadata": {
  "application/vnd.databricks.v1+notebook": {
   "computePreferences": null,
   "dashboards": [],
   "environmentMetadata": {
    "base_environment": "",
    "environment_version": "2"
   },
   "inputWidgetPreferences": null,
   "language": "python",
   "notebookMetadata": {
    "pythonIndentUnit": 4
   },
   "notebookName": "03 - Parquet",
   "widgets": {}
  },
  "language_info": {
   "name": "python"
  }
 },
 "nbformat": 4,
 "nbformat_minor": 0
}