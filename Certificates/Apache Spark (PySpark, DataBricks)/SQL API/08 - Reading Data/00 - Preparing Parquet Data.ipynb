{
 "cells": [
  {
   "cell_type": "code",
   "execution_count": 0,
   "metadata": {
    "application/vnd.databricks.v1+cell": {
     "cellMetadata": {
      "byteLimit": 2048000,
      "rowLimit": 10000
     },
     "inputWidgets": {},
     "nuid": "b0f2dda7-8535-479d-a84b-aa7e7e9f6096",
     "showTitle": false,
     "tableResultSettingsMap": {},
     "title": ""
    }
   },
   "outputs": [
    {
     "output_type": "stream",
     "name": "stdout",
     "output_type": "stream",
     "text": [
      "Converting data in dbfs:/public/retail_db_json/categories/ folder from json to parquet\nConverting data in dbfs:/public/retail_db_json/customers/ folder from json to parquet\nConverting data in dbfs:/public/retail_db_json/departments/ folder from json to parquet\nConverting data in dbfs:/public/retail_db_json/order_items/ folder from json to parquet\nConverting data in dbfs:/public/retail_db_json/orders/ folder from json to parquet\nConverting data in dbfs:/public/retail_db_json/products/ folder from json to parquet\n"
     ]
    }
   ],
   "source": [
    "import getpass\n",
    "username = getpass.getuser()\n",
    "\n",
    "input_dir = '/public/retail_db_json'\n",
    "output_dir = f'/user/{username}/retail_db_parquet'\n",
    "\n",
    "for file_details in dbutils.fs.ls(input_dir):\n",
    "    if not ('.git' in file_details.path or file_details.path.endswith('sql')):\n",
    "        print(f'Converting data in {file_details.path} folder from json to parquet')\n",
    "        data_set_dir = file_details.path.split('/')[-2]\n",
    "        df = spark.read.json(file_details.path)\n",
    "        df.coalesce(1).write.parquet(f'{output_dir}/{data_set_dir}', mode='overwrite')\n",
    "\n",
    "dbutils.fs.ls(f'/user/{username}/retail_db_parquet/orders')\n",
    "orders = spark.read.parquet(f'/user/{username}/retail_db_parquet/orders')"
   ]
  }
 ],
 "metadata": {
  "application/vnd.databricks.v1+notebook": {
   "computePreferences": null,
   "dashboards": [],
   "environmentMetadata": null,
   "inputWidgetPreferences": null,
   "language": "python",
   "notebookMetadata": {
    "pythonIndentUnit": 4
   },
   "notebookName": "00 - Preparing Parquet Data",
   "widgets": {}
  },
  "language_info": {
   "name": "python"
  }
 },
 "nbformat": 4,
 "nbformat_minor": 0
}