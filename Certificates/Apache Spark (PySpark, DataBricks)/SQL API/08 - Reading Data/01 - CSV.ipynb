{
 "cells": [
  {
   "cell_type": "code",
   "execution_count": 0,
   "metadata": {
    "application/vnd.databricks.v1+cell": {
     "cellMetadata": {
      "byteLimit": 2048000,
      "rowLimit": 10000
     },
     "collapsed": true,
     "inputWidgets": {},
     "nuid": "d2d55cb9-180d-4be7-9b0e-7f4d849d2862",
     "showTitle": false,
     "tableResultSettingsMap": {},
     "title": ""
    }
   },
   "outputs": [],
   "source": [
    "schema = \"\"\"\n",
    "    order_id INT,\n",
    "    order_date TIMESTAMP,\n",
    "    order_customer_id INT,\n",
    "    order_status STRING\n",
    "\"\"\"\n",
    "\n",
    "columns = ['order_id', 'order_date', 'order_customer_id', 'order_status']"
   ]
  },
  {
   "cell_type": "code",
   "execution_count": 0,
   "metadata": {
    "application/vnd.databricks.v1+cell": {
     "cellMetadata": {},
     "inputWidgets": {},
     "nuid": "6e878bb3-23de-42bc-ba2a-a344fcb91736",
     "showTitle": false,
     "tableResultSettingsMap": {},
     "title": ""
    }
   },
   "outputs": [],
   "source": [
    "# READING CSV FILES\n",
    "\n",
    "# Base\n",
    "spark.read.csv('/public/retail_db/orders')\n",
    "\n",
    "# 2 ways to specify options\n",
    "    # Inside .csv() method\n",
    "spark.read.csv('/public/retail_db/orders', sep=',', header='true')\n",
    "    # Using .options()\n",
    "spark\\\n",
    "    .read\\\n",
    "    .options(inferSchema='true', sep=',') \\\n",
    "    .csv('/public/retail_db/orders') \\\n",
    "    .toDF(*columns)"
   ]
  },
  {
   "cell_type": "code",
   "execution_count": 0,
   "metadata": {
    "application/vnd.databricks.v1+cell": {
     "cellMetadata": {
      "byteLimit": 2048000,
      "rowLimit": 10000
     },
     "inputWidgets": {},
     "nuid": "508163a0-e1ea-4cef-872e-ff6d141c30f1",
     "showTitle": false,
     "tableResultSettingsMap": {},
     "title": ""
    }
   },
   "outputs": [],
   "source": [
    "# Basic way to read CSV\n",
    "# Notice that column names are predefined and all of them are strings\n",
    "\n",
    "orders = spark.read.csv('/public/retail_db/orders')\n",
    "orders.show(n=10)\n",
    "orders.printSchema()"
   ]
  },
  {
   "cell_type": "code",
   "execution_count": 0,
   "metadata": {
    "application/vnd.databricks.v1+cell": {
     "cellMetadata": {
      "byteLimit": 2048000,
      "rowLimit": 10000
     },
     "inputWidgets": {},
     "nuid": "7a5d87cd-3464-410f-8a38-fac47d762eef",
     "showTitle": false,
     "tableResultSettingsMap": {},
     "title": ""
    }
   },
   "outputs": [],
   "source": [
    "# We can use schema to define column names and types\n",
    "\n",
    "\n",
    "\n",
    "orders = spark.read.schema(schema).csv('/public/retail_db/orders')\n",
    "orders = spark.read.csv('/public/retail_db/orders', schema=schema)\n",
    "\n",
    "orders.show(n=5)\n",
    "orders.printSchema()"
   ]
  },
  {
   "cell_type": "code",
   "execution_count": 0,
   "metadata": {
    "application/vnd.databricks.v1+cell": {
     "cellMetadata": {
      "byteLimit": 2048000,
      "rowLimit": 10000
     },
     "inputWidgets": {},
     "nuid": "5a4631f2-fc73-488f-9b84-3bd3b7bf3b83",
     "showTitle": false,
     "tableResultSettingsMap": {},
     "title": ""
    }
   },
   "outputs": [],
   "source": [
    "# We can also infer schema from the data itself\n",
    "\n",
    "columns = ['order_id', 'order_date', 'order_customer_id', 'order_status']\n",
    "\n",
    "orders = spark.read.option('inferSchema', 'true').csv('/public/retail_db/orders').toDF(*columns)\n",
    "orders = spark.read.csv('/public/retail_db/orders', inferSchema='true').toDF(*columns)\n",
    "\n",
    "orders.show(n=5)\n",
    "orders.printSchema()"
   ]
  },
  {
   "cell_type": "code",
   "execution_count": 0,
   "metadata": {
    "application/vnd.databricks.v1+cell": {
     "cellMetadata": {},
     "inputWidgets": {},
     "nuid": "47ee5758-37cf-4197-a557-2016b364e6bc",
     "showTitle": false,
     "tableResultSettingsMap": {},
     "title": ""
    }
   },
   "outputs": [],
   "source": [
    "# We can also specify the separator\n",
    "\n",
    "orders = spark.read.csv('/public/retail_db/orders', sep=',')"
   ]
  }
 ],
 "metadata": {
  "application/vnd.databricks.v1+notebook": {
   "computePreferences": null,
   "dashboards": [],
   "environmentMetadata": {
    "base_environment": "",
    "environment_version": "2"
   },
   "inputWidgetPreferences": null,
   "language": "python",
   "notebookMetadata": {
    "pythonIndentUnit": 4
   },
   "notebookName": "01 - CSV",
   "widgets": {}
  },
  "language_info": {
   "name": "python"
  }
 },
 "nbformat": 4,
 "nbformat_minor": 0
}
