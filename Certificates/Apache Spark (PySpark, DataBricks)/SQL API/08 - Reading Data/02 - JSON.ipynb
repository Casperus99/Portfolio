{
 "cells": [
  {
   "cell_type": "code",
   "execution_count": 0,
   "metadata": {
    "application/vnd.databricks.v1+cell": {
     "cellMetadata": {
      "byteLimit": 2048000,
      "rowLimit": 10000
     },
     "collapsed": true,
     "inputWidgets": {},
     "nuid": "75c54a33-6114-4e40-8643-d86da173536e",
     "showTitle": false,
     "tableResultSettingsMap": {},
     "title": ""
    }
   },
   "outputs": [],
   "source": [
    "schema = \"\"\"\n",
    "    order_id INT,\n",
    "    order_date TIMESTAMP,\n",
    "    order_customer_id INT,\n",
    "    order_status STRING\n",
    "\"\"\""
   ]
  },
  {
   "cell_type": "code",
   "execution_count": 0,
   "metadata": {
    "application/vnd.databricks.v1+cell": {
     "cellMetadata": {},
     "inputWidgets": {},
     "nuid": "c1d849ea-b06c-41de-acb2-6eced63a2bd1",
     "showTitle": false,
     "tableResultSettingsMap": {},
     "title": ""
    }
   },
   "outputs": [],
   "source": [
    "# READING JSON FILES\n",
    "# It's quite similar to CSV files\n",
    "\n",
    "# Basic - it can distinguish between strings and numbers\n",
    "spark.read.json('/public/retail_db_json/orders')\n",
    "spark.read.format('json').load('/public/retail_db_json/orders')\n",
    "\n",
    "# With schema\n",
    "spark.read.json('/public/retail_db_json/orders', schema=schema)"
   ]
  },
  {
   "cell_type": "code",
   "execution_count": 0,
   "metadata": {
    "application/vnd.databricks.v1+cell": {
     "cellMetadata": {
      "byteLimit": 2048000,
      "rowLimit": 10000
     },
     "inputWidgets": {},
     "nuid": "d64d57d2-4397-46af-9e74-bfe4b74d681f",
     "showTitle": false,
     "tableResultSettingsMap": {},
     "title": ""
    }
   },
   "outputs": [
    {
     "output_type": "stream",
     "name": "stdout",
     "output_type": "stream",
     "text": [
      "+-----------------+---------------------+--------+---------------+\n|order_customer_id|order_date           |order_id|order_status   |\n+-----------------+---------------------+--------+---------------+\n|11599            |2013-07-25 00:00:00.0|1       |CLOSED         |\n|256              |2013-07-25 00:00:00.0|2       |PENDING_PAYMENT|\n|12111            |2013-07-25 00:00:00.0|3       |COMPLETE       |\n|8827             |2013-07-25 00:00:00.0|4       |CLOSED         |\n|11318            |2013-07-25 00:00:00.0|5       |COMPLETE       |\n+-----------------+---------------------+--------+---------------+\nonly showing top 5 rows\n\nroot\n |-- order_customer_id: long (nullable = true)\n |-- order_date: string (nullable = true)\n |-- order_id: long (nullable = true)\n |-- order_status: string (nullable = true)\n\n"
     ]
    }
   ],
   "source": [
    "# Basic reading options\n",
    "# Take notice that the schema is kinda inferred...\n",
    "\n",
    "df = spark.read.json('/public/retail_db_json/orders')\n",
    "df = spark.read.format('json').load('/public/retail_db_json/orders')\n",
    "df.show(n=5, truncate=False)\n",
    "df.printSchema()"
   ]
  },
  {
   "cell_type": "code",
   "execution_count": 0,
   "metadata": {
    "application/vnd.databricks.v1+cell": {
     "cellMetadata": {
      "byteLimit": 2048000,
      "rowLimit": 10000
     },
     "inputWidgets": {},
     "nuid": "782d551a-7c8c-4047-a5f3-292073088982",
     "showTitle": false,
     "tableResultSettingsMap": {},
     "title": ""
    }
   },
   "outputs": [],
   "source": [
    "# ... but we can provide a fully specified schema\n",
    "\n",
    "df = spark.read.json('/public/retail_db_json/orders', schema=schema)"
   ]
  }
 ],
 "metadata": {
  "application/vnd.databricks.v1+notebook": {
   "computePreferences": null,
   "dashboards": [],
   "environmentMetadata": {
    "base_environment": "",
    "environment_version": "2"
   },
   "inputWidgetPreferences": null,
   "language": "python",
   "notebookMetadata": {
    "pythonIndentUnit": 4
   },
   "notebookName": "02 - JSON",
   "widgets": {}
  },
  "language_info": {
   "name": "python"
  }
 },
 "nbformat": 4,
 "nbformat_minor": 0
}