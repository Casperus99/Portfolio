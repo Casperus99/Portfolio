{
 "cells": [
  {
   "cell_type": "code",
   "execution_count": 0,
   "metadata": {
    "application/vnd.databricks.v1+cell": {
     "cellMetadata": {
      "byteLimit": 2048000,
      "rowLimit": 10000
     },
     "collapsed": true,
     "inputWidgets": {},
     "nuid": "657da8cb-d2b6-45d1-b0c8-4e689891be7e",
     "showTitle": false,
     "tableResultSettingsMap": {},
     "title": ""
    }
   },
   "outputs": [],
   "source": [
    "%run \"./00 - Sample DataFrame\""
   ]
  },
  {
   "cell_type": "code",
   "execution_count": 0,
   "metadata": {
    "application/vnd.databricks.v1+cell": {
     "cellMetadata": {
      "byteLimit": 2048000,
      "rowLimit": 10000
     },
     "collapsed": true,
     "inputWidgets": {},
     "nuid": "bf846c7a-8013-4da6-bc7b-1c6e40378338",
     "showTitle": false,
     "tableResultSettingsMap": {},
     "title": ""
    }
   },
   "outputs": [],
   "source": [
    "from pyspark.sql.functions import *"
   ]
  },
  {
   "cell_type": "code",
   "execution_count": 0,
   "metadata": {
    "application/vnd.databricks.v1+cell": {
     "cellMetadata": {
      "byteLimit": 2048000,
      "rowLimit": 10000
     },
     "inputWidgets": {},
     "nuid": "894caa4d-cc70-43cb-8093-66b7c30a7c7b",
     "showTitle": false,
     "tableResultSettingsMap": {},
     "title": ""
    }
   },
   "outputs": [
    {
     "output_type": "stream",
     "name": "stdout",
     "output_type": "stream",
     "text": [
      "Help on method filter in module pyspark.sql.dataframe:\n\nfilter(condition: 'ColumnOrName') -> 'DataFrame' method of pyspark.sql.dataframe.DataFrame instance\n    Filters rows using the given condition.\n    \n    :func:`where` is an alias for :func:`filter`.\n    \n    .. versionadded:: 1.3.0\n    \n    .. versionchanged:: 3.4.0\n        Supports Spark Connect.\n    \n    Parameters\n    ----------\n    condition : :class:`Column` or str\n        A :class:`Column` of :class:`types.BooleanType`\n        or a string of SQL expressions.\n    \n    Returns\n    -------\n    :class:`DataFrame`\n        A new DataFrame with rows that satisfy the condition.\n    \n    Examples\n    --------\n    >>> df = spark.createDataFrame([\n    ...     (2, \"Alice\", \"Math\"), (5, \"Bob\", \"Physics\"), (7, \"Charlie\", \"Chemistry\")],\n    ...     schema=[\"age\", \"name\", \"subject\"])\n    \n    Filter by :class:`Column` instances.\n    \n    >>> df.filter(df.age > 3).show()\n    +---+-------+---------+\n    |age|   name|  subject|\n    +---+-------+---------+\n    |  5|    Bob|  Physics|\n    |  7|Charlie|Chemistry|\n    +---+-------+---------+\n    >>> df.where(df.age == 2).show()\n    +---+-----+-------+\n    |age| name|subject|\n    +---+-----+-------+\n    |  2|Alice|   Math|\n    +---+-----+-------+\n    \n    Filter by SQL expression in a string.\n    \n    >>> df.filter(\"age > 3\").show()\n    +---+-------+---------+\n    |age|   name|  subject|\n    +---+-------+---------+\n    |  5|    Bob|  Physics|\n    |  7|Charlie|Chemistry|\n    +---+-------+---------+\n    >>> df.where(\"age = 2\").show()\n    +---+-----+-------+\n    |age| name|subject|\n    +---+-----+-------+\n    |  2|Alice|   Math|\n    +---+-----+-------+\n    \n    Filter by multiple conditions.\n    \n    >>> df.filter((df.age > 3) & (df.subject == \"Physics\")).show()\n    +---+----+-------+\n    |age|name|subject|\n    +---+----+-------+\n    |  5| Bob|Physics|\n    +---+----+-------+\n    >>> df.filter((df.age == 2) | (df.subject == \"Chemistry\")).show()\n    +---+-------+---------+\n    |age|   name|  subject|\n    +---+-------+---------+\n    |  2|  Alice|     Math|\n    |  7|Charlie|Chemistry|\n    +---+-------+---------+\n    \n    Filter by multiple conditions using SQL expression.\n    \n    >>> df.filter(\"age > 3 AND name = 'Bob'\").show()\n    +---+----+-------+\n    |age|name|subject|\n    +---+----+-------+\n    |  5| Bob|Physics|\n    +---+----+-------+\n    \n    Filter using the :func:`Column.isin` function.\n    \n    >>> df.filter(df.name.isin(\"Alice\", \"Bob\")).show()\n    +---+-----+-------+\n    |age| name|subject|\n    +---+-----+-------+\n    |  2|Alice|   Math|\n    |  5|  Bob|Physics|\n    +---+-----+-------+\n    \n    Filter by a list of values using the :func:`Column.isin` function.\n    \n    >>> df.filter(df.subject.isin([\"Math\", \"Physics\"])).show()\n    +---+-----+-------+\n    |age| name|subject|\n    +---+-----+-------+\n    |  2|Alice|   Math|\n    |  5|  Bob|Physics|\n    +---+-----+-------+\n    \n    Filter using the `~` operator to exclude certain values.\n    \n    >>> df.filter(~df.name.isin([\"Alice\", \"Charlie\"])).show()\n    +---+----+-------+\n    |age|name|subject|\n    +---+----+-------+\n    |  5| Bob|Physics|\n    +---+----+-------+\n    \n    Filter using the :func:`Column.isNotNull` function.\n    \n    >>> df.filter(df.name.isNotNull()).show()\n    +---+-------+---------+\n    |age|   name|  subject|\n    +---+-------+---------+\n    |  2|  Alice|     Math|\n    |  5|    Bob|  Physics|\n    |  7|Charlie|Chemistry|\n    +---+-------+---------+\n    \n    Filter using the :func:`Column.like` function.\n    \n    >>> df.filter(df.name.like(\"Al%\")).show()\n    +---+-----+-------+\n    |age| name|subject|\n    +---+-----+-------+\n    |  2|Alice|   Math|\n    +---+-----+-------+\n    \n    Filter using the :func:`Column.contains` function.\n    \n    >>> df.filter(df.name.contains(\"i\")).show()\n    +---+-------+---------+\n    |age|   name|  subject|\n    +---+-------+---------+\n    |  2|  Alice|     Math|\n    |  7|Charlie|Chemistry|\n    +---+-------+---------+\n    \n    Filter using the :func:`Column.between` function.\n    \n    >>> df.filter(df.age.between(2, 5)).show()\n    +---+-----+-------+\n    |age| name|subject|\n    +---+-----+-------+\n    |  2|Alice|   Math|\n    |  5|  Bob|Physics|\n    +---+-----+-------+\n\n"
     ]
    },
    {
     "output_type": "stream",
     "name": "stdout",
     "output_type": "stream",
     "text": [
      "+---+----------+------------+--------------------+------+-------------+--------------------+-------+-----------+-----------+-------------+-------------------+\n| id|first_name|   last_name|               email|gender| current_city|       phone_numbers|courses|is_customer|amount_paid|customer_from|    last_updated_ts|\n+---+----------+------------+--------------------+------+-------------+--------------------+-------+-----------+-----------+-------------+-------------------+\n|  1|    Corrie|Van den Oord|cvandenoord0@etsy...|  male|       Dallas|{+1 234 567 8901,...| [1, 2]|       true|    1000.55|   2021-01-15|2021-02-10 01:15:00|\n|  2|  Nikolaus|     Brewitt|nbrewitt1@dailyma...|  male|      Houston|{+1 234 567 8923,...|    [3]|       true|      900.0|   2021-02-14|2021-02-18 03:33:00|\n|  3|    Orelie|      Penney|openney2@vistapri...|female|             |{+1 714 512 9752,...| [2, 4]|       true|     850.55|   2021-01-21|2021-03-15 15:16:55|\n|  4|     Ashby|    Maddocks|  amaddocks3@home.pl|  male|San Fransisco|        {NULL, NULL}|     []|      false|        NaN|         NULL|2021-04-10 17:45:30|\n|  5|      Kurt|        Rome|krome4@shutterfly...|female|         NULL|{+1 817 934 7142,...|     []|      false|        NaN|         NULL|2021-04-02 00:55:18|\n+---+----------+------------+--------------------+------+-------------+--------------------+-------+-----------+-----------+-------------+-------------------+\n\n"
     ]
    }
   ],
   "source": [
    "help(users_df.filter)"
   ]
  },
  {
   "cell_type": "code",
   "execution_count": 0,
   "metadata": {
    "application/vnd.databricks.v1+cell": {
     "cellMetadata": {
      "byteLimit": 2048000,
      "rowLimit": 10000
     },
     "inputWidgets": {},
     "nuid": "e843abaa-d242-4df5-b0f5-b6c697f5291a",
     "showTitle": false,
     "tableResultSettingsMap": {},
     "title": ""
    }
   },
   "outputs": [
    {
     "output_type": "stream",
     "name": "stdout",
     "output_type": "stream",
     "text": [
      "+---+----------+---------+--------------------+------+-------------+--------------------+-------+-----------+-----------+-------------+-------------------+\n| id|first_name|last_name|               email|gender| current_city|       phone_numbers|courses|is_customer|amount_paid|customer_from|    last_updated_ts|\n+---+----------+---------+--------------------+------+-------------+--------------------+-------+-----------+-----------+-------------+-------------------+\n|  3|    Orelie|   Penney|openney2@vistapri...|female|             |{+1 714 512 9752,...| [2, 4]|       true|     850.55|   2021-01-21|2021-03-15 15:16:55|\n|  4|     Ashby| Maddocks|  amaddocks3@home.pl|  male|San Fransisco|        {NULL, NULL}|     []|      false|        NaN|         NULL|2021-04-10 17:45:30|\n|  5|      Kurt|     Rome|krome4@shutterfly...|female|         NULL|{+1 817 934 7142,...|     []|      false|        NaN|         NULL|2021-04-02 00:55:18|\n+---+----------+---------+--------------------+------+-------------+--------------------+-------+-----------+-----------+-------------+-------------------+\n\n"
     ]
    }
   ],
   "source": [
    "# Typical way to filter\n",
    "\n",
    "users_df.filter(col('id') >= 3).show()"
   ]
  },
  {
   "cell_type": "code",
   "execution_count": 0,
   "metadata": {
    "application/vnd.databricks.v1+cell": {
     "cellMetadata": {
      "byteLimit": 2048000,
      "rowLimit": 10000
     },
     "inputWidgets": {},
     "nuid": "df04af9b-15d6-47b8-91bd-eb1c0c8858df",
     "showTitle": false,
     "tableResultSettingsMap": {},
     "title": ""
    }
   },
   "outputs": [
    {
     "output_type": "stream",
     "name": "stdout",
     "output_type": "stream",
     "text": [
      "+---+----------+------------+--------------------+------+------------+--------------------+-------+-----------+-----------+-------------+-------------------+\n| id|first_name|   last_name|               email|gender|current_city|       phone_numbers|courses|is_customer|amount_paid|customer_from|    last_updated_ts|\n+---+----------+------------+--------------------+------+------------+--------------------+-------+-----------+-----------+-------------+-------------------+\n|  1|    Corrie|Van den Oord|cvandenoord0@etsy...|  male|      Dallas|{+1 234 567 8901,...| [1, 2]|       true|    1000.55|   2021-01-15|2021-02-10 01:15:00|\n|  5|      Kurt|        Rome|krome4@shutterfly...|female|        NULL|{+1 817 934 7142,...|     []|      false|        NaN|         NULL|2021-04-02 00:55:18|\n+---+----------+------------+--------------------+------+------------+--------------------+-------+-----------+-----------+-------------+-------------------+\n\n"
     ]
    }
   ],
   "source": [
    "# We can also use where() function which is the same.\n",
    "# WE can also provide more SQL-like format as a string.\n",
    "\n",
    "users_df.filter(\"current_city = 'Dallas' OR current_city IS NULL\").show()"
   ]
  }
 ],
 "metadata": {
  "application/vnd.databricks.v1+notebook": {
   "computePreferences": null,
   "dashboards": [],
   "environmentMetadata": {
    "base_environment": "",
    "environment_version": "2"
   },
   "inputWidgetPreferences": null,
   "language": "python",
   "notebookMetadata": {
    "pythonIndentUnit": 4
   },
   "notebookName": "01 - Overview of Filter (Where)",
   "widgets": {}
  },
  "language_info": {
   "name": "python"
  }
 },
 "nbformat": 4,
 "nbformat_minor": 0
}