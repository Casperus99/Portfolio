{
 "cells": [
  {
   "cell_type": "code",
   "execution_count": 0,
   "metadata": {
    "application/vnd.databricks.v1+cell": {
     "cellMetadata": {
      "byteLimit": 2048000,
      "rowLimit": 10000
     },
     "inputWidgets": {},
     "nuid": "bc4fc765-8a0c-4894-9bda-8ec73a4e3918",
     "showTitle": false,
     "tableResultSettingsMap": {},
     "title": ""
    }
   },
   "outputs": [],
   "source": [
    "from pyspark.sql.functions import *\n",
    "\n",
    "order_items = spark.read.json('/public/retail_db_json/order_items')\n",
    "orders = spark.read.json('/public/retail_db_json/orders')"
   ]
  },
  {
   "cell_type": "code",
   "execution_count": 0,
   "metadata": {
    "application/vnd.databricks.v1+cell": {
     "cellMetadata": {},
     "inputWidgets": {},
     "nuid": "6d33aea6-844e-4a2c-969b-49c6e11e8362",
     "showTitle": false,
     "tableResultSettingsMap": {},
     "title": ""
    }
   },
   "outputs": [],
   "source": [
    "# AGGREGATIONS\n",
    "\n",
    "# Basic total aggregation\n",
    "orders.select(count('*').alias('count'), sum('order_id').alias('sum')).show()\n",
    "\n",
    "# Aggregation by specific column\n",
    "order_items.groupBy('order_item_id').sum('order_item_quantity').show(n=10)\n",
    "\n",
    "# Aggregation using .agg() method - far more flexible\n",
    "order_items\\\n",
    "    .groupBy('order_item_id')\\\n",
    "    .agg(sum('order_item_quantity'), sum('order_item_subtotal').alias('order_revenue'), min('order_item_quantity'))\\\n",
    "    .show(n=5)"
   ]
  },
  {
   "cell_type": "code",
   "execution_count": 0,
   "metadata": {
    "application/vnd.databricks.v1+cell": {
     "cellMetadata": {
      "byteLimit": 2048000,
      "rowLimit": 10000
     },
     "inputWidgets": {},
     "nuid": "27a80213-f283-4a64-b3a3-5cadb1dad3fc",
     "showTitle": false,
     "tableResultSettingsMap": {},
     "title": ""
    }
   },
   "outputs": [],
   "source": [
    "# Basic aggregation of whole dataset (Total Aggregation)\n",
    "\n",
    "orders.select(count('*').alias('count'), sum('order_id').alias('sum')).show()"
   ]
  },
  {
   "cell_type": "code",
   "execution_count": 0,
   "metadata": {
    "application/vnd.databricks.v1+cell": {
     "cellMetadata": {
      "byteLimit": 2048000,
      "rowLimit": 10000
     },
     "inputWidgets": {},
     "nuid": "5cf490e4-4b1c-4fb0-9934-868d47633a10",
     "showTitle": false,
     "tableResultSettingsMap": {},
     "title": ""
    }
   },
   "outputs": [],
   "source": [
    "# .count() method can be used directly on a dataset\n",
    "\n",
    "orders.count()"
   ]
  },
  {
   "cell_type": "code",
   "execution_count": 0,
   "metadata": {
    "application/vnd.databricks.v1+cell": {
     "cellMetadata": {
      "byteLimit": 2048000,
      "rowLimit": 10000
     },
     "inputWidgets": {},
     "nuid": "1965b051-ce2a-471c-a63c-abce54331973",
     "showTitle": false,
     "tableResultSettingsMap": {},
     "title": ""
    }
   },
   "outputs": [],
   "source": [
    "# .groupBy method creates GroupedData datatype.\n",
    "# It allows us to use aggregate by specific groups.\n",
    "\n",
    "type(order_items.groupBy())"
   ]
  },
  {
   "cell_type": "code",
   "execution_count": 0,
   "metadata": {
    "application/vnd.databricks.v1+cell": {
     "cellMetadata": {
      "byteLimit": 2048000,
      "rowLimit": 10000
     },
     "inputWidgets": {},
     "nuid": "eac440ad-232c-47b6-a720-71d66702a321",
     "showTitle": false,
     "tableResultSettingsMap": {},
     "title": ""
    }
   },
   "outputs": [],
   "source": [
    "# .groupBy() without an argument lets us aggregate the whole dataset (that can be aggregated with used function)\n",
    "# For example: min() will not return the value for a string column\n",
    "\n",
    "order_items.groupBy().min().show()"
   ]
  },
  {
   "cell_type": "code",
   "execution_count": 0,
   "metadata": {
    "application/vnd.databricks.v1+cell": {
     "cellMetadata": {
      "byteLimit": 2048000,
      "rowLimit": 10000
     },
     "inputWidgets": {},
     "nuid": "3512db8d-9b96-4f6b-8961-79870840e7d6",
     "showTitle": false,
     "tableResultSettingsMap": {},
     "title": ""
    }
   },
   "outputs": [],
   "source": [
    "# .groupBy() with an argument lets us aggregate the dataset by specific columns\n",
    "# .sum(*cols) will return the sum of all values for the given columns\n",
    "\n",
    "order_items.groupBy('order_item_id').sum('order_item_quantity').show(n=10)"
   ]
  },
  {
   "cell_type": "code",
   "execution_count": 0,
   "metadata": {
    "application/vnd.databricks.v1+cell": {
     "cellMetadata": {
      "byteLimit": 2048000,
      "rowLimit": 10000
     },
     "inputWidgets": {},
     "nuid": "9fb844ed-830b-4d18-bd6a-4ee222039a5a",
     "showTitle": false,
     "tableResultSettingsMap": {},
     "title": ""
    }
   },
   "outputs": [],
   "source": [
    "# But this syntax is quite limited - we can use only one aggr function\n",
    "\n",
    "order_items \\\n",
    "    .groupBy('order_item_id') \\\n",
    "    .sum('order_item_quantity') \\\n",
    "    .min('order_item_quantity') \\\n",
    "    .show()"
   ]
  },
  {
   "cell_type": "code",
   "execution_count": 0,
   "metadata": {
    "application/vnd.databricks.v1+cell": {
     "cellMetadata": {
      "byteLimit": 2048000,
      "rowLimit": 10000
     },
     "inputWidgets": {},
     "nuid": "f4da7a13-d5c7-411c-b005-7e97d195a00b",
     "showTitle": false,
     "tableResultSettingsMap": {},
     "title": ""
    }
   },
   "outputs": [],
   "source": [
    "# And editing aggr column is also difficult\n",
    "\n",
    "order_items\\\n",
    "    .groupBy('order_item_id')\\\n",
    "    .sum('order_item_quantity', 'order_item_subtotal')\\\n",
    "    .toDF('order_item_order_id', 'order_quantity', 'order_revenue')\\\n",
    "    .withColumn('order_revenue', round('order_revenue', 2))\\\n",
    "    .show(n=10)"
   ]
  },
  {
   "cell_type": "code",
   "execution_count": 0,
   "metadata": {
    "application/vnd.databricks.v1+cell": {
     "cellMetadata": {
      "byteLimit": 2048000,
      "rowLimit": 10000
     },
     "inputWidgets": {},
     "nuid": "0adb009d-8d2a-40e5-81cb-2be44180926e",
     "showTitle": false,
     "tableResultSettingsMap": {},
     "title": ""
    }
   },
   "outputs": [],
   "source": [
    "# A better way is to use .agg() method\n",
    "# Then we can use multiple aggr functions and edit the aggr columns on the fly\n",
    "\n",
    "order_items\\\n",
    "    .groupBy('order_item_id')\\\n",
    "    .agg(sum('order_item_quantity'), sum('order_item_subtotal').alias('order_revenue'), min('order_item_quantity'))\\\n",
    "    .show(n=5)"
   ]
  }
 ],
 "metadata": {
  "application/vnd.databricks.v1+notebook": {
   "computePreferences": null,
   "dashboards": [],
   "environmentMetadata": {
    "base_environment": "",
    "environment_version": "2"
   },
   "inputWidgetPreferences": null,
   "language": "python",
   "notebookMetadata": {
    "pythonIndentUnit": 4
   },
   "notebookName": "01 - Aggregations",
   "widgets": {}
  },
  "language_info": {
   "name": "python"
  }
 },
 "nbformat": 4,
 "nbformat_minor": 0
}
