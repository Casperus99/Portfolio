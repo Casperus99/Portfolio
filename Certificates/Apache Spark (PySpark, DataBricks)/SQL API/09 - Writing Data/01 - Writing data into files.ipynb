{
 "cells": [
  {
   "cell_type": "code",
   "execution_count": 0,
   "metadata": {
    "application/vnd.databricks.v1+cell": {
     "cellMetadata": {
      "byteLimit": 2048000,
      "rowLimit": 10000
     },
     "inputWidgets": {},
     "nuid": "6cf2b381-f3eb-4c6c-8918-f17ffd0feb55",
     "showTitle": false,
     "tableResultSettingsMap": {},
     "title": ""
    }
   },
   "outputs": [],
   "source": [
    "orders = spark.read.csv('/public/retail_db/orders')\n",
    "import getpass\n",
    "username = getpass.getuser()"
   ]
  },
  {
   "cell_type": "code",
   "execution_count": 0,
   "metadata": {
    "application/vnd.databricks.v1+cell": {
     "cellMetadata": {
      "byteLimit": 2048000,
      "rowLimit": 10000
     },
     "inputWidgets": {},
     "nuid": "f9e1ad8e-2d57-4e1d-a235-6faab45a6398",
     "showTitle": false,
     "tableResultSettingsMap": {},
     "title": ""
    }
   },
   "outputs": [],
   "source": [
    "# WRITING DATA\n",
    "\n",
    "# Basics\n",
    "orders.write.csv(f'/user/{username}/retail_db/orders', header=True)\n",
    "orders.write.format('json').save(f'/user/{username}/retail_db/orders')\n",
    "\n",
    "# Compression\n",
    "orders.write.csv(f'/user/{username}/retail_db/orders', compression='gzip')\n",
    "\n",
    "# Mode\n",
    "    # overwrite - delete the directory and create a new one\n",
    "    # append - add new files to the directory\n",
    "    # ignore - do nothing if the directory exists\n",
    "    # error - throw an error if the directory exists\n",
    "orders.write.csv(f'/user/{username}/retail_db/orders', mode='overwrite')\n",
    "\n",
    "# Coalesce - only less\n",
    "orders.coalesce(1).write.csv(f'/user/{username}/retail_db/orders', mode='overwrite')\n",
    "\n",
    "# Repartition - less or more + reshuffling\n",
    "orders.repartition(10).write.csv(f'/user/{username}/retail_db/orders', mode='overwrite')"
   ]
  },
  {
   "cell_type": "code",
   "execution_count": 0,
   "metadata": {
    "application/vnd.databricks.v1+cell": {
     "cellMetadata": {
      "byteLimit": 2048000,
      "rowLimit": 10000
     },
     "inputWidgets": {},
     "nuid": "c98d0274-8716-4580-8ab6-154246993109",
     "showTitle": false,
     "tableResultSettingsMap": {},
     "title": ""
    }
   },
   "outputs": [],
   "source": [
    "# Deleting directory\n",
    "dbutils.fs.rm(f'/user/{username}/retail_db/orders', recurse=True)"
   ]
  },
  {
   "cell_type": "code",
   "execution_count": 0,
   "metadata": {
    "application/vnd.databricks.v1+cell": {
     "cellMetadata": {
      "byteLimit": 2048000,
      "rowLimit": 10000
     },
     "inputWidgets": {},
     "nuid": "afc861d6-0916-4351-a570-9a879a3f1ea9",
     "showTitle": false,
     "tableResultSettingsMap": {},
     "title": ""
    },
    "jupyter": {
     "outputs_hidden": true
    }
   },
   "outputs": [],
   "source": [
    "# Basic write (it will create a directory)\n",
    "orders.write.csv(f'/user/{username}/retail_db/orders')\n",
    "orders.write.format('csv').save(f'/user/{username}/retail_db/orders')"
   ]
  },
  {
   "cell_type": "code",
   "execution_count": 0,
   "metadata": {
    "application/vnd.databricks.v1+cell": {
     "cellMetadata": {
      "byteLimit": 2048000,
      "rowLimit": 10000
     },
     "inputWidgets": {},
     "nuid": "4bf3b4d9-5312-459c-92c3-b0a290b94cb0",
     "showTitle": false,
     "tableResultSettingsMap": {},
     "title": ""
    }
   },
   "outputs": [],
   "source": [
    "# Default number of files in the directory will be determinded implicitly based on several factors\n",
    "dbutils.fs.ls(f'/user/{username}/retail_db/orders')"
   ]
  },
  {
   "cell_type": "code",
   "execution_count": 0,
   "metadata": {
    "application/vnd.databricks.v1+cell": {
     "cellMetadata": {
      "byteLimit": 2048000,
      "rowLimit": 10000
     },
     "inputWidgets": {},
     "nuid": "7461a2a7-9dd7-48a3-9ba5-d548b96575c8",
     "showTitle": false,
     "tableResultSettingsMap": {},
     "title": ""
    }
   },
   "outputs": [],
   "source": [
    "# Additional options can be passed like in reading methods\n",
    "\n",
    "orders.write.csv(f'/user/{username}/retail_db/orders', header=True)\n",
    "orders.write.option('header', True).csv(f'/user/{username}/retail_db/orders')\n",
    "# etc..."
   ]
  },
  {
   "cell_type": "code",
   "execution_count": 0,
   "metadata": {
    "application/vnd.databricks.v1+cell": {
     "cellMetadata": {
      "byteLimit": 2048000,
      "rowLimit": 10000
     },
     "inputWidgets": {},
     "nuid": "d3eed0be-c98c-4041-983a-8764cf7061d4",
     "showTitle": false,
     "tableResultSettingsMap": {},
     "title": ""
    }
   },
   "outputs": [],
   "source": [
    "# One of special arguments regards compression\n",
    "# Compressing reduces file size: 2999944 -> 471106\n",
    "# Different compression algorithms are available\n",
    "# Reading methods automatically detect compression type and decompress\n",
    "\n",
    "orders.write.csv(f'/user/{username}/retail_db/orders', compression='gzip')\n",
    "dbutils.fs.ls(f'/user/{username}/retail_db/orders')"
   ]
  },
  {
   "cell_type": "code",
   "execution_count": 0,
   "metadata": {
    "application/vnd.databricks.v1+cell": {
     "cellMetadata": {},
     "inputWidgets": {},
     "nuid": "524ce79b-15d1-45b1-95f4-8becdb7b443e",
     "showTitle": false,
     "tableResultSettingsMap": {},
     "title": ""
    }
   },
   "outputs": [],
   "source": [
    "# We have 4 writing modes:\n",
    "# overwrite - delete the directory and create a new one\n",
    "# append - add new files to the directory\n",
    "# ignore - do nothing if the directory exists\n",
    "# error - throw an error if the directory exists\n",
    "\n",
    "orders.write.csv(f'/user/{username}/retail_db/orders', mode='overwrite')"
   ]
  },
  {
   "cell_type": "code",
   "execution_count": 0,
   "metadata": {
    "application/vnd.databricks.v1+cell": {
     "cellMetadata": {
      "byteLimit": 2048000,
      "rowLimit": 10000
     },
     "inputWidgets": {},
     "nuid": "0aac6475-50bb-4f40-9f3e-2ab2ab7a5385",
     "showTitle": false,
     "tableResultSettingsMap": {},
     "title": ""
    }
   },
   "outputs": [],
   "source": [
    "# JSON and PARQUET\n",
    "\n",
    "orders.write.json(f'/user/{username}/retail_db/orders', mode='overwrite')\n",
    "orders.write.parquet(f'/user/{username}/retail_db/orders', mode='overwrite')"
   ]
  },
  {
   "cell_type": "code",
   "execution_count": 0,
   "metadata": {
    "application/vnd.databricks.v1+cell": {
     "cellMetadata": {
      "byteLimit": 2048000,
      "rowLimit": 10000
     },
     "inputWidgets": {},
     "nuid": "e4b0a0f9-6de7-427c-b0fb-7a846828c614",
     "showTitle": false,
     "tableResultSettingsMap": {},
     "title": ""
    }
   },
   "outputs": [],
   "source": [
    "# Coalesce and repartition\n",
    "\n",
    "# coalesce is used to reduce the number of partitions\n",
    "# repartition reshuffles data into more or less partitions\n",
    "orders.coalesce(1).write.csv(f'/user/{username}/retail_db/orders', mode='overwrite')\n",
    "orders.repartition(10).write.csv(f'/user/{username}/retail_db/orders', mode='overwrite')\n",
    "dbutils.fs.ls(f'/user/{username}/retail_db/orders')\n",
    "# Now we have 10 files\n"
   ]
  },
  {
   "cell_type": "code",
   "execution_count": 0,
   "metadata": {
    "application/vnd.databricks.v1+cell": {
     "cellMetadata": {
      "byteLimit": 2048000,
      "rowLimit": 10000
     },
     "inputWidgets": {},
     "nuid": "95c51c26-170a-4491-a11d-70560f25a74d",
     "showTitle": false,
     "tableResultSettingsMap": {},
     "title": ""
    }
   },
   "outputs": [],
   "source": [
    "# In .repartition we can specify columns to partition by. \n",
    "# The final value can be lesser than specified if the number of unique values in column is lesser\n",
    "\n",
    "orders.coalesce(1).write.csv(f'/user/{username}/retail_db/orders', mode='overwrite')\n",
    "orders.repartition(10, '_c3').write.csv(f'/user/{username}/retail_db/orders', mode='overwrite')\n",
    "dbutils.fs.ls(f'/user/{username}/retail_db/orders')"
   ]
  }
 ],
 "metadata": {
  "application/vnd.databricks.v1+notebook": {
   "computePreferences": null,
   "dashboards": [],
   "environmentMetadata": {
    "base_environment": "",
    "environment_version": "2"
   },
   "inputWidgetPreferences": null,
   "language": "python",
   "notebookMetadata": {
    "pythonIndentUnit": 4
   },
   "notebookName": "01 - Writing data into files",
   "widgets": {}
  },
  "language_info": {
   "name": "python"
  }
 },
 "nbformat": 4,
 "nbformat_minor": 0
}
