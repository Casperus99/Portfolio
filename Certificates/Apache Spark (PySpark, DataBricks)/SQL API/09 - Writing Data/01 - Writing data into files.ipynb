{
 "cells": [
  {
   "cell_type": "code",
   "execution_count": 0,
   "metadata": {
    "application/vnd.databricks.v1+cell": {
     "cellMetadata": {
      "byteLimit": 2048000,
      "rowLimit": 10000
     },
     "inputWidgets": {},
     "nuid": "6cf2b381-f3eb-4c6c-8918-f17ffd0feb55",
     "showTitle": false,
     "tableResultSettingsMap": {},
     "title": ""
    }
   },
   "outputs": [],
   "source": [
    "orders = spark.read.csv('/public/retail_db/orders')\n",
    "import getpass\n",
    "username = getpass.getuser()"
   ]
  },
  {
   "cell_type": "code",
   "execution_count": 0,
   "metadata": {
    "application/vnd.databricks.v1+cell": {
     "cellMetadata": {
      "byteLimit": 2048000,
      "rowLimit": 10000
     },
     "inputWidgets": {},
     "nuid": "f9e1ad8e-2d57-4e1d-a235-6faab45a6398",
     "showTitle": false,
     "tableResultSettingsMap": {},
     "title": ""
    }
   },
   "outputs": [],
   "source": [
    "# WRITING DATA\n",
    "\n",
    "# Basics\n",
    "orders.write.csv(f'/user/{username}/retail_db/orders', header=True)\n",
    "orders.write.format('json').save(f'/user/{username}/retail_db/orders')\n",
    "\n",
    "# Compression\n",
    "orders.write.csv(f'/user/{username}/retail_db/orders', compression='gzip')\n",
    "\n",
    "# Mode\n",
    "    # overwrite - delete the directory and create a new one\n",
    "    # append - add new files to the directory\n",
    "    # ignore - do nothing if the directory exists\n",
    "    # error - throw an error if the directory exists\n",
    "orders.write.csv(f'/user/{username}/retail_db/orders', mode='overwrite')\n",
    "\n",
    "# Coalesce - only less\n",
    "orders.coalesce(1).write.csv(f'/user/{username}/retail_db/orders', mode='overwrite')\n",
    "\n",
    "# Repartition - less or more + reshuffling\n",
    "orders.repartition(10).write.csv(f'/user/{username}/retail_db/orders', mode='overwrite')"
   ]
  },
  {
   "cell_type": "code",
   "execution_count": 0,
   "metadata": {
    "application/vnd.databricks.v1+cell": {
     "cellMetadata": {
      "byteLimit": 2048000,
      "rowLimit": 10000
     },
     "inputWidgets": {},
     "nuid": "c98d0274-8716-4580-8ab6-154246993109",
     "showTitle": false,
     "tableResultSettingsMap": {},
     "title": ""
    }
   },
   "outputs": [
    {
     "output_type": "execute_result",
     "data": {
      "text/plain": [
       "True"
      ]
     },
     "execution_count": 4,
     "metadata": {},
     "output_type": "execute_result"
    }
   ],
   "source": [
    "# Deleting directory\n",
    "dbutils.fs.rm(f'/user/{username}/retail_db/orders', recurse=True)"
   ]
  },
  {
   "cell_type": "code",
   "execution_count": 0,
   "metadata": {
    "application/vnd.databricks.v1+cell": {
     "cellMetadata": {
      "byteLimit": 2048000,
      "rowLimit": 10000
     },
     "inputWidgets": {},
     "nuid": "afc861d6-0916-4351-a570-9a879a3f1ea9",
     "showTitle": false,
     "tableResultSettingsMap": {},
     "title": ""
    },
    "jupyter": {
     "outputs_hidden": true
    }
   },
   "outputs": [],
   "source": [
    "# Basic write (it will create a directory)\n",
    "orders.write.csv(f'/user/{username}/retail_db/orders')\n",
    "orders.write.format('csv').save(f'/user/{username}/retail_db/orders')"
   ]
  },
  {
   "cell_type": "code",
   "execution_count": 0,
   "metadata": {
    "application/vnd.databricks.v1+cell": {
     "cellMetadata": {
      "byteLimit": 2048000,
      "rowLimit": 10000
     },
     "inputWidgets": {},
     "nuid": "4bf3b4d9-5312-459c-92c3-b0a290b94cb0",
     "showTitle": false,
     "tableResultSettingsMap": {},
     "title": ""
    }
   },
   "outputs": [
    {
     "output_type": "execute_result",
     "data": {
      "text/plain": [
       "[FileInfo(path='dbfs:/user/root/retail_db/orders/_SUCCESS', name='_SUCCESS', size=0, modificationTime=1744315383000),\n",
       " FileInfo(path='dbfs:/user/root/retail_db/orders/_committed_3139015035484414749', name='_committed_3139015035484414749', size=111, modificationTime=1744315383000),\n",
       " FileInfo(path='dbfs:/user/root/retail_db/orders/_started_3139015035484414749', name='_started_3139015035484414749', size=0, modificationTime=1744315382000),\n",
       " FileInfo(path='dbfs:/user/root/retail_db/orders/part-00000-tid-3139015035484414749-3dfeea15-dd45-4fe4-90c7-a2987f623118-6-1-c000.csv', name='part-00000-tid-3139015035484414749-3dfeea15-dd45-4fe4-90c7-a2987f623118-6-1-c000.csv', size=2999944, modificationTime=1744315383000)]"
      ]
     },
     "execution_count": 15,
     "metadata": {},
     "output_type": "execute_result"
    }
   ],
   "source": [
    "# Default number of files in the directory will be determinded implicitly based on several factors\n",
    "dbutils.fs.ls(f'/user/{username}/retail_db/orders')"
   ]
  },
  {
   "cell_type": "code",
   "execution_count": 0,
   "metadata": {
    "application/vnd.databricks.v1+cell": {
     "cellMetadata": {
      "byteLimit": 2048000,
      "rowLimit": 10000
     },
     "inputWidgets": {},
     "nuid": "7461a2a7-9dd7-48a3-9ba5-d548b96575c8",
     "showTitle": false,
     "tableResultSettingsMap": {},
     "title": ""
    }
   },
   "outputs": [],
   "source": [
    "# Additional options can be passed like in reading methods\n",
    "\n",
    "orders.write.csv(f'/user/{username}/retail_db/orders', header=True)\n",
    "orders.write.option('header', True).csv(f'/user/{username}/retail_db/orders')\n",
    "# etc..."
   ]
  },
  {
   "cell_type": "code",
   "execution_count": 0,
   "metadata": {
    "application/vnd.databricks.v1+cell": {
     "cellMetadata": {
      "byteLimit": 2048000,
      "rowLimit": 10000
     },
     "inputWidgets": {},
     "nuid": "d3eed0be-c98c-4041-983a-8764cf7061d4",
     "showTitle": false,
     "tableResultSettingsMap": {},
     "title": ""
    }
   },
   "outputs": [
    {
     "output_type": "execute_result",
     "data": {
      "text/plain": [
       "[FileInfo(path='dbfs:/user/root/retail_db/orders/_SUCCESS', name='_SUCCESS', size=0, modificationTime=1744352421000),\n",
       " FileInfo(path='dbfs:/user/root/retail_db/orders/_committed_5200104112532682271', name='_committed_5200104112532682271', size=114, modificationTime=1744352421000),\n",
       " FileInfo(path='dbfs:/user/root/retail_db/orders/_started_5200104112532682271', name='_started_5200104112532682271', size=0, modificationTime=1744352421000),\n",
       " FileInfo(path='dbfs:/user/root/retail_db/orders/part-00000-tid-5200104112532682271-6cedeeb5-265d-423c-a3e6-4992bc58fe17-2-1-c000.csv.gz', name='part-00000-tid-5200104112532682271-6cedeeb5-265d-423c-a3e6-4992bc58fe17-2-1-c000.csv.gz', size=471106, modificationTime=1744352421000)]"
      ]
     },
     "execution_count": 5,
     "metadata": {},
     "output_type": "execute_result"
    }
   ],
   "source": [
    "# One of special arguments regards compression\n",
    "# Compressing reduces file size: 2999944 -> 471106\n",
    "# Different compression algorithms are available\n",
    "# Reading methods automatically detect compression type and decompress\n",
    "\n",
    "orders.write.csv(f'/user/{username}/retail_db/orders', compression='gzip')\n",
    "dbutils.fs.ls(f'/user/{username}/retail_db/orders')"
   ]
  },
  {
   "cell_type": "code",
   "execution_count": 0,
   "metadata": {
    "application/vnd.databricks.v1+cell": {
     "cellMetadata": {},
     "inputWidgets": {},
     "nuid": "524ce79b-15d1-45b1-95f4-8becdb7b443e",
     "showTitle": false,
     "tableResultSettingsMap": {},
     "title": ""
    }
   },
   "outputs": [],
   "source": [
    "# We have 4 writing modes:\n",
    "# overwrite - delete the directory and create a new one\n",
    "# append - add new files to the directory\n",
    "# ignore - do nothing if the directory exists\n",
    "# error - throw an error if the directory exists\n",
    "\n",
    "orders.write.csv(f'/user/{username}/retail_db/orders', mode='overwrite')"
   ]
  },
  {
   "cell_type": "code",
   "execution_count": 0,
   "metadata": {
    "application/vnd.databricks.v1+cell": {
     "cellMetadata": {
      "byteLimit": 2048000,
      "rowLimit": 10000
     },
     "inputWidgets": {},
     "nuid": "0aac6475-50bb-4f40-9f3e-2ab2ab7a5385",
     "showTitle": false,
     "tableResultSettingsMap": {},
     "title": ""
    }
   },
   "outputs": [],
   "source": [
    "# JSON and PARQUET\n",
    "\n",
    "orders.write.json(f'/user/{username}/retail_db/orders', mode='overwrite')\n",
    "orders.write.parquet(f'/user/{username}/retail_db/orders', mode='overwrite')"
   ]
  },
  {
   "cell_type": "code",
   "execution_count": 0,
   "metadata": {
    "application/vnd.databricks.v1+cell": {
     "cellMetadata": {
      "byteLimit": 2048000,
      "rowLimit": 10000
     },
     "inputWidgets": {},
     "nuid": "e4b0a0f9-6de7-427c-b0fb-7a846828c614",
     "showTitle": false,
     "tableResultSettingsMap": {},
     "title": ""
    }
   },
   "outputs": [
    {
     "output_type": "execute_result",
     "data": {
      "text/plain": [
       "[FileInfo(path='dbfs:/user/root/retail_db/orders/_SUCCESS', name='_SUCCESS', size=0, modificationTime=1744353292000),\n",
       " FileInfo(path='dbfs:/user/root/retail_db/orders/_committed_5200104112532682271', name='_committed_5200104112532682271', size=114, modificationTime=1744352421000),\n",
       " FileInfo(path='dbfs:/user/root/retail_db/orders/_committed_6070535406786868790', name='_committed_6070535406786868790', size=209, modificationTime=1744352808000),\n",
       " FileInfo(path='dbfs:/user/root/retail_db/orders/_committed_7105511656959692079', name='_committed_7105511656959692079', size=212, modificationTime=1744352800000),\n",
       " FileInfo(path='dbfs:/user/root/retail_db/orders/_committed_8352992320644514807', name='_committed_8352992320644514807', size=997, modificationTime=1744353292000),\n",
       " FileInfo(path='dbfs:/user/root/retail_db/orders/_started_5200104112532682271', name='_started_5200104112532682271', size=0, modificationTime=1744352421000),\n",
       " FileInfo(path='dbfs:/user/root/retail_db/orders/_started_6070535406786868790', name='_started_6070535406786868790', size=0, modificationTime=1744352801000),\n",
       " FileInfo(path='dbfs:/user/root/retail_db/orders/_started_7105511656959692079', name='_started_7105511656959692079', size=0, modificationTime=1744352799000),\n",
       " FileInfo(path='dbfs:/user/root/retail_db/orders/_started_8352992320644514807', name='_started_8352992320644514807', size=0, modificationTime=1744353291000),\n",
       " FileInfo(path='dbfs:/user/root/retail_db/orders/part-00000-tid-8352992320644514807-2a2afae9-d5ea-4186-b9ed-840be8c1d75e-6-1-c000.csv', name='part-00000-tid-8352992320644514807-2a2afae9-d5ea-4186-b9ed-840be8c1d75e-6-1-c000.csv', size=299990, modificationTime=1744353291000),\n",
       " FileInfo(path='dbfs:/user/root/retail_db/orders/part-00001-tid-8352992320644514807-2a2afae9-d5ea-4186-b9ed-840be8c1d75e-7-1-c000.csv', name='part-00001-tid-8352992320644514807-2a2afae9-d5ea-4186-b9ed-840be8c1d75e-7-1-c000.csv', size=299834, modificationTime=1744353291000),\n",
       " FileInfo(path='dbfs:/user/root/retail_db/orders/part-00002-tid-8352992320644514807-2a2afae9-d5ea-4186-b9ed-840be8c1d75e-8-1-c000.csv', name='part-00002-tid-8352992320644514807-2a2afae9-d5ea-4186-b9ed-840be8c1d75e-8-1-c000.csv', size=299705, modificationTime=1744353291000),\n",
       " FileInfo(path='dbfs:/user/root/retail_db/orders/part-00003-tid-8352992320644514807-2a2afae9-d5ea-4186-b9ed-840be8c1d75e-9-1-c000.csv', name='part-00003-tid-8352992320644514807-2a2afae9-d5ea-4186-b9ed-840be8c1d75e-9-1-c000.csv', size=299870, modificationTime=1744353291000),\n",
       " FileInfo(path='dbfs:/user/root/retail_db/orders/part-00004-tid-8352992320644514807-2a2afae9-d5ea-4186-b9ed-840be8c1d75e-10-1-c000.csv', name='part-00004-tid-8352992320644514807-2a2afae9-d5ea-4186-b9ed-840be8c1d75e-10-1-c000.csv', size=299807, modificationTime=1744353292000),\n",
       " FileInfo(path='dbfs:/user/root/retail_db/orders/part-00005-tid-8352992320644514807-2a2afae9-d5ea-4186-b9ed-840be8c1d75e-11-1-c000.csv', name='part-00005-tid-8352992320644514807-2a2afae9-d5ea-4186-b9ed-840be8c1d75e-11-1-c000.csv', size=300527, modificationTime=1744353292000),\n",
       " FileInfo(path='dbfs:/user/root/retail_db/orders/part-00006-tid-8352992320644514807-2a2afae9-d5ea-4186-b9ed-840be8c1d75e-12-1-c000.csv', name='part-00006-tid-8352992320644514807-2a2afae9-d5ea-4186-b9ed-840be8c1d75e-12-1-c000.csv', size=299938, modificationTime=1744353292000),\n",
       " FileInfo(path='dbfs:/user/root/retail_db/orders/part-00007-tid-8352992320644514807-2a2afae9-d5ea-4186-b9ed-840be8c1d75e-13-1-c000.csv', name='part-00007-tid-8352992320644514807-2a2afae9-d5ea-4186-b9ed-840be8c1d75e-13-1-c000.csv', size=300010, modificationTime=1744353292000),\n",
       " FileInfo(path='dbfs:/user/root/retail_db/orders/part-00008-tid-8352992320644514807-2a2afae9-d5ea-4186-b9ed-840be8c1d75e-14-1-c000.csv', name='part-00008-tid-8352992320644514807-2a2afae9-d5ea-4186-b9ed-840be8c1d75e-14-1-c000.csv', size=299965, modificationTime=1744353292000),\n",
       " FileInfo(path='dbfs:/user/root/retail_db/orders/part-00009-tid-8352992320644514807-2a2afae9-d5ea-4186-b9ed-840be8c1d75e-15-1-c000.csv', name='part-00009-tid-8352992320644514807-2a2afae9-d5ea-4186-b9ed-840be8c1d75e-15-1-c000.csv', size=300298, modificationTime=1744353292000)]"
      ]
     },
     "execution_count": 7,
     "metadata": {},
     "output_type": "execute_result"
    }
   ],
   "source": [
    "# Coalesce and repartition\n",
    "\n",
    "# coalesce is used to reduce the number of partitions\n",
    "# repartition reshuffles data into more or less partitions\n",
    "orders.coalesce(1).write.csv(f'/user/{username}/retail_db/orders', mode='overwrite')\n",
    "orders.repartition(10).write.csv(f'/user/{username}/retail_db/orders', mode='overwrite')\n",
    "dbutils.fs.ls(f'/user/{username}/retail_db/orders')\n",
    "# Now we have 10 files\n"
   ]
  },
  {
   "cell_type": "code",
   "execution_count": 0,
   "metadata": {
    "application/vnd.databricks.v1+cell": {
     "cellMetadata": {
      "byteLimit": 2048000,
      "rowLimit": 10000
     },
     "inputWidgets": {},
     "nuid": "95c51c26-170a-4491-a11d-70560f25a74d",
     "showTitle": false,
     "tableResultSettingsMap": {},
     "title": ""
    }
   },
   "outputs": [
    {
     "output_type": "execute_result",
     "data": {
      "text/plain": [
       "[FileInfo(path='dbfs:/user/root/retail_db/orders/_SUCCESS', name='_SUCCESS', size=0, modificationTime=1744353433000),\n",
       " FileInfo(path='dbfs:/user/root/retail_db/orders/_committed_1529292230843254032', name='_committed_1529292230843254032', size=991, modificationTime=1744353431000),\n",
       " FileInfo(path='dbfs:/user/root/retail_db/orders/_committed_2935834174864987587', name='_committed_2935834174864987587', size=639, modificationTime=1744353433000),\n",
       " FileInfo(path='dbfs:/user/root/retail_db/orders/_committed_3082729863106594042', name='_committed_3082729863106594042', size=987, modificationTime=1744353404000),\n",
       " FileInfo(path='dbfs:/user/root/retail_db/orders/_committed_3572946910162240780', name='_committed_3572946910162240780', size=991, modificationTime=1744353406000),\n",
       " FileInfo(path='dbfs:/user/root/retail_db/orders/_committed_4402933881309942011', name='_committed_4402933881309942011', size=991, modificationTime=1744353423000),\n",
       " FileInfo(path='dbfs:/user/root/retail_db/orders/_committed_4914344494227305741', name='_committed_4914344494227305741', size=991, modificationTime=1744353421000),\n",
       " FileInfo(path='dbfs:/user/root/retail_db/orders/_committed_5200104112532682271', name='_committed_5200104112532682271', size=114, modificationTime=1744352421000),\n",
       " FileInfo(path='dbfs:/user/root/retail_db/orders/_committed_6070535406786868790', name='_committed_6070535406786868790', size=209, modificationTime=1744352808000),\n",
       " FileInfo(path='dbfs:/user/root/retail_db/orders/_committed_7105511656959692079', name='_committed_7105511656959692079', size=212, modificationTime=1744352800000),\n",
       " FileInfo(path='dbfs:/user/root/retail_db/orders/_committed_8352992320644514807', name='_committed_8352992320644514807', size=997, modificationTime=1744353292000),\n",
       " FileInfo(path='dbfs:/user/root/retail_db/orders/_started_1529292230843254032', name='_started_1529292230843254032', size=0, modificationTime=1744353431000),\n",
       " FileInfo(path='dbfs:/user/root/retail_db/orders/_started_2935834174864987587', name='_started_2935834174864987587', size=0, modificationTime=1744353433000),\n",
       " FileInfo(path='dbfs:/user/root/retail_db/orders/_started_3082729863106594042', name='_started_3082729863106594042', size=0, modificationTime=1744353403000),\n",
       " FileInfo(path='dbfs:/user/root/retail_db/orders/_started_3572946910162240780', name='_started_3572946910162240780', size=0, modificationTime=1744353405000),\n",
       " FileInfo(path='dbfs:/user/root/retail_db/orders/_started_4402933881309942011', name='_started_4402933881309942011', size=0, modificationTime=1744353423000),\n",
       " FileInfo(path='dbfs:/user/root/retail_db/orders/_started_4914344494227305741', name='_started_4914344494227305741', size=0, modificationTime=1744353421000),\n",
       " FileInfo(path='dbfs:/user/root/retail_db/orders/_started_5200104112532682271', name='_started_5200104112532682271', size=0, modificationTime=1744352421000),\n",
       " FileInfo(path='dbfs:/user/root/retail_db/orders/_started_6070535406786868790', name='_started_6070535406786868790', size=0, modificationTime=1744352801000),\n",
       " FileInfo(path='dbfs:/user/root/retail_db/orders/_started_7105511656959692079', name='_started_7105511656959692079', size=0, modificationTime=1744352799000),\n",
       " FileInfo(path='dbfs:/user/root/retail_db/orders/_started_8352992320644514807', name='_started_8352992320644514807', size=0, modificationTime=1744353291000),\n",
       " FileInfo(path='dbfs:/user/root/retail_db/orders/part-00000-tid-2935834174864987587-899a87d6-6333-4803-a695-424d8009d050-42-1-c000.csv', name='part-00000-tid-2935834174864987587-899a87d6-6333-4803-a695-424d8009d050-42-1-c000.csv', size=34939, modificationTime=1744353433000),\n",
       " FileInfo(path='dbfs:/user/root/retail_db/orders/part-00002-tid-2935834174864987587-899a87d6-6333-4803-a695-424d8009d050-44-1-c000.csv', name='part-00002-tid-2935834174864987587-899a87d6-6333-4803-a695-424d8009d050-44-1-c000.csv', size=1099291, modificationTime=1744353433000),\n",
       " FileInfo(path='dbfs:/user/root/retail_db/orders/part-00003-tid-2935834174864987587-899a87d6-6333-4803-a695-424d8009d050-45-1-c000.csv', name='part-00003-tid-2935834174864987587-899a87d6-6333-4803-a695-424d8009d050-45-1-c000.csv', size=960584, modificationTime=1744353433000),\n",
       " FileInfo(path='dbfs:/user/root/retail_db/orders/part-00005-tid-2935834174864987587-899a87d6-6333-4803-a695-424d8009d050-47-1-c000.csv', name='part-00005-tid-2935834174864987587-899a87d6-6333-4803-a695-424d8009d050-47-1-c000.csv', size=59868, modificationTime=1744353433000),\n",
       " FileInfo(path='dbfs:/user/root/retail_db/orders/part-00008-tid-2935834174864987587-899a87d6-6333-4803-a695-424d8009d050-50-1-c000.csv', name='part-00008-tid-2935834174864987587-899a87d6-6333-4803-a695-424d8009d050-50-1-c000.csv', size=543432, modificationTime=1744353433000),\n",
       " FileInfo(path='dbfs:/user/root/retail_db/orders/part-00009-tid-2935834174864987587-899a87d6-6333-4803-a695-424d8009d050-51-1-c000.csv', name='part-00009-tid-2935834174864987587-899a87d6-6333-4803-a695-424d8009d050-51-1-c000.csv', size=301830, modificationTime=1744353433000)]"
      ]
     },
     "execution_count": 10,
     "metadata": {},
     "output_type": "execute_result"
    }
   ],
   "source": [
    "# In .repartition we can specify columns to partition by. \n",
    "# The final value can be lesser than specified if the number of unique values in column is lesser\n",
    "\n",
    "orders.coalesce(1).write.csv(f'/user/{username}/retail_db/orders', mode='overwrite')\n",
    "orders.repartition(10, '_c3').write.csv(f'/user/{username}/retail_db/orders', mode='overwrite')\n",
    "dbutils.fs.ls(f'/user/{username}/retail_db/orders')"
   ]
  }
 ],
 "metadata": {
  "application/vnd.databricks.v1+notebook": {
   "computePreferences": null,
   "dashboards": [],
   "environmentMetadata": {
    "base_environment": "",
    "environment_version": "2"
   },
   "inputWidgetPreferences": null,
   "language": "python",
   "notebookMetadata": {
    "pythonIndentUnit": 4
   },
   "notebookName": "01 - Writing data into files",
   "widgets": {}
  },
  "language_info": {
   "name": "python"
  }
 },
 "nbformat": 4,
 "nbformat_minor": 0
}