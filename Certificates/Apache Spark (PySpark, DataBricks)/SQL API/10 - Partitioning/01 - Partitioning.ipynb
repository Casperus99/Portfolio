{
 "cells": [
  {
   "cell_type": "code",
   "execution_count": 0,
   "metadata": {
    "application/vnd.databricks.v1+cell": {
     "cellMetadata": {
      "byteLimit": 2048000,
      "rowLimit": 10000
     },
     "inputWidgets": {},
     "nuid": "c0967b77-802e-4eb2-bdad-ac18e168cea5",
     "showTitle": false,
     "tableResultSettingsMap": {},
     "title": ""
    }
   },
   "outputs": [],
   "source": [
    "orders = spark.read.json('/public/retail_db_json/orders')\n",
    "from pyspark.sql.functions import date_format"
   ]
  },
  {
   "cell_type": "code",
   "execution_count": 0,
   "metadata": {
    "application/vnd.databricks.v1+cell": {
     "cellMetadata": {},
     "inputWidgets": {},
     "nuid": "1de568b1-7928-47c3-93c0-1b83475cedca",
     "showTitle": false,
     "tableResultSettingsMap": {},
     "title": ""
    }
   },
   "outputs": [],
   "source": [
    "# PARTITIONING\n",
    "\n",
    "# .partitionBy(*cols) let's us partition by a set of columns\n",
    "orders\\\n",
    "    .withColumn(\"order_date\", date_format(\"order_date\", \"yyyyMMdd\"))\\\n",
    "    .coalesce(1) \\\n",
    "    .write \\\n",
    "    .partitionBy(\"order_date\") \\\n",
    "    .parquet('/user/root/retail_db/orders_by_date', mode='overwrite')\n",
    "\n",
    "# Folder for every unique value is created\n",
    "# Every partition consists of several files\n",
    "\n",
    "# Partition pruning\n",
    "# Filtering by a column that was a key used to partition by the dataset will reduce the amount of data that needs to be read automatically"
   ]
  },
  {
   "cell_type": "code",
   "execution_count": 0,
   "metadata": {
    "application/vnd.databricks.v1+cell": {
     "cellMetadata": {
      "byteLimit": 2048000,
      "rowLimit": 10000
     },
     "inputWidgets": {},
     "nuid": "86cfa725-0a4f-49c6-a828-356f8a4212d5",
     "showTitle": false,
     "tableResultSettingsMap": {},
     "title": ""
    }
   },
   "outputs": [],
   "source": [
    "# .partitionBy(*cols) let's us partition by a set of columns\n",
    "\n",
    "orders\\\n",
    "    .withColumn(\"order_date\", date_format(\"order_date\", \"yyyyMMdd\"))\\\n",
    "    .coalesce(1) \\\n",
    "    .write \\\n",
    "    .partitionBy(\"order_date\") \\\n",
    "    .parquet('/user/root/retail_db/orders_by_date', mode='overwrite')"
   ]
  },
  {
   "cell_type": "code",
   "execution_count": 0,
   "metadata": {
    "application/vnd.databricks.v1+cell": {
     "cellMetadata": {
      "byteLimit": 2048000,
      "rowLimit": 10000
     },
     "inputWidgets": {},
     "nuid": "802b47cf-73c4-4d04-b1b1-cf7372b0d1a2",
     "showTitle": false,
     "tableResultSettingsMap": {},
     "title": ""
    }
   },
   "outputs": [],
   "source": [
    "# Every partition consists of several files\n",
    "dbutils.fs.ls('/user/root/retail_db/orders_by_date/order_date=20130725/')"
   ]
  },
  {
   "cell_type": "code",
   "execution_count": 0,
   "metadata": {
    "application/vnd.databricks.v1+cell": {
     "cellMetadata": {
      "byteLimit": 2048000,
      "rowLimit": 10000
     },
     "inputWidgets": {},
     "nuid": "6e896c27-d3e6-496a-843c-11a3d37eb730",
     "showTitle": false,
     "tableResultSettingsMap": {},
     "title": ""
    }
   },
   "outputs": [],
   "source": [
    "# Folder for every unique value is created\n",
    "dbutils.fs.ls('/user/root/retail_db/orders_by_date/')"
   ]
  },
  {
   "cell_type": "code",
   "execution_count": 0,
   "metadata": {
    "application/vnd.databricks.v1+cell": {
     "cellMetadata": {
      "byteLimit": 2048000,
      "rowLimit": 10000
     },
     "inputWidgets": {},
     "nuid": "0506698f-7f94-4b8b-b820-6f7b7080aac6",
     "showTitle": false,
     "tableResultSettingsMap": {},
     "title": ""
    }
   },
   "outputs": [],
   "source": [
    "# Partitioning by multiple columns\n",
    "\n",
    "orders\\\n",
    "    .withColumn(\"order_date\", date_format(\"order_date\", \"yyyyMMdd\"))\\\n",
    "    .coalesce(1) \\\n",
    "    .write \\\n",
    "    .partitionBy(\"order_date\", \"order_status\") \\\n",
    "    .parquet('/user/root/retail_db/orders_by_date', mode='overwrite')"
   ]
  },
  {
   "cell_type": "code",
   "execution_count": 0,
   "metadata": {
    "application/vnd.databricks.v1+cell": {
     "cellMetadata": {
      "byteLimit": 2048000,
      "rowLimit": 10000
     },
     "inputWidgets": {},
     "nuid": "605100fc-7135-47a1-a737-c63961a81182",
     "showTitle": false,
     "tableResultSettingsMap": {},
     "title": ""
    }
   },
   "outputs": [],
   "source": [
    "# Subfolders for every column:\n",
    "dbutils.fs.ls('/user/root/retail_db/orders_by_date/order_date=20140707/')"
   ]
  },
  {
   "cell_type": "code",
   "execution_count": 0,
   "metadata": {
    "application/vnd.databricks.v1+cell": {
     "cellMetadata": {},
     "inputWidgets": {},
     "nuid": "02628bbc-a98d-40c1-9781-aff7c923255c",
     "showTitle": false,
     "tableResultSettingsMap": {},
     "title": ""
    }
   },
   "outputs": [],
   "source": [
    "# Partition pruning\n",
    "# Filtering by a column that was a key used to partition by the dataset will reduce the amount of data that needs to be read automatically\n",
    "\n",
    "spark.read.parquet('/user/root/retail_db/orders_by_date').filter('order_date = \"20140707\"').count()"
   ]
  }
 ],
 "metadata": {
  "application/vnd.databricks.v1+notebook": {
   "computePreferences": null,
   "dashboards": [],
   "environmentMetadata": {
    "base_environment": "",
    "environment_version": "2"
   },
   "inputWidgetPreferences": null,
   "language": "python",
   "notebookMetadata": {
    "pythonIndentUnit": 4
   },
   "notebookName": "01 - Partitioning",
   "widgets": {}
  },
  "language_info": {
   "name": "python"
  }
 },
 "nbformat": 4,
 "nbformat_minor": 0
}
