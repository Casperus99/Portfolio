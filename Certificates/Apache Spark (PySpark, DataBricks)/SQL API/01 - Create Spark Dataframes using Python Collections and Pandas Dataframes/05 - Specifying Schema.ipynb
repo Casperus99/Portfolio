{
 "cells": [
  {
   "cell_type": "code",
   "execution_count": 0,
   "metadata": {
    "application/vnd.databricks.v1+cell": {
     "cellMetadata": {
      "byteLimit": 2048000,
      "rowLimit": 10000
     },
     "inputWidgets": {},
     "nuid": "4e743808-a5e7-4ea0-b3e5-e17db9a97cc5",
     "showTitle": false,
     "tableResultSettingsMap": {},
     "title": ""
    }
   },
   "outputs": [],
   "source": [
    "# SPECIFYING SCHEMA\n",
    "from pyspark.sql.types import *\n",
    "\n",
    "df_schema_str = \"id INT, first_name STRING\"  # STRING\n",
    "df_schema_list = [\"id\" , \"first_name\"]  # LIST\n",
    "df_schema_spark_types = StructType([  # SPARK TYPES\n",
    "    StructField('id', IntegerType()),\n",
    "    StructField('first_name', StringType())\n",
    "    ])"
   ]
  },
  {
   "cell_type": "code",
   "execution_count": 0,
   "metadata": {
    "application/vnd.databricks.v1+cell": {
     "cellMetadata": {
      "byteLimit": 2048000,
      "rowLimit": 10000
     },
     "inputWidgets": {},
     "nuid": "0b51ff52-dad5-4154-ae66-89637f9f0fdb",
     "showTitle": false,
     "tableResultSettingsMap": {},
     "title": ""
    }
   },
   "outputs": [],
   "source": [
    "# STRING (name type)\n",
    "\n",
    "df_schema_str = '''\n",
    "    id INT,\n",
    "    first_name STRING,\n",
    "    is_customer BOOLEAN,\n",
    "    amount_paid FLOAT,\n",
    "    customer_since DATE,\n",
    "    last_updated_ts TIMESTAMP\n",
    "'''"
   ]
  },
  {
   "cell_type": "code",
   "execution_count": 0,
   "metadata": {
    "application/vnd.databricks.v1+cell": {
     "cellMetadata": {
      "byteLimit": 2048000,
      "rowLimit": 10000
     },
     "inputWidgets": {},
     "nuid": "e31d6387-6fa9-4fb7-b7d1-5b1fc6da5f8a",
     "showTitle": false,
     "tableResultSettingsMap": {},
     "title": ""
    }
   },
   "outputs": [],
   "source": [
    "# LIST (name)\n",
    "\n",
    "df_schema_list = [\n",
    "    'id',\n",
    "    'first_name',\n",
    "    'is_customer',\n",
    "    'amount_paid',\n",
    "    'customer_since',\n",
    "    'last_updated_ts'\n",
    "]"
   ]
  },
  {
   "cell_type": "code",
   "execution_count": 0,
   "metadata": {
    "application/vnd.databricks.v1+cell": {
     "cellMetadata": {
      "byteLimit": 2048000,
      "rowLimit": 10000
     },
     "inputWidgets": {},
     "nuid": "86fa7a85-d810-4502-84a4-36ec450bcf17",
     "showTitle": false,
     "tableResultSettingsMap": {},
     "title": ""
    }
   },
   "outputs": [],
   "source": [
    "# SPARK TYPES (name type)\n",
    "\n",
    "from pyspark.sql.types import *\n",
    "\n",
    "df_schema_spark_types = StructType([\n",
    "    StructField('id', IntegerType()),\n",
    "    StructField('first_name', StringType()),\n",
    "    StructField('is_customer', BooleanType()),\n",
    "    StructField('amount_paid', FloatType()),\n",
    "    StructField('customer_since', DateType()),\n",
    "    StructField('last_updated_ts', TimestampType())\n",
    "])\n"
   ]
  },
  {
   "cell_type": "code",
   "execution_count": 0,
   "metadata": {
    "application/vnd.databricks.v1+cell": {
     "cellMetadata": {
      "byteLimit": 2048000,
      "rowLimit": 10000
     },
     "inputWidgets": {},
     "nuid": "7387f9e6-1105-4f91-b509-5246fba86e3c",
     "showTitle": false,
     "tableResultSettingsMap": {},
     "title": ""
    }
   },
   "outputs": [],
   "source": [
    "# For testing\n",
    "\n",
    "import datetime\n",
    "from pyspark import Row\n",
    "users = [\n",
    "    (\n",
    "        1,\n",
    "        \"Kacper\",\n",
    "        True,\n",
    "        1015.09,\n",
    "        datetime.date(2021, 1, 15),\n",
    "        datetime.datetime(2021, 1, 15, 12, 30, 0)\n",
    "    )\n",
    "]\n",
    "\n",
    "users_df = spark.createDataFrame([Row(*user) for user in users], df_schema_str)"
   ]
  }
 ],
 "metadata": {
  "application/vnd.databricks.v1+notebook": {
   "computePreferences": null,
   "dashboards": [],
   "environmentMetadata": {
    "base_environment": "",
    "environment_version": "2"
   },
   "inputWidgetPreferences": null,
   "language": "python",
   "notebookMetadata": {
    "pythonIndentUnit": 4
   },
   "notebookName": "05 - Specifying Schema",
   "widgets": {}
  },
  "language_info": {
   "name": "python"
  }
 },
 "nbformat": 4,
 "nbformat_minor": 0
}
