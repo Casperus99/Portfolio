{
 "cells": [
  {
   "cell_type": "code",
   "execution_count": 0,
   "metadata": {
    "application/vnd.databricks.v1+cell": {
     "cellMetadata": {
      "byteLimit": 2048000,
      "rowLimit": 10000
     },
     "collapsed": true,
     "inputWidgets": {},
     "nuid": "a7d45229-6c70-4def-a2fa-6bea80359d85",
     "showTitle": false,
     "tableResultSettingsMap": {},
     "title": ""
    }
   },
   "outputs": [],
   "source": [
    "from pyspark.sql import Row\n",
    "from pyspark.sql.functions import col\n",
    "import datetime\n",
    "\n",
    "# One row is defined with list of strings\n",
    "users_with_lists = [\n",
    "    {\n",
    "        \"id\": 1,\n",
    "        \"first_name\": \"Corrie\",\n",
    "        \"last_name\": \"Van den Oord\",\n",
    "        \"email\": \"cvandenoord0@etsy.com\",\n",
    "        \"phone_numbers\": [\"+1 234 567 8901\", \"+1 234 567 8911\"],\n",
    "        \"is_customer\": True,\n",
    "        \"amount_paid\": 1000.55,\n",
    "        \"customer_from\": datetime.date(2021, 1, 15),\n",
    "        \"last_updated_ts\": datetime.datetime(2021, 2, 10, 1, 15, 0)\n",
    "    },\n",
    "    {\n",
    "        \"id\": 2,\n",
    "        \"first_name\": \"Nikolaus\",\n",
    "        \"last_name\": \"Brewitt\",\n",
    "        \"email\": \"nbrewitt1@dailymail.co.uk\",\n",
    "        \"phone_numbers\": [\"+1 234 567 8923\", \"+1 234 567 8934\"],\n",
    "        \"is_customer\": True,\n",
    "        \"amount_paid\": 900.0,\n",
    "        \"customer_from\": datetime.date(2021, 2, 14),\n",
    "        \"last_updated_ts\": datetime.datetime(2021, 2, 18, 3, 33, 0)\n",
    "    },\n",
    "    {\n",
    "        \"id\": 3,\n",
    "        \"first_name\": \"Orelie\",\n",
    "        \"last_name\": \"Penney\",\n",
    "        \"email\": \"openney2@vistaprint.com\",\n",
    "        \"phone_numbers\": [\"+1 714 512 9752\", \"+1 714 512 6601\"],\n",
    "        \"is_customer\": True,\n",
    "        \"amount_paid\": 850.55,\n",
    "        \"customer_from\": datetime.date(2021, 1, 21),\n",
    "        \"last_updated_ts\": datetime.datetime(2021, 3, 15, 15, 16, 55)\n",
    "    },\n",
    "    {\n",
    "        \"id\": 4,\n",
    "        \"first_name\": \"Ashby\",\n",
    "        \"last_name\": \"Maddocks\",\n",
    "        \"email\": \"amaddocks3@home.pl\",\n",
    "        \"phone_numbers\": None,\n",
    "        \"is_customer\": False,\n",
    "        \"amount_paid\": None,\n",
    "        \"customer_from\": None,\n",
    "        \"last_updated_ts\": datetime.datetime(2021, 4, 10, 17, 45, 30)\n",
    "    },\n",
    "    {\n",
    "        \"id\": 5,\n",
    "        \"first_name\": \"Kurt\",\n",
    "        \"last_name\": \"Rome\",\n",
    "        \"email\": \"krome4@shutterfly.com\",\n",
    "        \"phone_numbers\": [\"+1 817 934 7142\"],\n",
    "        \"is_customer\": False,\n",
    "        \"amount_paid\": None,\n",
    "        \"customer_from\": None,\n",
    "        \"last_updated_ts\": datetime.datetime(2021, 4, 2, 0, 55, 18)\n",
    "    }\n",
    "]\n",
    "\n",
    "# One row is defined as a dictionary\n",
    "users_with_dicts = [\n",
    "    {\n",
    "        \"id\": 1,\n",
    "        \"first_name\": \"Corrie\",\n",
    "        \"last_name\": \"Van den Oord\",\n",
    "        \"email\": \"cvandenoord0@etsy.com\",\n",
    "        \"phone_numbers\": {\"mobile\": \"+1 234 567 8901\", \"home\": \"+1 234 567 8911\"},\n",
    "        \"is_customer\": True,\n",
    "        \"amount_paid\": 1000.55,\n",
    "        \"customer_from\": datetime.date(2021, 1, 15),\n",
    "        \"last_updated_ts\": datetime.datetime(2021, 2, 10, 1, 15, 0)\n",
    "    },\n",
    "    {\n",
    "        \"id\": 2,\n",
    "        \"first_name\": \"Nikolaus\",\n",
    "        \"last_name\": \"Brewitt\",\n",
    "        \"email\": \"nbrewitt1@dailymail.co.uk\",\n",
    "        \"phone_numbers\": {\"mobile\": \"+1 234 567 8923\", \"home\": \"+1 234 567 8934\"},\n",
    "        \"is_customer\": True,\n",
    "        \"amount_paid\": 900.0,\n",
    "        \"customer_from\": datetime.date(2021, 2, 14),\n",
    "        \"last_updated_ts\": datetime.datetime(2021, 2, 18, 3, 33, 0)\n",
    "    },\n",
    "    {\n",
    "        \"id\": 3,\n",
    "        \"first_name\": \"Orelie\",\n",
    "        \"last_name\": \"Penney\",\n",
    "        \"email\": \"openney2@vistaprint.com\",\n",
    "        \"phone_numbers\": {\"mobile\": \"+1 714 512 9752\", \"home\": \"+1 714 512 6601\"},\n",
    "        \"is_customer\": True,\n",
    "        \"amount_paid\": 850.55,\n",
    "        \"customer_from\": datetime.date(2021, 1, 21),\n",
    "        \"last_updated_ts\": datetime.datetime(2021, 3, 15, 15, 16, 55)\n",
    "    },\n",
    "    {\n",
    "        \"id\": 4,\n",
    "        \"first_name\": \"Ashby\",\n",
    "        \"last_name\": \"Maddocks\",\n",
    "        \"email\": \"amaddocks3@home.pl\",\n",
    "        \"phone_numbers\": None,\n",
    "        \"is_customer\": False,\n",
    "        \"amount_paid\": None,\n",
    "        \"customer_from\": None,\n",
    "        \"last_updated_ts\": datetime.datetime(2021, 4, 10, 17, 45, 30)\n",
    "    },\n",
    "    {\n",
    "        \"id\": 5,\n",
    "        \"first_name\": \"Kurt\",\n",
    "        \"last_name\": \"Rome\",\n",
    "        \"email\": \"krome4@shutterfly.com\",\n",
    "        \"phone_numbers\": {\"mobile\": \"+1 817 934 7142\", \"age\": 25},\n",
    "        \"is_customer\": False,\n",
    "        \"amount_paid\": None,\n",
    "        \"customer_from\": None,\n",
    "        \"last_updated_ts\": datetime.datetime(2021, 4, 2, 0, 55, 18)\n",
    "    }\n",
    "]\n",
    "\n",
    "# One row is defined as pySpark's Row\n",
    "users_with_row = [\n",
    "    {\n",
    "        \"id\": 1,\n",
    "        \"first_name\": \"Corrie\",\n",
    "        \"last_name\": \"Van den Oord\",\n",
    "        \"email\": \"cvandenoord0@etsy.com\",\n",
    "        \"phone_numbers\": Row(mobile=\"+1 234 567 8901\", home=\"+1 234 567 8911\"),\n",
    "        \"is_customer\": True,\n",
    "        \"amount_paid\": 1000.55,\n",
    "        \"customer_from\": datetime.date(2021, 1, 15),\n",
    "        \"last_updated_ts\": datetime.datetime(2021, 2, 10, 1, 15, 0)\n",
    "    },\n",
    "    {\n",
    "        \"id\": 2,\n",
    "        \"first_name\": \"Nikolaus\",\n",
    "        \"last_name\": \"Brewitt\",\n",
    "        \"email\": \"nbrewitt1@dailymail.co.uk\",\n",
    "        \"phone_numbers\":  Row(mobile=\"+1 234 567 8923\", home=\"+1 234 567 8934\"),\n",
    "        \"is_customer\": True,\n",
    "        \"amount_paid\": 900.0,\n",
    "        \"customer_from\": datetime.date(2021, 2, 14),\n",
    "        \"last_updated_ts\": datetime.datetime(2021, 2, 18, 3, 33, 0)\n",
    "    },\n",
    "    {\n",
    "        \"id\": 3,\n",
    "        \"first_name\": \"Orelie\",\n",
    "        \"last_name\": \"Penney\",\n",
    "        \"email\": \"openney2@vistaprint.com\",\n",
    "        \"phone_numbers\": Row(mobile=\"+1 714 512 9752\", home=\"+1 714 512 6601\"),\n",
    "        \"is_customer\": True,\n",
    "        \"amount_paid\": 850.55,\n",
    "        \"customer_from\": datetime.date(2021, 1, 21),\n",
    "        \"last_updated_ts\": datetime.datetime(2021, 3, 15, 15, 16, 55)\n",
    "    },\n",
    "    {\n",
    "        \"id\": 4,\n",
    "        \"first_name\": \"Ashby\",\n",
    "        \"last_name\": \"Maddocks\",\n",
    "        \"email\": \"amaddocks3@home.pl\",\n",
    "        \"phone_numbers\": Row(mobile=None, home=None),\n",
    "        \"is_customer\": False,\n",
    "        \"amount_paid\": None,\n",
    "        \"customer_from\": None,\n",
    "        \"last_updated_ts\": datetime.datetime(2021, 4, 10, 17, 45, 30)\n",
    "    },\n",
    "    {\n",
    "        \"id\": 5,\n",
    "        \"first_name\": \"Kurt\",\n",
    "        \"last_name\": \"Rome\",\n",
    "        \"email\": \"krome4@shutterfly.com\",\n",
    "        \"phone_numbers\": Row(mobile=\"+1 817 934 7142\", home=None),\n",
    "        \"is_customer\": False,\n",
    "        \"amount_paid\": None,\n",
    "        \"customer_from\": None,\n",
    "        \"last_updated_ts\": datetime.datetime(2021, 4, 2, 0, 55, 18)\n",
    "    }\n",
    "]"
   ]
  },
  {
   "cell_type": "code",
   "execution_count": 0,
   "metadata": {
    "application/vnd.databricks.v1+cell": {
     "cellMetadata": {},
     "inputWidgets": {},
     "nuid": "77fada04-facd-46ac-b71f-bd46ccf0c15a",
     "showTitle": false,
     "tableResultSettingsMap": {},
     "title": ""
    }
   },
   "outputs": [],
   "source": [
    "# 3 container type columns:\n",
    "# Arrays <-- list (index notation)\n",
    "# Maps <-- dict (keyword notation)\n",
    "# Structs <-- pySpark's Row (dot and keyword notation)\n",
    "\n",
    "# col(container_type_column) - lets us access the elements of the container column\n",
    "# col(XXX).alias('new_name') - SELECT XXX AS new_name\n",
    "# explode(container_type_column) - lets us explode the rows with these columns into multiple rows"
   ]
  },
  {
   "cell_type": "markdown",
   "metadata": {
    "application/vnd.databricks.v1+cell": {
     "cellMetadata": {},
     "inputWidgets": {},
     "nuid": "4745d00a-c9ca-43c4-b59b-3f1863185e25",
     "showTitle": false,
     "tableResultSettingsMap": {},
     "title": ""
    }
   },
   "source": [
    "## Arrays\n",
    "#### Perfect for lists of values"
   ]
  },
  {
   "cell_type": "code",
   "execution_count": 0,
   "metadata": {
    "application/vnd.databricks.v1+cell": {
     "cellMetadata": {
      "byteLimit": 2048000,
      "rowLimit": 10000
     },
     "inputWidgets": {},
     "nuid": "969a1b1c-ef47-421a-8f53-a7f5d8c7b20f",
     "showTitle": false,
     "tableResultSettingsMap": {},
     "title": ""
    }
   },
   "outputs": [
    {
     "output_type": "stream",
     "name": "stdout",
     "output_type": "stream",
     "text": [
      "root\n |-- id: long (nullable = true)\n |-- first_name: string (nullable = true)\n |-- last_name: string (nullable = true)\n |-- email: string (nullable = true)\n |-- phone_numbers: array (nullable = true)\n |    |-- element: string (containsNull = true)\n |-- is_customer: boolean (nullable = true)\n |-- amount_paid: double (nullable = true)\n |-- customer_from: date (nullable = true)\n |-- last_updated_ts: timestamp (nullable = true)\n\n+---+----------+------------+-------------------------+----------------------------------+-----------+-----------+-------------+-------------------+\n|id |first_name|last_name   |email                    |phone_numbers                     |is_customer|amount_paid|customer_from|last_updated_ts    |\n+---+----------+------------+-------------------------+----------------------------------+-----------+-----------+-------------+-------------------+\n|1  |Corrie    |Van den Oord|cvandenoord0@etsy.com    |[+1 234 567 8901, +1 234 567 8911]|true       |1000.55    |2021-01-15   |2021-02-10 01:15:00|\n|2  |Nikolaus  |Brewitt     |nbrewitt1@dailymail.co.uk|[+1 234 567 8923, +1 234 567 8934]|true       |900.0      |2021-02-14   |2021-02-18 03:33:00|\n|3  |Orelie    |Penney      |openney2@vistaprint.com  |[+1 714 512 9752, +1 714 512 6601]|true       |850.55     |2021-01-21   |2021-03-15 15:16:55|\n|4  |Ashby     |Maddocks    |amaddocks3@home.pl       |NULL                              |false      |NULL       |NULL         |2021-04-10 17:45:30|\n|5  |Kurt      |Rome        |krome4@shutterfly.com    |[+1 817 934 7142]                 |false      |NULL       |NULL         |2021-04-02 00:55:18|\n+---+----------+------------+-------------------------+----------------------------------+-----------+-----------+-------------+-------------------+\n\n"
     ]
    }
   ],
   "source": [
    "# As one can see, the list column transforms into pySpark's Array\n",
    "\n",
    "users_with_lists_df = spark.createDataFrame([Row(**user) for user in users_with_lists])\n",
    "users_with_lists_df.printSchema()\n",
    "users_with_lists_df.show(truncate=False)"
   ]
  },
  {
   "cell_type": "code",
   "execution_count": 0,
   "metadata": {
    "application/vnd.databricks.v1+cell": {
     "cellMetadata": {
      "byteLimit": 2048000,
      "rowLimit": 10000
     },
     "inputWidgets": {},
     "nuid": "a87de68d-4d91-45a0-8bd1-a25eee859d9f",
     "showTitle": false,
     "tableResultSettingsMap": {},
     "title": ""
    }
   },
   "outputs": [
    {
     "output_type": "execute_result",
     "data": {
      "text/plain": [
       "[('id', 'bigint'),\n",
       " ('first_name', 'string'),\n",
       " ('last_name', 'string'),\n",
       " ('email', 'string'),\n",
       " ('phone_numbers', 'array<string>'),\n",
       " ('is_customer', 'boolean'),\n",
       " ('amount_paid', 'double'),\n",
       " ('customer_from', 'date'),\n",
       " ('last_updated_ts', 'timestamp')]"
      ]
     },
     "execution_count": 3,
     "metadata": {},
     "output_type": "execute_result"
    }
   ],
   "source": [
    "users_with_lists_df.dtypes"
   ]
  },
  {
   "cell_type": "code",
   "execution_count": 0,
   "metadata": {
    "application/vnd.databricks.v1+cell": {
     "cellMetadata": {
      "byteLimit": 2048000,
      "rowLimit": 10000
     },
     "inputWidgets": {},
     "nuid": "63d8157b-e44d-403f-931e-2c9b6e2aca45",
     "showTitle": false,
     "tableResultSettingsMap": {},
     "title": ""
    }
   },
   "outputs": [
    {
     "output_type": "stream",
     "name": "stdout",
     "output_type": "stream",
     "text": [
      "+---+---------------+---------------+\n|id |mobile         |home           |\n+---+---------------+---------------+\n|1  |+1 234 567 8901|+1 234 567 8911|\n|2  |+1 234 567 8923|+1 234 567 8934|\n|3  |+1 714 512 9752|+1 714 512 6601|\n|4  |NULL           |NULL           |\n|5  |+1 817 934 7142|NULL           |\n+---+---------------+---------------+\n\n"
     ]
    }
   ],
   "source": [
    "# We can use 'col' function to access the elements of an array and show them as different columns\n",
    "\n",
    "users_with_lists_df.select('id', col('phone_numbers')[0].alias('mobile'), col('phone_numbers')[1].alias('home')).show(truncate=False)"
   ]
  },
  {
   "cell_type": "markdown",
   "metadata": {
    "application/vnd.databricks.v1+cell": {
     "cellMetadata": {},
     "inputWidgets": {},
     "nuid": "c1cf95c3-71b7-480e-8cdd-c7b3e97df7ce",
     "showTitle": false,
     "tableResultSettingsMap": {},
     "title": ""
    }
   },
   "source": [
    "## Maps\n",
    "#### Great for flexible key-value pairs"
   ]
  },
  {
   "cell_type": "code",
   "execution_count": 0,
   "metadata": {
    "application/vnd.databricks.v1+cell": {
     "cellMetadata": {
      "byteLimit": 2048000,
      "rowLimit": 10000
     },
     "inputWidgets": {},
     "nuid": "ff00c581-73c2-4bd5-962b-0c7d6365ffe4",
     "showTitle": false,
     "tableResultSettingsMap": {},
     "title": ""
    }
   },
   "outputs": [
    {
     "output_type": "stream",
     "name": "stdout",
     "output_type": "stream",
     "text": [
      "root\n |-- id: long (nullable = true)\n |-- first_name: string (nullable = true)\n |-- last_name: string (nullable = true)\n |-- email: string (nullable = true)\n |-- phone_numbers: map (nullable = true)\n |    |-- key: string\n |    |-- value: string (valueContainsNull = true)\n |-- is_customer: boolean (nullable = true)\n |-- amount_paid: double (nullable = true)\n |-- customer_from: date (nullable = true)\n |-- last_updated_ts: timestamp (nullable = true)\n\n+---+----------+------------+-------------------------+----------------------------------------------------+-----------+-----------+-------------+-------------------+\n|id |first_name|last_name   |email                    |phone_numbers                                       |is_customer|amount_paid|customer_from|last_updated_ts    |\n+---+----------+------------+-------------------------+----------------------------------------------------+-----------+-----------+-------------+-------------------+\n|1  |Corrie    |Van den Oord|cvandenoord0@etsy.com    |{mobile -> +1 234 567 8901, home -> +1 234 567 8911}|true       |1000.55    |2021-01-15   |2021-02-10 01:15:00|\n|2  |Nikolaus  |Brewitt     |nbrewitt1@dailymail.co.uk|{mobile -> +1 234 567 8923, home -> +1 234 567 8934}|true       |900.0      |2021-02-14   |2021-02-18 03:33:00|\n|3  |Orelie    |Penney      |openney2@vistaprint.com  |{mobile -> +1 714 512 9752, home -> +1 714 512 6601}|true       |850.55     |2021-01-21   |2021-03-15 15:16:55|\n|4  |Ashby     |Maddocks    |amaddocks3@home.pl       |NULL                                                |false      |NULL       |NULL         |2021-04-10 17:45:30|\n|5  |Kurt      |Rome        |krome4@shutterfly.com    |{mobile -> +1 817 934 7142, age -> 25}              |false      |NULL       |NULL         |2021-04-02 00:55:18|\n+---+----------+------------+-------------------------+----------------------------------------------------+-----------+-----------+-------------+-------------------+\n\n"
     ]
    }
   ],
   "source": [
    "# As one can see, the dict column transforms into pySpark's map\n",
    "\n",
    "users_with_dicts_df = spark.createDataFrame([Row(**user) for user in users_with_dicts])\n",
    "users_with_dicts_df.printSchema()\n",
    "users_with_dicts_df.show(truncate=False)"
   ]
  },
  {
   "cell_type": "code",
   "execution_count": 0,
   "metadata": {
    "application/vnd.databricks.v1+cell": {
     "cellMetadata": {
      "byteLimit": 2048000,
      "rowLimit": 10000
     },
     "inputWidgets": {},
     "nuid": "d992c4c6-845a-476c-bff3-9eaae79eaef3",
     "showTitle": false,
     "tableResultSettingsMap": {},
     "title": ""
    }
   },
   "outputs": [
    {
     "output_type": "execute_result",
     "data": {
      "text/plain": [
       "[('id', 'bigint'),\n",
       " ('first_name', 'string'),\n",
       " ('last_name', 'string'),\n",
       " ('email', 'string'),\n",
       " ('phone_numbers', 'map<string,string>'),\n",
       " ('is_customer', 'boolean'),\n",
       " ('amount_paid', 'double'),\n",
       " ('customer_from', 'date'),\n",
       " ('last_updated_ts', 'timestamp')]"
      ]
     },
     "execution_count": 6,
     "metadata": {},
     "output_type": "execute_result"
    }
   ],
   "source": [
    "users_with_dicts_df.dtypes"
   ]
  },
  {
   "cell_type": "code",
   "execution_count": 0,
   "metadata": {
    "application/vnd.databricks.v1+cell": {
     "cellMetadata": {
      "byteLimit": 2048000,
      "rowLimit": 10000
     },
     "inputWidgets": {},
     "nuid": "8ded4e41-8feb-4ea3-afa1-bfdcc21ee301",
     "showTitle": false,
     "tableResultSettingsMap": {},
     "title": ""
    }
   },
   "outputs": [
    {
     "output_type": "stream",
     "name": "stdout",
     "output_type": "stream",
     "text": [
      "+---+---------------+-------------------+------------------+\n|id |mobile         |phone_numbers[home]|phone_numbers[age]|\n+---+---------------+-------------------+------------------+\n|1  |+1 234 567 8901|+1 234 567 8911    |NULL              |\n|2  |+1 234 567 8923|+1 234 567 8934    |NULL              |\n|3  |+1 714 512 9752|+1 714 512 6601    |NULL              |\n|4  |NULL           |NULL               |NULL              |\n|5  |+1 817 934 7142|NULL               |25                |\n+---+---------------+-------------------+------------------+\n\n"
     ]
    }
   ],
   "source": [
    "# We can use 'col' function to access the elements of a map and show them as different columns\n",
    "# In contradiction to array we use a key instead of an index\n",
    "#\n",
    "# We can also see that not every row needs all keys. If a row does not have a specific key, it's filled with NULL\n",
    "\n",
    "users_with_dicts_df.select('id', col('phone_numbers')['mobile'].alias('mobile'), col('phone_numbers')['home'], col('phone_numbers')['age']).show(truncate=False)"
   ]
  },
  {
   "cell_type": "markdown",
   "metadata": {
    "application/vnd.databricks.v1+cell": {
     "cellMetadata": {},
     "inputWidgets": {},
     "nuid": "43680643-61f4-4d17-b814-5ccb2fc806d0",
     "showTitle": false,
     "tableResultSettingsMap": {},
     "title": ""
    }
   },
   "source": [
    "## Structs\n",
    "#### The best for fixed, known fields"
   ]
  },
  {
   "cell_type": "code",
   "execution_count": 0,
   "metadata": {
    "application/vnd.databricks.v1+cell": {
     "cellMetadata": {
      "byteLimit": 2048000,
      "rowLimit": 10000
     },
     "inputWidgets": {},
     "nuid": "ffc13db6-17dd-4231-9f10-40f8770ff8d7",
     "showTitle": false,
     "tableResultSettingsMap": {},
     "title": ""
    }
   },
   "outputs": [
    {
     "output_type": "stream",
     "name": "stdout",
     "output_type": "stream",
     "text": [
      "root\n |-- id: long (nullable = true)\n |-- first_name: string (nullable = true)\n |-- last_name: string (nullable = true)\n |-- email: string (nullable = true)\n |-- phone_numbers: struct (nullable = true)\n |    |-- mobile: string (nullable = true)\n |    |-- home: string (nullable = true)\n |-- is_customer: boolean (nullable = true)\n |-- amount_paid: double (nullable = true)\n |-- customer_from: date (nullable = true)\n |-- last_updated_ts: timestamp (nullable = true)\n\n+---+----------+------------+-------------------------+----------------------------------+-----------+-----------+-------------+-------------------+\n|id |first_name|last_name   |email                    |phone_numbers                     |is_customer|amount_paid|customer_from|last_updated_ts    |\n+---+----------+------------+-------------------------+----------------------------------+-----------+-----------+-------------+-------------------+\n|1  |Corrie    |Van den Oord|cvandenoord0@etsy.com    |{+1 234 567 8901, +1 234 567 8911}|true       |1000.55    |2021-01-15   |2021-02-10 01:15:00|\n|2  |Nikolaus  |Brewitt     |nbrewitt1@dailymail.co.uk|{+1 234 567 8923, +1 234 567 8934}|true       |900.0      |2021-02-14   |2021-02-18 03:33:00|\n|3  |Orelie    |Penney      |openney2@vistaprint.com  |{+1 714 512 9752, +1 714 512 6601}|true       |850.55     |2021-01-21   |2021-03-15 15:16:55|\n|4  |Ashby     |Maddocks    |amaddocks3@home.pl       |{NULL, NULL}                      |false      |NULL       |NULL         |2021-04-10 17:45:30|\n|5  |Kurt      |Rome        |krome4@shutterfly.com    |{+1 817 934 7142, NULL}           |false      |NULL       |NULL         |2021-04-02 00:55:18|\n+---+----------+------------+-------------------------+----------------------------------+-----------+-----------+-------------+-------------------+\n\n"
     ]
    }
   ],
   "source": [
    "# Structs work similar to maps, but in this case every row must have all keys\n",
    "# Like we can see in 4'th and 5'th row - the NULLs had to be defined explicitly\n",
    "\n",
    "users_with_row_df = spark.createDataFrame([Row(**user) for user in users_with_row])\n",
    "users_with_row_df.printSchema()\n",
    "users_with_row_df.show(truncate=False)"
   ]
  },
  {
   "cell_type": "code",
   "execution_count": 0,
   "metadata": {
    "application/vnd.databricks.v1+cell": {
     "cellMetadata": {
      "byteLimit": 2048000,
      "rowLimit": 10000
     },
     "inputWidgets": {},
     "nuid": "b557f00f-4b54-4e28-a27f-1b82715c9b53",
     "showTitle": false,
     "tableResultSettingsMap": {},
     "title": ""
    }
   },
   "outputs": [
    {
     "output_type": "execute_result",
     "data": {
      "text/plain": [
       "[('id', 'bigint'),\n",
       " ('first_name', 'string'),\n",
       " ('last_name', 'string'),\n",
       " ('email', 'string'),\n",
       " ('phone_numbers', 'struct<mobile:string,home:string>'),\n",
       " ('is_customer', 'boolean'),\n",
       " ('amount_paid', 'double'),\n",
       " ('customer_from', 'date'),\n",
       " ('last_updated_ts', 'timestamp')]"
      ]
     },
     "execution_count": 9,
     "metadata": {},
     "output_type": "execute_result"
    }
   ],
   "source": [
    "users_with_row_df.dtypes"
   ]
  },
  {
   "cell_type": "code",
   "execution_count": 0,
   "metadata": {
    "application/vnd.databricks.v1+cell": {
     "cellMetadata": {
      "byteLimit": 2048000,
      "rowLimit": 10000
     },
     "inputWidgets": {},
     "nuid": "0da13edd-69a9-4e58-af41-5f0b8115af38",
     "showTitle": false,
     "tableResultSettingsMap": {},
     "title": ""
    }
   },
   "outputs": [
    {
     "output_type": "stream",
     "name": "stdout",
     "output_type": "stream",
     "text": [
      "+---+---------------+------------------+\n|id |mobile         |phone_numbers.home|\n+---+---------------+------------------+\n|1  |+1 234 567 8901|+1 234 567 8911   |\n|2  |+1 234 567 8923|+1 234 567 8934   |\n|3  |+1 714 512 9752|+1 714 512 6601   |\n|4  |NULL           |NULL              |\n|5  |+1 817 934 7142|NULL              |\n+---+---------------+------------------+\n\n"
     ]
    }
   ],
   "source": [
    "# We can get the elements of a struct by '.' notation or by using a key\n",
    "\n",
    "users_with_row_df.select('id', col('phone_numbers').mobile.alias('mobile'), col('phone_numbers')['home']).show(truncate=False)"
   ]
  },
  {
   "cell_type": "markdown",
   "metadata": {
    "application/vnd.databricks.v1+cell": {
     "cellMetadata": {},
     "inputWidgets": {},
     "nuid": "36d6afc2-6fc4-4014-a6c4-accc01ab9808",
     "showTitle": false,
     "tableResultSettingsMap": {},
     "title": ""
    }
   },
   "source": [
    "#### Explode"
   ]
  },
  {
   "cell_type": "code",
   "execution_count": 0,
   "metadata": {
    "application/vnd.databricks.v1+cell": {
     "cellMetadata": {
      "byteLimit": 2048000,
      "rowLimit": 10000
     },
     "inputWidgets": {},
     "nuid": "b7a7ac90-0601-4156-a4e4-7aa6449e1b6e",
     "showTitle": false,
     "tableResultSettingsMap": {},
     "title": ""
    }
   },
   "outputs": [
    {
     "output_type": "stream",
     "name": "stdout",
     "output_type": "stream",
     "text": [
      "+---+---------------+\n| id|            col|\n+---+---------------+\n|  1|+1 234 567 8901|\n|  1|+1 234 567 8911|\n|  2|+1 234 567 8923|\n|  2|+1 234 567 8934|\n|  3|+1 714 512 9752|\n|  3|+1 714 512 6601|\n|  5|+1 817 934 7142|\n+---+---------------+\n\n"
     ]
    }
   ],
   "source": [
    "# We can 'explode' rows with these columns into multiple rows:\n",
    "\n",
    "from pyspark.sql.functions import explode\n",
    "\n",
    "users_with_lists_df.select('id', explode('phone_numbers')).show()"
   ]
  }
 ],
 "metadata": {
  "application/vnd.databricks.v1+notebook": {
   "computePreferences": null,
   "dashboards": [],
   "environmentMetadata": {
    "base_environment": "",
    "environment_version": "2"
   },
   "inputWidgetPreferences": null,
   "language": "python",
   "notebookMetadata": {
    "pythonIndentUnit": 4
   },
   "notebookName": "07 - Special Data Types in Spark",
   "widgets": {}
  },
  "language_info": {
   "name": "python"
  }
 },
 "nbformat": 4,
 "nbformat_minor": 0
}