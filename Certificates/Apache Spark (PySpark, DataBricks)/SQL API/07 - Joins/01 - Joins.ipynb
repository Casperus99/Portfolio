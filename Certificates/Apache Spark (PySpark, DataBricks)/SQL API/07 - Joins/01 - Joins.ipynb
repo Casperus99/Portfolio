{
 "cells": [
  {
   "cell_type": "code",
   "execution_count": 0,
   "metadata": {
    "application/vnd.databricks.v1+cell": {
     "cellMetadata": {
      "byteLimit": 2048000,
      "rowLimit": 10000
     },
     "inputWidgets": {},
     "nuid": "59adf3d5-301e-4145-808a-77af32625aeb",
     "showTitle": false,
     "tableResultSettingsMap": {},
     "title": ""
    }
   },
   "outputs": [],
   "source": [
    "%run \"./00 - Setup Data Sets\""
   ]
  },
  {
   "cell_type": "code",
   "execution_count": 0,
   "metadata": {
    "application/vnd.databricks.v1+cell": {
     "cellMetadata": {
      "byteLimit": 2048000,
      "rowLimit": 10000
     },
     "inputWidgets": {},
     "nuid": "7ae53cc5-a380-4d90-9a2e-188287247222",
     "showTitle": false,
     "tableResultSettingsMap": {},
     "title": ""
    }
   },
   "outputs": [],
   "source": [
    "from pyspark.sql.functions import *"
   ]
  },
  {
   "cell_type": "code",
   "execution_count": 0,
   "metadata": {
    "application/vnd.databricks.v1+cell": {
     "cellMetadata": {},
     "inputWidgets": {},
     "nuid": "6d821448-f702-4f79-a1d8-6dfd78563b44",
     "showTitle": false,
     "tableResultSettingsMap": {},
     "title": ""
    }
   },
   "outputs": [
    {
     "output_type": "stream",
     "name": "stdout",
     "output_type": "stream",
     "text": [
      "+---------+--------------------+-------------------+---------+-------------------+\n|course_id|        course_title|course_published_dt|is_active|    last_updated_ts|\n+---------+--------------------+-------------------+---------+-------------------+\n|        1|    Mastering Python|         2021-01-14|     true|2021-02-18 16:57:25|\n|        2|Data Engineering ...|         2021-02-10|     true|2021-03-05 12:07:33|\n|        3|   Mastering Pyspark|         2021-01-07|     true|2021-04-06 10:05:42|\n|        4|      AWS Essentials|         2021-03-19|    false|2021-04-10 02:25:36|\n|        5|          Docker 101|         2021-02-28|     true|2021-03-21 07:18:52|\n+---------+--------------------+-------------------+---------+-------------------+\n\n+-------+---------------+--------------+--------------------+\n|user_id|user_first_name|user_last_name|          user_email|\n+-------+---------------+--------------+--------------------+\n|      1|         Sandra|        Karpov|    skarpov0@ovh.net|\n|      2|           Kari|        Dearth|kdearth1@so-net.n...|\n|      3|         Joanna|      Spennock|jspennock2@redcro...|\n|      4|         Hirsch|       Conaboy|hconaboy3@barnesa...|\n|      5|         Loreen|         Malin|lmalin4@independe...|\n|      6|           Augy|      Christon|  achriston5@mlb.com|\n|      7|         Trudey|       Choupin|     tchoupin6@de.vu|\n|      8|         Nadine|     Grimsdell|ngrimsdell7@sohu.com|\n|      9|        Vassily|         Tamas|vtamas8@businessw...|\n|     10|          Wells|      Simpkins|wsimpkins9@amazon...|\n+-------+---------------+--------------+--------------------+\n\n+-------------------+-------+---------+----------+\n|course_enrolment_id|user_id|course_id|price_paid|\n+-------------------+-------+---------+----------+\n|                  1|     10|        2|      9.99|\n|                  2|      5|        2|      9.99|\n|                  3|      7|        5|     10.99|\n|                  4|      9|        2|      9.99|\n|                  5|      8|        2|      9.99|\n|                  6|      5|        5|     10.99|\n|                  7|      4|        5|     10.99|\n|                  8|      7|        3|     10.99|\n|                  9|      8|        5|     10.99|\n|                 10|      3|        3|     10.99|\n|                 11|      7|        5|     10.99|\n|                 12|      3|        2|      9.99|\n|                 13|      5|        2|      9.99|\n|                 14|      4|        3|     10.99|\n|                 15|      8|        2|      9.99|\n+-------------------+-------+---------+----------+\n\n"
     ]
    }
   ],
   "source": [
    "# ON <specific conditions>\n",
    "users_df \\\n",
    "    .join(course_enrolments_df, users_df.user_id == course_enrolments_df.user_id, \"inner\") \\\n",
    "    .show()\n",
    "\n",
    "# ON <common columns>\n",
    "# common columns will occur only once in the result table\n",
    "users_df \\\n",
    "    .join(course_enrolments_df, 'user_id', \"inner\") \\\n",
    "    .show()\n",
    "\n",
    "# BROADCAST\n",
    "broadcast(users_df) \\\n",
    "    .join(course_enrolments_df, 'user_id', \"inner\") \\\n",
    "    .show()\n",
    "\n",
    "# JOIN OPTIONS\n",
    "\"\"\"\n",
    "> inner (default)                       INNER JOIN\n",
    "> outer, full, fullouter, full_outer    FULL OUTER JOIN\n",
    "> left, leftouter, left_outer           LEFT JOIN\n",
    "> right, rightouter, right_outer        RIGHT JOIN\n",
    "> anti, leftanti, left_anti             Reutrns leftovers from left table after filtering with right table\n",
    "> semi, leftsemi, left_semi             Filters left table with right table\n",
    "> cross                                 Cartesian (You can also use .crossJoin(<table>))\n",
    "\"\"\""
   ]
  },
  {
   "cell_type": "code",
   "execution_count": 0,
   "metadata": {
    "application/vnd.databricks.v1+cell": {
     "cellMetadata": {},
     "inputWidgets": {},
     "nuid": "a8b54513-74bb-4811-b156-fbf7481d6ff5",
     "showTitle": false,
     "tableResultSettingsMap": {},
     "title": ""
    }
   },
   "outputs": [],
   "source": [
    "# JOIN OPTIONS\n",
    "\n",
    "\"\"\"\n",
    "> inner (default)                       INNER JOIN\n",
    "> outer, full, fullouter, full_outer    FULL OUTER JOIN\n",
    "> left, leftouter, left_outer           LEFT JOIN\n",
    "> right, rightouter, right_outer        RIGHT JOIN\n",
    "> anti, leftanti, left_anti             Reutrns leftovers from left table after filtering with right table\n",
    "> semi, leftsemi, left_semi             Filters left table with right table\n",
    "> cross                                 Cartesian (You can also use .crossJoin(<table>))\n",
    "\"\"\""
   ]
  },
  {
   "cell_type": "code",
   "execution_count": 0,
   "metadata": {
    "application/vnd.databricks.v1+cell": {
     "cellMetadata": {
      "byteLimit": 2048000,
      "rowLimit": 10000
     },
     "inputWidgets": {},
     "nuid": "a8991434-a540-4925-8099-3a4b83d50c5c",
     "showTitle": false,
     "tableResultSettingsMap": {},
     "title": ""
    }
   },
   "outputs": [
    {
     "output_type": "stream",
     "name": "stdout",
     "output_type": "stream",
     "text": [
      "+-------+---------------+--------------+--------------------+-------------------+-------+---------+----------+\n|user_id|user_first_name|user_last_name|          user_email|course_enrolment_id|user_id|course_id|price_paid|\n+-------+---------------+--------------+--------------------+-------------------+-------+---------+----------+\n|      3|         Joanna|      Spennock|jspennock2@redcro...|                 10|      3|        3|     10.99|\n|      3|         Joanna|      Spennock|jspennock2@redcro...|                 12|      3|        2|      9.99|\n|      4|         Hirsch|       Conaboy|hconaboy3@barnesa...|                  7|      4|        5|     10.99|\n|      4|         Hirsch|       Conaboy|hconaboy3@barnesa...|                 14|      4|        3|     10.99|\n|      5|         Loreen|         Malin|lmalin4@independe...|                  2|      5|        2|      9.99|\n|      5|         Loreen|         Malin|lmalin4@independe...|                  6|      5|        5|     10.99|\n|      5|         Loreen|         Malin|lmalin4@independe...|                 13|      5|        2|      9.99|\n|      7|         Trudey|       Choupin|     tchoupin6@de.vu|                  3|      7|        5|     10.99|\n|      7|         Trudey|       Choupin|     tchoupin6@de.vu|                  8|      7|        3|     10.99|\n|      7|         Trudey|       Choupin|     tchoupin6@de.vu|                 11|      7|        5|     10.99|\n|      8|         Nadine|     Grimsdell|ngrimsdell7@sohu.com|                  5|      8|        2|      9.99|\n|      8|         Nadine|     Grimsdell|ngrimsdell7@sohu.com|                  9|      8|        5|     10.99|\n|      8|         Nadine|     Grimsdell|ngrimsdell7@sohu.com|                 15|      8|        2|      9.99|\n|      9|        Vassily|         Tamas|vtamas8@businessw...|                  4|      9|        2|      9.99|\n|     10|          Wells|      Simpkins|wsimpkins9@amazon...|                  1|     10|        2|      9.99|\n+-------+---------------+--------------+--------------------+-------------------+-------+---------+----------+\n\n+-------+---------------+--------------+--------------------+-------------------+---------+----------+\n|user_id|user_first_name|user_last_name|          user_email|course_enrolment_id|course_id|price_paid|\n+-------+---------------+--------------+--------------------+-------------------+---------+----------+\n|      3|         Joanna|      Spennock|jspennock2@redcro...|                 10|        3|     10.99|\n|      3|         Joanna|      Spennock|jspennock2@redcro...|                 12|        2|      9.99|\n|      4|         Hirsch|       Conaboy|hconaboy3@barnesa...|                  7|        5|     10.99|\n|      4|         Hirsch|       Conaboy|hconaboy3@barnesa...|                 14|        3|     10.99|\n|      5|         Loreen|         Malin|lmalin4@independe...|                  2|        2|      9.99|\n|      5|         Loreen|         Malin|lmalin4@independe...|                  6|        5|     10.99|\n|      5|         Loreen|         Malin|lmalin4@independe...|                 13|        2|      9.99|\n|      7|         Trudey|       Choupin|     tchoupin6@de.vu|                  3|        5|     10.99|\n|      7|         Trudey|       Choupin|     tchoupin6@de.vu|                  8|        3|     10.99|\n|      7|         Trudey|       Choupin|     tchoupin6@de.vu|                 11|        5|     10.99|\n|      8|         Nadine|     Grimsdell|ngrimsdell7@sohu.com|                  5|        2|      9.99|\n|      8|         Nadine|     Grimsdell|ngrimsdell7@sohu.com|                  9|        5|     10.99|\n|      8|         Nadine|     Grimsdell|ngrimsdell7@sohu.com|                 15|        2|      9.99|\n|      9|        Vassily|         Tamas|vtamas8@businessw...|                  4|        2|      9.99|\n|     10|          Wells|      Simpkins|wsimpkins9@amazon...|                  1|        2|      9.99|\n+-------+---------------+--------------+--------------------+-------------------+---------+----------+\n\n"
     ]
    }
   ],
   "source": [
    "# EXAMPLE\n",
    "\n",
    "# ON <specific conditions>\n",
    "users_df \\\n",
    "    .join(course_enrolments_df, users_df.user_id == course_enrolments_df.user_id, \"inner\") \\\n",
    "    .show()\n",
    "\n",
    "# ON <common columns>\n",
    "# common columns will occur only once in the result table\n",
    "users_df \\\n",
    "    .join(course_enrolments_df, 'user_id', \"inner\") \\\n",
    "    .show()"
   ]
  },
  {
   "cell_type": "code",
   "execution_count": 0,
   "metadata": {
    "application/vnd.databricks.v1+cell": {
     "cellMetadata": {
      "byteLimit": 2048000,
      "rowLimit": 10000
     },
     "inputWidgets": {},
     "nuid": "bb634e92-d666-4261-b174-d85f3f38c45e",
     "showTitle": false,
     "tableResultSettingsMap": {},
     "title": ""
    }
   },
   "outputs": [
    {
     "output_type": "stream",
     "name": "stdout",
     "output_type": "stream",
     "text": [
      "+-------+-------------------+---------+----------+--------------------+\n|user_id|course_enrolment_id|course_id|price_paid|          user_email|\n+-------+-------------------+---------+----------+--------------------+\n|      3|                 10|        3|     10.99|jspennock2@redcro...|\n|      3|                 12|        2|      9.99|jspennock2@redcro...|\n|      4|                 14|        3|     10.99|hconaboy3@barnesa...|\n|      5|                  2|        2|      9.99|lmalin4@independe...|\n|      5|                 13|        2|      9.99|lmalin4@independe...|\n|      7|                  8|        3|     10.99|     tchoupin6@de.vu|\n|      8|                  5|        2|      9.99|ngrimsdell7@sohu.com|\n|      8|                 15|        2|      9.99|ngrimsdell7@sohu.com|\n|      9|                  4|        2|      9.99|vtamas8@businessw...|\n|     10|                  1|        2|      9.99|wsimpkins9@amazon...|\n+-------+-------------------+---------+----------+--------------------+\n\n"
     ]
    }
   ],
   "source": [
    "# ALIAS\n",
    "\n",
    "# We can't use aliases in ON conditions, but we can use it in the next operations:\n",
    "\n",
    "users_df.alias('u') \\\n",
    "    .join(course_enrolments_df.alias('c'), 'user_id') \\\n",
    "    .filter(col('c.course_id') <= lit(3)) \\\n",
    "    .select('c.*', 'u.user_email') \\\n",
    "    .show()"
   ]
  },
  {
   "cell_type": "code",
   "execution_count": 0,
   "metadata": {
    "application/vnd.databricks.v1+cell": {
     "cellMetadata": {
      "byteLimit": 2048000,
      "rowLimit": 10000
     },
     "inputWidgets": {},
     "nuid": "2ecbce78-e40c-4aca-8c32-843a95cb5401",
     "showTitle": false,
     "tableResultSettingsMap": {},
     "title": ""
    }
   },
   "outputs": [
    {
     "output_type": "stream",
     "name": "stdout",
     "output_type": "stream",
     "text": [
      "+-------+---------------+--------------+--------------------+-------------------+---------+----------+\n|user_id|user_first_name|user_last_name|          user_email|course_enrolment_id|course_id|price_paid|\n+-------+---------------+--------------+--------------------+-------------------+---------+----------+\n|     10|          Wells|      Simpkins|wsimpkins9@amazon...|                  1|        2|      9.99|\n|      5|         Loreen|         Malin|lmalin4@independe...|                  2|        2|      9.99|\n|      7|         Trudey|       Choupin|     tchoupin6@de.vu|                  3|        5|     10.99|\n|      9|        Vassily|         Tamas|vtamas8@businessw...|                  4|        2|      9.99|\n|      8|         Nadine|     Grimsdell|ngrimsdell7@sohu.com|                  5|        2|      9.99|\n|      5|         Loreen|         Malin|lmalin4@independe...|                  6|        5|     10.99|\n|      4|         Hirsch|       Conaboy|hconaboy3@barnesa...|                  7|        5|     10.99|\n|      7|         Trudey|       Choupin|     tchoupin6@de.vu|                  8|        3|     10.99|\n|      8|         Nadine|     Grimsdell|ngrimsdell7@sohu.com|                  9|        5|     10.99|\n|      3|         Joanna|      Spennock|jspennock2@redcro...|                 10|        3|     10.99|\n|      7|         Trudey|       Choupin|     tchoupin6@de.vu|                 11|        5|     10.99|\n|      3|         Joanna|      Spennock|jspennock2@redcro...|                 12|        2|      9.99|\n|      5|         Loreen|         Malin|lmalin4@independe...|                 13|        2|      9.99|\n|      4|         Hirsch|       Conaboy|hconaboy3@barnesa...|                 14|        3|     10.99|\n|      8|         Nadine|     Grimsdell|ngrimsdell7@sohu.com|                 15|        2|      9.99|\n+-------+---------------+--------------+--------------------+-------------------+---------+----------+\n\n"
     ]
    }
   ],
   "source": [
    "# BROADCAST JOIN\n",
    "\n",
    "\"\"\"\n",
    "In a broadcast join, the smaller DataFrame is broadcasted to all executors and kept in memory. The larger DataFrame is split and distributed across the executors. This allows for a join without shuffling any data, as the required data is already colocated on each executor.\n",
    "\"\"\"\n",
    "\n",
    "# This threshold says that if the size of the smaller DataFrame is smaller than or equal to this threshold, it will be broadcasted automatically.\n",
    "spark.conf.get('spark.sql.autoBroadcastJoinThreshold')\n",
    "\n",
    "# Broadcast example:\n",
    "broadcast(users_df) \\\n",
    "    .join(course_enrolments_df, 'user_id', \"inner\") \\\n",
    "    .show()"
   ]
  }
 ],
 "metadata": {
  "application/vnd.databricks.v1+notebook": {
   "computePreferences": null,
   "dashboards": [],
   "environmentMetadata": {
    "base_environment": "",
    "environment_version": "2"
   },
   "inputWidgetPreferences": null,
   "language": "python",
   "notebookMetadata": {
    "pythonIndentUnit": 4
   },
   "notebookName": "01 - Joins",
   "widgets": {}
  },
  "language_info": {
   "name": "python"
  }
 },
 "nbformat": 4,
 "nbformat_minor": 0
}