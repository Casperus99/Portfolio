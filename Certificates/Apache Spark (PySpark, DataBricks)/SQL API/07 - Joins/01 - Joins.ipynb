{
 "cells": [
  {
   "cell_type": "code",
   "execution_count": 0,
   "metadata": {
    "application/vnd.databricks.v1+cell": {
     "cellMetadata": {
      "byteLimit": 2048000,
      "rowLimit": 10000
     },
     "inputWidgets": {},
     "nuid": "59adf3d5-301e-4145-808a-77af32625aeb",
     "showTitle": false,
     "tableResultSettingsMap": {},
     "title": ""
    }
   },
   "outputs": [],
   "source": [
    "%run \"./00 - Setup Data Sets\""
   ]
  },
  {
   "cell_type": "code",
   "execution_count": 0,
   "metadata": {
    "application/vnd.databricks.v1+cell": {
     "cellMetadata": {
      "byteLimit": 2048000,
      "rowLimit": 10000
     },
     "inputWidgets": {},
     "nuid": "7ae53cc5-a380-4d90-9a2e-188287247222",
     "showTitle": false,
     "tableResultSettingsMap": {},
     "title": ""
    }
   },
   "outputs": [],
   "source": [
    "from pyspark.sql.functions import *"
   ]
  },
  {
   "cell_type": "code",
   "execution_count": 0,
   "metadata": {
    "application/vnd.databricks.v1+cell": {
     "cellMetadata": {},
     "inputWidgets": {},
     "nuid": "6d821448-f702-4f79-a1d8-6dfd78563b44",
     "showTitle": false,
     "tableResultSettingsMap": {},
     "title": ""
    }
   },
   "outputs": [],
   "source": [
    "# ON <specific conditions>\n",
    "users_df \\\n",
    "    .join(course_enrolments_df, users_df.user_id == course_enrolments_df.user_id, \"inner\") \\\n",
    "    .show()\n",
    "\n",
    "# ON <common columns>\n",
    "# common columns will occur only once in the result table\n",
    "users_df \\\n",
    "    .join(course_enrolments_df, 'user_id', \"inner\") \\\n",
    "    .show()\n",
    "\n",
    "# BROADCAST\n",
    "broadcast(users_df) \\\n",
    "    .join(course_enrolments_df, 'user_id', \"inner\") \\\n",
    "    .show()\n",
    "\n",
    "# JOIN OPTIONS\n",
    "\"\"\"\n",
    "> inner (default)                       INNER JOIN\n",
    "> outer, full, fullouter, full_outer    FULL OUTER JOIN\n",
    "> left, leftouter, left_outer           LEFT JOIN\n",
    "> right, rightouter, right_outer        RIGHT JOIN\n",
    "> anti, leftanti, left_anti             Reutrns leftovers from left table after filtering with right table\n",
    "> semi, leftsemi, left_semi             Filters left table with right table\n",
    "> cross                                 Cartesian (You can also use .crossJoin(<table>))\n",
    "\"\"\""
   ]
  },
  {
   "cell_type": "code",
   "execution_count": 0,
   "metadata": {
    "application/vnd.databricks.v1+cell": {
     "cellMetadata": {},
     "inputWidgets": {},
     "nuid": "a8b54513-74bb-4811-b156-fbf7481d6ff5",
     "showTitle": false,
     "tableResultSettingsMap": {},
     "title": ""
    }
   },
   "outputs": [],
   "source": [
    "# JOIN OPTIONS\n",
    "\n",
    "\"\"\"\n",
    "> inner (default)                       INNER JOIN\n",
    "> outer, full, fullouter, full_outer    FULL OUTER JOIN\n",
    "> left, leftouter, left_outer           LEFT JOIN\n",
    "> right, rightouter, right_outer        RIGHT JOIN\n",
    "> anti, leftanti, left_anti             Reutrns leftovers from left table after filtering with right table\n",
    "> semi, leftsemi, left_semi             Filters left table with right table\n",
    "> cross                                 Cartesian (You can also use .crossJoin(<table>))\n",
    "\"\"\""
   ]
  },
  {
   "cell_type": "code",
   "execution_count": 0,
   "metadata": {
    "application/vnd.databricks.v1+cell": {
     "cellMetadata": {
      "byteLimit": 2048000,
      "rowLimit": 10000
     },
     "inputWidgets": {},
     "nuid": "a8991434-a540-4925-8099-3a4b83d50c5c",
     "showTitle": false,
     "tableResultSettingsMap": {},
     "title": ""
    }
   },
   "outputs": [],
   "source": [
    "# EXAMPLE\n",
    "\n",
    "# ON <specific conditions>\n",
    "users_df \\\n",
    "    .join(course_enrolments_df, users_df.user_id == course_enrolments_df.user_id, \"inner\") \\\n",
    "    .show()\n",
    "\n",
    "# ON <common columns>\n",
    "# common columns will occur only once in the result table\n",
    "users_df \\\n",
    "    .join(course_enrolments_df, 'user_id', \"inner\") \\\n",
    "    .show()"
   ]
  },
  {
   "cell_type": "code",
   "execution_count": 0,
   "metadata": {
    "application/vnd.databricks.v1+cell": {
     "cellMetadata": {
      "byteLimit": 2048000,
      "rowLimit": 10000
     },
     "inputWidgets": {},
     "nuid": "bb634e92-d666-4261-b174-d85f3f38c45e",
     "showTitle": false,
     "tableResultSettingsMap": {},
     "title": ""
    }
   },
   "outputs": [],
   "source": [
    "# ALIAS\n",
    "\n",
    "# We can't use aliases in ON conditions, but we can use it in the next operations:\n",
    "\n",
    "users_df.alias('u') \\\n",
    "    .join(course_enrolments_df.alias('c'), 'user_id') \\\n",
    "    .filter(col('c.course_id') <= lit(3)) \\\n",
    "    .select('c.*', 'u.user_email') \\\n",
    "    .show()"
   ]
  },
  {
   "cell_type": "code",
   "execution_count": 0,
   "metadata": {
    "application/vnd.databricks.v1+cell": {
     "cellMetadata": {
      "byteLimit": 2048000,
      "rowLimit": 10000
     },
     "inputWidgets": {},
     "nuid": "2ecbce78-e40c-4aca-8c32-843a95cb5401",
     "showTitle": false,
     "tableResultSettingsMap": {},
     "title": ""
    }
   },
   "outputs": [],
   "source": [
    "# BROADCAST JOIN\n",
    "\n",
    "\"\"\"\n",
    "In a broadcast join, the smaller DataFrame is broadcasted to all executors and kept in memory. The larger DataFrame is split and distributed across the executors. This allows for a join without shuffling any data, as the required data is already colocated on each executor.\n",
    "\"\"\"\n",
    "\n",
    "# This threshold says that if the size of the smaller DataFrame is smaller than or equal to this threshold, it will be broadcasted automatically.\n",
    "spark.conf.get('spark.sql.autoBroadcastJoinThreshold')\n",
    "\n",
    "# Broadcast example:\n",
    "broadcast(users_df) \\\n",
    "    .join(course_enrolments_df, 'user_id', \"inner\") \\\n",
    "    .show()"
   ]
  }
 ],
 "metadata": {
  "application/vnd.databricks.v1+notebook": {
   "computePreferences": null,
   "dashboards": [],
   "environmentMetadata": {
    "base_environment": "",
    "environment_version": "2"
   },
   "inputWidgetPreferences": null,
   "language": "python",
   "notebookMetadata": {
    "pythonIndentUnit": 4
   },
   "notebookName": "01 - Joins",
   "widgets": {}
  },
  "language_info": {
   "name": "python"
  }
 },
 "nbformat": 4,
 "nbformat_minor": 0
}
