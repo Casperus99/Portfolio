{
 "cells": [
  {
   "cell_type": "code",
   "execution_count": 0,
   "metadata": {
    "application/vnd.databricks.v1+cell": {
     "cellMetadata": {
      "byteLimit": 2048000,
      "rowLimit": 10000
     },
     "inputWidgets": {},
     "nuid": "6f84ae67-a9d0-464b-a2b4-4cbd56b615a6",
     "showTitle": false,
     "tableResultSettingsMap": {},
     "title": ""
    }
   },
   "outputs": [],
   "source": [
    "%run \"./01 - Preparing dataFrame\""
   ]
  },
  {
   "cell_type": "code",
   "execution_count": 0,
   "metadata": {
    "application/vnd.databricks.v1+cell": {
     "cellMetadata": {
      "byteLimit": 2048000,
      "rowLimit": 10000
     },
     "inputWidgets": {},
     "nuid": "f48bdeff-4319-4eab-a8d9-6f443eda6e09",
     "showTitle": false,
     "tableResultSettingsMap": {},
     "title": ""
    }
   },
   "outputs": [],
   "source": [
    "from pyspark.sql.functions import *"
   ]
  },
  {
   "cell_type": "code",
   "execution_count": 0,
   "metadata": {
    "application/vnd.databricks.v1+cell": {
     "cellMetadata": {
      "byteLimit": 2048000,
      "rowLimit": 10000
     },
     "inputWidgets": {},
     "nuid": "17420107-b96b-42f0-9b04-6c5dabef0380",
     "showTitle": false,
     "tableResultSettingsMap": {},
     "title": ""
    }
   },
   "outputs": [],
   "source": [
    "# RENAMING COLUNNS\n",
    "\n",
    "# On top of a data frame:\n",
    "#   .withColumn(col_name, expression)\n",
    "#   .withColumnRenamed(old_col_name, new_col_name)\n",
    "#   .toDF(*new_col_names)\n",
    "\n",
    "# Inside a data frame:\n",
    "#   col().alias(new_col_name)"
   ]
  },
  {
   "cell_type": "code",
   "execution_count": 0,
   "metadata": {
    "application/vnd.databricks.v1+cell": {
     "cellMetadata": {
      "byteLimit": 2048000,
      "rowLimit": 10000
     },
     "inputWidgets": {},
     "nuid": "9763f606-86ed-46f5-a337-d5197e2b61bd",
     "showTitle": false,
     "tableResultSettingsMap": {},
     "title": ""
    }
   },
   "outputs": [],
   "source": [
    "# .withColumn(col_name, expression)\n",
    "\n",
    "users_df \\\n",
    "    .select('id', 'first_name', 'last_name') \\\n",
    "    .withColumn('full_name', concat(col('first_name'), lit(', '), col('last_name'))) \\\n",
    "    .show()"
   ]
  },
  {
   "cell_type": "code",
   "execution_count": 0,
   "metadata": {
    "application/vnd.databricks.v1+cell": {
     "cellMetadata": {
      "byteLimit": 2048000,
      "rowLimit": 10000
     },
     "inputWidgets": {},
     "nuid": "d7397934-a3f1-4623-b5ac-3950bf1981bb",
     "showTitle": false,
     "tableResultSettingsMap": {},
     "title": ""
    }
   },
   "outputs": [],
   "source": [
    "# .withColumn - if you want to create column that already exists, the already existing column will be overwritten\n",
    "\n",
    "users_df \\\n",
    "    .select('id', 'first_name', 'last_name') \\\n",
    "    .withColumn('first_name', col('last_name')) \\\n",
    "    .show()"
   ]
  },
  {
   "cell_type": "code",
   "execution_count": 0,
   "metadata": {
    "application/vnd.databricks.v1+cell": {
     "cellMetadata": {
      "byteLimit": 2048000,
      "rowLimit": 10000
     },
     "inputWidgets": {},
     "nuid": "6141c789-6fbe-4fd9-9eda-7a8527d4fd90",
     "showTitle": false,
     "tableResultSettingsMap": {},
     "title": ""
    }
   },
   "outputs": [],
   "source": [
    "# .withColumnRenamed(old_col_name, new_col_name)\n",
    "\n",
    "users_df \\\n",
    "    .select('id', 'first_name', 'last_name') \\\n",
    "    .withColumnRenamed('id', 'user_id') \\\n",
    "    .withColumnRenamed('first_name', 'user_first_name') \\\n",
    "    .show()"
   ]
  },
  {
   "cell_type": "code",
   "execution_count": 0,
   "metadata": {
    "application/vnd.databricks.v1+cell": {
     "cellMetadata": {
      "byteLimit": 2048000,
      "rowLimit": 10000
     },
     "inputWidgets": {},
     "nuid": "13fab80f-531e-416b-be93-d036603728a9",
     "showTitle": false,
     "tableResultSettingsMap": {},
     "title": ""
    }
   },
   "outputs": [],
   "source": [
    "# .toDF(*new_col_names)\n",
    "\n",
    "original_col_names = ['id', 'first_name', 'last_name']\n",
    "target_col_names = ['user_id', 'user_first_name', 'user_last_name']\n",
    "\n",
    "users_df \\\n",
    "    .select(original_col_names) \\\n",
    "    .toDF(*target_col_names) \\\n",
    "    .show()"
   ]
  },
  {
   "cell_type": "code",
   "execution_count": 0,
   "metadata": {
    "application/vnd.databricks.v1+cell": {
     "cellMetadata": {
      "byteLimit": 2048000,
      "rowLimit": 10000
     },
     "inputWidgets": {},
     "nuid": "03a22616-da4e-4cf0-82c6-d9822066faee",
     "showTitle": false,
     "tableResultSettingsMap": {},
     "title": ""
    }
   },
   "outputs": [],
   "source": [
    "# col().alias(new_col_name)\n",
    "\n",
    "users_df \\\n",
    "    .select('id', 'first_name', 'last_name',\n",
    "    concat(col('first_name'), lit(', '), col('last_name')).alias('full_name')\n",
    "    ).show()"
   ]
  }
 ],
 "metadata": {
  "application/vnd.databricks.v1+notebook": {
   "computePreferences": null,
   "dashboards": [],
   "environmentMetadata": {
    "base_environment": "",
    "environment_version": "2"
   },
   "inputWidgetPreferences": null,
   "language": "python",
   "notebookMetadata": {
    "pythonIndentUnit": 4
   },
   "notebookName": "05 - Overview of Renaming Columns",
   "widgets": {}
  },
  "language_info": {
   "name": "python"
  }
 },
 "nbformat": 4,
 "nbformat_minor": 0
}
