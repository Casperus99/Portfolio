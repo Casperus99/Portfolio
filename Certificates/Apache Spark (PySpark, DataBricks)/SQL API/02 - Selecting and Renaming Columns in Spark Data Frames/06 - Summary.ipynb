{
 "cells": [
  {
   "cell_type": "code",
   "execution_count": 0,
   "metadata": {
    "application/vnd.databricks.v1+cell": {
     "cellMetadata": {
      "byteLimit": 2048000,
      "rowLimit": 10000
     },
     "inputWidgets": {},
     "nuid": "1206b6fb-44f2-4a14-a8ea-ee7d880fef2e",
     "showTitle": false,
     "tableResultSettingsMap": {},
     "title": ""
    }
   },
   "outputs": [],
   "source": [
    "%run \"./01 - Preparing dataFrame\""
   ]
  },
  {
   "cell_type": "code",
   "execution_count": 0,
   "metadata": {
    "application/vnd.databricks.v1+cell": {
     "cellMetadata": {
      "byteLimit": 2048000,
      "rowLimit": 10000
     },
     "inputWidgets": {},
     "nuid": "4dfeb830-c8c5-4f12-98e2-8207a9ee7676",
     "showTitle": false,
     "tableResultSettingsMap": {},
     "title": ""
    }
   },
   "outputs": [],
   "source": [
    "from pyspark.sql.functions import *"
   ]
  },
  {
   "cell_type": "code",
   "execution_count": 0,
   "metadata": {
    "application/vnd.databricks.v1+cell": {
     "cellMetadata": {},
     "inputWidgets": {},
     "nuid": "a61d2a98-871c-444c-97a9-539b623a79fd",
     "showTitle": false,
     "tableResultSettingsMap": {},
     "title": ""
    }
   },
   "outputs": [],
   "source": [
    "# DIFFERENT WAYS OF SELECTING COLUMNS\n",
    "\n",
    "# .select()\n",
    "users_df.select('*')\n",
    "users_df.select('id', 'first_name', 'last_name')\n",
    "users_df.select(col('id'), concat(col('first_name'), lit(', '), col('last_name')).alias('full_name'))\n",
    "\n",
    "# .selectExpr() - it's just like .select() but you can use SQL expressions\n",
    "users_df.selectExpr('id', \"CONCAT(first_name, ', ', last_name) AS full_name\")\n",
    "\n",
    "# spark.sql() - typical SQL query\n",
    "spark.sql(\"\"\"\n",
    "    SELECT\n",
    "        id,\n",
    "        CONCAT(first_name, ', ', last_name) AS full_name\n",
    "    FROM\n",
    "        users\n",
    "\"\"\")"
   ]
  },
  {
   "cell_type": "code",
   "execution_count": 0,
   "metadata": {
    "application/vnd.databricks.v1+cell": {
     "cellMetadata": {},
     "inputWidgets": {},
     "nuid": "487c2a80-700f-4430-b22e-10163e05c5a0",
     "showTitle": false,
     "tableResultSettingsMap": {},
     "title": ""
    }
   },
   "outputs": [],
   "source": [
    "# lit() - creates a Column of literal value.\n",
    "# Allows us to modify values of a column in .select()\n",
    "\n",
    "users_df.select('id', col('amount_paid') + lit(25)).show()"
   ]
  },
  {
   "cell_type": "code",
   "execution_count": 0,
   "metadata": {
    "application/vnd.databricks.v1+cell": {
     "cellMetadata": {},
     "inputWidgets": {},
     "nuid": "251c1c0b-b82a-4c31-8904-1c9a3a1ab8ef",
     "showTitle": false,
     "tableResultSettingsMap": {},
     "title": ""
    }
   },
   "outputs": [],
   "source": [
    "# RENAMING COLUNNS\n",
    "\n",
    "# On top of a data frame:\n",
    "#   .withColumn(col_name, expression)\n",
    "#   .withColumnRenamed(old_col_name, new_col_name)\n",
    "#   .toDF(*new_col_names)\n",
    "\n",
    "# Inside a data frame:\n",
    "#   col().alias(new_col_name)\n",
    "\n",
    "# E.x.\n",
    "users_df \\\n",
    "    .select('id', 'first_name', 'last_name') \\\n",
    "    .withColumn('full_name', concat(col('first_name'), lit(', '), col('last_name'))) \\\n",
    "    .show()"
   ]
  }
 ],
 "metadata": {
  "application/vnd.databricks.v1+notebook": {
   "computePreferences": null,
   "dashboards": [],
   "environmentMetadata": {
    "base_environment": "",
    "environment_version": "2"
   },
   "inputWidgetPreferences": null,
   "language": "python",
   "notebookMetadata": {
    "pythonIndentUnit": 4
   },
   "notebookName": "06 - Summary",
   "widgets": {}
  },
  "language_info": {
   "name": "python"
  }
 },
 "nbformat": 4,
 "nbformat_minor": 0
}
