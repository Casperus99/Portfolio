{
 "cells": [
  {
   "cell_type": "code",
   "execution_count": 0,
   "metadata": {
    "application/vnd.databricks.v1+cell": {
     "cellMetadata": {
      "byteLimit": 2048000,
      "rowLimit": 10000
     },
     "inputWidgets": {},
     "nuid": "0955b2fa-529a-4120-bbad-15b3c28f1671",
     "showTitle": false,
     "tableResultSettingsMap": {},
     "title": ""
    }
   },
   "outputs": [],
   "source": [
    "orders = spark.read.csv(\n",
    "    '/public/retail_db/orders',\n",
    "    schema='order_id INT, order_date STRING, order_customer_id INT, order_status STRING'\n",
    ")\n",
    "df = orders.select('order_id').filter('order_id = 1')\n",
    "datetimes = [(\"2014-02-28\", \"2014-02-28 10:00:00.123\"),\n",
    "                     (\"2016-02-29\", \"2016-02-29 08:08:08.999\"),\n",
    "                     (\"2017-10-31\", \"2017-12-31 11:59:59.123\"),\n",
    "                     (\"2019-11-30\", \"2019-08-31 00:00:00.000\")\n",
    "                ]\n",
    "datetimesDF = spark.createDataFrame(datetimes, schema=\"date STRING, time STRING\")\n",
    "from pyspark.sql.functions import *"
   ]
  },
  {
   "cell_type": "code",
   "execution_count": 0,
   "metadata": {
    "application/vnd.databricks.v1+cell": {
     "cellMetadata": {
      "byteLimit": 2048000,
      "rowLimit": 10000
     },
     "inputWidgets": {},
     "nuid": "b9601ad5-866d-4826-8826-1c5c77201483",
     "showTitle": false,
     "tableResultSettingsMap": {},
     "title": ""
    }
   },
   "outputs": [
    {
     "output_type": "stream",
     "name": "stdout",
     "output_type": "stream",
     "text": [
      "+----------------------+\n|current_timestamp()   |\n+----------------------+\n|2025-04-18 17:53:58.27|\n+----------------------+\n\n+--------------+\n|current_date()|\n+--------------+\n|2025-04-18    |\n+--------------+\n\n"
     ]
    }
   ],
   "source": [
    "# current_timestamp(), current_date()\n",
    "\n",
    "df.select(current_timestamp()).show(truncate=False)\n",
    "df.select(current_date()).show(truncate=False)"
   ]
  },
  {
   "cell_type": "code",
   "execution_count": 0,
   "metadata": {
    "application/vnd.databricks.v1+cell": {
     "cellMetadata": {
      "byteLimit": 2048000,
      "rowLimit": 10000
     },
     "inputWidgets": {},
     "nuid": "25f51eb3-f110-4298-a3bb-b26ba26bbbcd",
     "showTitle": false,
     "tableResultSettingsMap": {},
     "title": ""
    }
   },
   "outputs": [
    {
     "output_type": "stream",
     "name": "stdout",
     "output_type": "stream",
     "text": [
      "+----------+\n|   to_date|\n+----------+\n|2025-04-18|\n+----------+\n\n+-------------------+\n|       to_timestamp|\n+-------------------+\n|2025-04-18 19:40:00|\n+-------------------+\n\n"
     ]
    }
   ],
   "source": [
    "# to_date(), to_timestamp() - converts strings to dates/timestamps\n",
    "# Very convienient. We can provide strings in almost any format.\n",
    "\n",
    "df.select(to_date(lit('20250418'), 'yyyyMMdd').alias('to_date')).show()\n",
    "df.select(to_timestamp(lit('20250418: 1940'), 'yyyyMMdd: HHmm').alias('to_timestamp')).show()"
   ]
  },
  {
   "cell_type": "code",
   "execution_count": 0,
   "metadata": {
    "application/vnd.databricks.v1+cell": {
     "cellMetadata": {
      "byteLimit": 2048000,
      "rowLimit": 10000
     },
     "inputWidgets": {},
     "nuid": "8e57156d-3a99-440d-b86b-4ee732c237b9",
     "showTitle": false,
     "tableResultSettingsMap": {},
     "title": ""
    }
   },
   "outputs": [
    {
     "output_type": "stream",
     "name": "stdout",
     "output_type": "stream",
     "text": [
      "+----------+-------------+-------------+----------------+-------------+-------------------+\n|      date|date_add_date|date_sub_date|date_months_date|datediff_date|months_between_date|\n+----------+-------------+-------------+----------------+-------------+-------------------+\n|2014-02-28|   2014-03-10|   2014-02-18|      2014-12-28|         4067|       133.67741935|\n|2016-02-29|   2016-03-10|   2016-02-19|      2016-12-29|         3336|       109.64516129|\n|2017-10-31|   2017-11-10|   2017-10-21|      2018-08-31|         2726|        89.58064516|\n|2019-11-30|   2019-12-10|   2019-11-20|      2020-09-30|         1966|        64.61290323|\n+----------+-------------+-------------+----------------+-------------+-------------------+\n\n"
     ]
    }
   ],
   "source": [
    "# Arithmetic functions\n",
    "\n",
    "datetimesDF \\\n",
    "    .withColumn(\"date_add_date\", date_add(\"date\", 10)) \\\n",
    "    .withColumn(\"date_sub_date\", date_sub(\"date\", 10)) \\\n",
    "    .withColumn(\"date_months_date\", add_months(\"date\", 10)) \\\n",
    "    .withColumn(\"datediff_date\", datediff(current_date(), \"date\")) \\\n",
    "    .withColumn(\"months_between_date\", months_between(current_date(), \"date\")) \\\n",
    "    .show()"
   ]
  },
  {
   "cell_type": "code",
   "execution_count": 0,
   "metadata": {
    "application/vnd.databricks.v1+cell": {
     "cellMetadata": {
      "byteLimit": 2048000,
      "rowLimit": 10000
     },
     "inputWidgets": {},
     "nuid": "aea9673e-c2e4-45cd-9e5f-f8fcde288fc9",
     "showTitle": false,
     "tableResultSettingsMap": {},
     "title": ""
    }
   },
   "outputs": [
    {
     "output_type": "stream",
     "name": "stdout",
     "output_type": "stream",
     "text": [
      "+----------+--------------------+-----------------------+----------------------+-----------------------+-------------------------+\n|      date|                time|date_first_day_of_month|date_first_day_of_year|time_first_day_of_month|time_first_minute_of_hour|\n+----------+--------------------+-----------------------+----------------------+-----------------------+-------------------------+\n|2014-02-28|2014-02-28 10:00:...|             2014-02-01|            2014-01-01|    2014-02-01 00:00:00|      2014-02-28 10:00:00|\n|2016-02-29|2016-02-29 08:08:...|             2016-02-01|            2016-01-01|    2016-02-01 00:00:00|      2016-02-29 08:08:00|\n|2017-10-31|2017-12-31 11:59:...|             2017-10-01|            2017-01-01|    2017-12-01 00:00:00|      2017-12-31 11:59:00|\n|2019-11-30|2019-08-31 00:00:...|             2019-11-01|            2019-01-01|    2019-08-01 00:00:00|      2019-08-31 00:00:00|\n+----------+--------------------+-----------------------+----------------------+-----------------------+-------------------------+\n\n"
     ]
    }
   ],
   "source": [
    "# Trunc functions (getting beggining of month, year, hour, minute)\n",
    "# trunc() - date as input and date as output\n",
    "# date_trunc() - timestamp as input and timestamp as output, but you can also trunc by day and month etc.\n",
    "\n",
    "datetimesDF \\\n",
    "    .withColumn(\"date_first_day_of_month\", trunc(\"date\", \"MM\")) \\\n",
    "    .withColumn(\"date_first_day_of_year\", trunc(\"date\", \"yy\")) \\\n",
    "    .withColumn(\"time_first_day_of_month\", date_trunc(\"MM\", \"time\")) \\\n",
    "    .withColumn(\"time_first_minute_of_hour\", date_trunc(\"minute\", \"time\")) \\\n",
    "    .show()"
   ]
  },
  {
   "cell_type": "code",
   "execution_count": 0,
   "metadata": {
    "application/vnd.databricks.v1+cell": {
     "cellMetadata": {
      "byteLimit": 2048000,
      "rowLimit": 10000
     },
     "inputWidgets": {},
     "nuid": "e2def83d-0934-46d6-82c2-5a8241191955",
     "showTitle": false,
     "tableResultSettingsMap": {},
     "title": ""
    }
   },
   "outputs": [
    {
     "output_type": "stream",
     "name": "stdout",
     "output_type": "stream",
     "text": [
      "+------------+----+-----+----------+---------+----------+---------+\n|current_date|year|month|weekofyear|dayofyear|dayofmonth|dayofweek|\n+------------+----+-----+----------+---------+----------+---------+\n|  2025-04-18|2025|    4|        16|      108|        18|        6|\n+------------+----+-----+----------+---------+----------+---------+\n\n"
     ]
    }
   ],
   "source": [
    "# Extract functions\n",
    "\n",
    "df.select(\n",
    "    current_date().alias('current_date'), \n",
    "    year(current_date()).alias('year'),\n",
    "    month(current_date()).alias('month'),\n",
    "    weekofyear(current_date()).alias('weekofyear'),\n",
    "    dayofyear(current_date()).alias('dayofyear'),\n",
    "    dayofmonth(current_date()).alias('dayofmonth'),\n",
    "    dayofweek(current_date()).alias('dayofweek')\n",
    ").show() #yyyy-MM-dd"
   ]
  },
  {
   "cell_type": "code",
   "execution_count": 0,
   "metadata": {
    "application/vnd.databricks.v1+cell": {
     "cellMetadata": {
      "byteLimit": 2048000,
      "rowLimit": 10000
     },
     "inputWidgets": {},
     "nuid": "7606d462-62ba-4666-b605-965716d03c02",
     "showTitle": false,
     "tableResultSettingsMap": {},
     "title": ""
    }
   },
   "outputs": [
    {
     "output_type": "stream",
     "name": "stdout",
     "output_type": "stream",
     "text": [
      "+----------+-----------------------+-------+-------+----------------+-----------------+\n|date      |time                   |date_ym|time_ym|date_dt         |date_ts          |\n+----------+-----------------------+-------+-------+----------------+-----------------+\n|2014-02-28|2014-02-28 10:00:00.123|2014_02|201402 |20140228::000000|20140228 10\\00-00|\n|2016-02-29|2016-02-29 08:08:08.999|2016_02|201602 |20160229::000000|20160229 08\\08-08|\n|2017-10-31|2017-12-31 11:59:59.123|2017_10|201712 |20171031::000000|20171231 11\\59-59|\n|2019-11-30|2019-08-31 00:00:00.000|2019_11|201908 |20191130::000000|20190831 00\\00-00|\n+----------+-----------------------+-------+-------+----------------+-----------------+\n\n"
     ]
    }
   ],
   "source": [
    "# date_format()\n",
    "# Convienient way to change format of dates\n",
    "\n",
    "datetimesDF \\\n",
    "    .withColumn(\"date_ym\", date_format(\"date\", \"yyyy_MM\")) \\\n",
    "    .withColumn(\"time_ym\", date_format(\"time\", \"yyyyMM\")) \\\n",
    "    .withColumn(\"date_dt\", date_format(\"date\", \"yyyyMMdd::HHmmss\")) \\\n",
    "    .withColumn(\"date_ts\", date_format(\"time\", \"yyyyMMdd HH\\mm-ss\")) \\\n",
    "    .show(truncate=False)"
   ]
  }
 ],
 "metadata": {
  "application/vnd.databricks.v1+notebook": {
   "computePreferences": null,
   "dashboards": [],
   "environmentMetadata": {
    "base_environment": "",
    "environment_version": "2"
   },
   "inputWidgetPreferences": null,
   "language": "python",
   "notebookMetadata": {
    "pythonIndentUnit": 4
   },
   "notebookName": "03 - Date and Time Manipulation Functions",
   "widgets": {}
  },
  "language_info": {
   "name": "python"
  }
 },
 "nbformat": 4,
 "nbformat_minor": 0
}