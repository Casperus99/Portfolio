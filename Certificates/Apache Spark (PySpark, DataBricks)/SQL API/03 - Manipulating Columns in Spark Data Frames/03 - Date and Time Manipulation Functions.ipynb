{
 "cells": [
  {
   "cell_type": "code",
   "execution_count": 0,
   "metadata": {
    "application/vnd.databricks.v1+cell": {
     "cellMetadata": {
      "byteLimit": 2048000,
      "rowLimit": 10000
     },
     "inputWidgets": {},
     "nuid": "0955b2fa-529a-4120-bbad-15b3c28f1671",
     "showTitle": false,
     "tableResultSettingsMap": {},
     "title": ""
    }
   },
   "outputs": [],
   "source": [
    "orders = spark.read.csv(\n",
    "    '/public/retail_db/orders',\n",
    "    schema='order_id INT, order_date STRING, order_customer_id INT, order_status STRING'\n",
    ")\n",
    "df = orders.select('order_id').filter('order_id = 1')\n",
    "datetimes = [(\"2014-02-28\", \"2014-02-28 10:00:00.123\"),\n",
    "                     (\"2016-02-29\", \"2016-02-29 08:08:08.999\"),\n",
    "                     (\"2017-10-31\", \"2017-12-31 11:59:59.123\"),\n",
    "                     (\"2019-11-30\", \"2019-08-31 00:00:00.000\")\n",
    "                ]\n",
    "datetimesDF = spark.createDataFrame(datetimes, schema=\"date STRING, time STRING\")\n",
    "from pyspark.sql.functions import *"
   ]
  },
  {
   "cell_type": "code",
   "execution_count": 0,
   "metadata": {
    "application/vnd.databricks.v1+cell": {
     "cellMetadata": {
      "byteLimit": 2048000,
      "rowLimit": 10000
     },
     "inputWidgets": {},
     "nuid": "b9601ad5-866d-4826-8826-1c5c77201483",
     "showTitle": false,
     "tableResultSettingsMap": {},
     "title": ""
    }
   },
   "outputs": [],
   "source": [
    "# current_timestamp(), current_date()\n",
    "\n",
    "df.select(current_timestamp()).show(truncate=False)\n",
    "df.select(current_date()).show(truncate=False)"
   ]
  },
  {
   "cell_type": "code",
   "execution_count": 0,
   "metadata": {
    "application/vnd.databricks.v1+cell": {
     "cellMetadata": {
      "byteLimit": 2048000,
      "rowLimit": 10000
     },
     "inputWidgets": {},
     "nuid": "25f51eb3-f110-4298-a3bb-b26ba26bbbcd",
     "showTitle": false,
     "tableResultSettingsMap": {},
     "title": ""
    }
   },
   "outputs": [],
   "source": [
    "# to_date(), to_timestamp() - converts strings to dates/timestamps\n",
    "# Very convienient. We can provide strings in almost any format.\n",
    "\n",
    "df.select(to_date(lit('20250418'), 'yyyyMMdd').alias('to_date')).show()\n",
    "df.select(to_timestamp(lit('20250418: 1940'), 'yyyyMMdd: HHmm').alias('to_timestamp')).show()"
   ]
  },
  {
   "cell_type": "code",
   "execution_count": 0,
   "metadata": {
    "application/vnd.databricks.v1+cell": {
     "cellMetadata": {
      "byteLimit": 2048000,
      "rowLimit": 10000
     },
     "inputWidgets": {},
     "nuid": "8e57156d-3a99-440d-b86b-4ee732c237b9",
     "showTitle": false,
     "tableResultSettingsMap": {},
     "title": ""
    }
   },
   "outputs": [],
   "source": [
    "# Arithmetic functions\n",
    "\n",
    "datetimesDF \\\n",
    "    .withColumn(\"date_add_date\", date_add(\"date\", 10)) \\\n",
    "    .withColumn(\"date_sub_date\", date_sub(\"date\", 10)) \\\n",
    "    .withColumn(\"date_months_date\", add_months(\"date\", 10)) \\\n",
    "    .withColumn(\"datediff_date\", datediff(current_date(), \"date\")) \\\n",
    "    .withColumn(\"months_between_date\", months_between(current_date(), \"date\")) \\\n",
    "    .show()"
   ]
  },
  {
   "cell_type": "code",
   "execution_count": 0,
   "metadata": {
    "application/vnd.databricks.v1+cell": {
     "cellMetadata": {
      "byteLimit": 2048000,
      "rowLimit": 10000
     },
     "inputWidgets": {},
     "nuid": "aea9673e-c2e4-45cd-9e5f-f8fcde288fc9",
     "showTitle": false,
     "tableResultSettingsMap": {},
     "title": ""
    }
   },
   "outputs": [],
   "source": [
    "# Trunc functions (getting beggining of month, year, hour, minute)\n",
    "# trunc() - date as input and date as output\n",
    "# date_trunc() - timestamp as input and timestamp as output, but you can also trunc by day and month etc.\n",
    "\n",
    "datetimesDF \\\n",
    "    .withColumn(\"date_first_day_of_month\", trunc(\"date\", \"MM\")) \\\n",
    "    .withColumn(\"date_first_day_of_year\", trunc(\"date\", \"yy\")) \\\n",
    "    .withColumn(\"time_first_day_of_month\", date_trunc(\"MM\", \"time\")) \\\n",
    "    .withColumn(\"time_first_minute_of_hour\", date_trunc(\"minute\", \"time\")) \\\n",
    "    .show()"
   ]
  },
  {
   "cell_type": "code",
   "execution_count": 0,
   "metadata": {
    "application/vnd.databricks.v1+cell": {
     "cellMetadata": {
      "byteLimit": 2048000,
      "rowLimit": 10000
     },
     "inputWidgets": {},
     "nuid": "e2def83d-0934-46d6-82c2-5a8241191955",
     "showTitle": false,
     "tableResultSettingsMap": {},
     "title": ""
    }
   },
   "outputs": [],
   "source": [
    "# Extract functions\n",
    "\n",
    "df.select(\n",
    "    current_date().alias('current_date'), \n",
    "    year(current_date()).alias('year'),\n",
    "    month(current_date()).alias('month'),\n",
    "    weekofyear(current_date()).alias('weekofyear'),\n",
    "    dayofyear(current_date()).alias('dayofyear'),\n",
    "    dayofmonth(current_date()).alias('dayofmonth'),\n",
    "    dayofweek(current_date()).alias('dayofweek')\n",
    ").show() #yyyy-MM-dd"
   ]
  },
  {
   "cell_type": "code",
   "execution_count": 0,
   "metadata": {
    "application/vnd.databricks.v1+cell": {
     "cellMetadata": {
      "byteLimit": 2048000,
      "rowLimit": 10000
     },
     "inputWidgets": {},
     "nuid": "7606d462-62ba-4666-b605-965716d03c02",
     "showTitle": false,
     "tableResultSettingsMap": {},
     "title": ""
    }
   },
   "outputs": [],
   "source": [
    "# date_format()\n",
    "# Convienient way to change format of dates\n",
    "\n",
    "datetimesDF \\\n",
    "    .withColumn(\"date_ym\", date_format(\"date\", \"yyyy_MM\")) \\\n",
    "    .withColumn(\"time_ym\", date_format(\"time\", \"yyyyMM\")) \\\n",
    "    .withColumn(\"date_dt\", date_format(\"date\", \"yyyyMMdd::HHmmss\")) \\\n",
    "    .withColumn(\"date_ts\", date_format(\"time\", \"yyyyMMdd HH\\mm-ss\")) \\\n",
    "    .show(truncate=False)"
   ]
  }
 ],
 "metadata": {
  "application/vnd.databricks.v1+notebook": {
   "computePreferences": null,
   "dashboards": [],
   "environmentMetadata": {
    "base_environment": "",
    "environment_version": "2"
   },
   "inputWidgetPreferences": null,
   "language": "python",
   "notebookMetadata": {
    "pythonIndentUnit": 4
   },
   "notebookName": "03 - Date and Time Manipulation Functions",
   "widgets": {}
  },
  "language_info": {
   "name": "python"
  }
 },
 "nbformat": 4,
 "nbformat_minor": 0
}
