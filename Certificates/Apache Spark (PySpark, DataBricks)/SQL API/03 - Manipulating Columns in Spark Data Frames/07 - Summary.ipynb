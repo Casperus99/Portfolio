{
 "cells": [
  {
   "cell_type": "markdown",
   "metadata": {
    "application/vnd.databricks.v1+cell": {
     "cellMetadata": {},
     "inputWidgets": {},
     "nuid": "d2122133-673e-4b8d-8c9c-a2bee3d49e2e",
     "showTitle": false,
     "tableResultSettingsMap": {},
     "title": ""
    }
   },
   "source": [
    "* ### String Manipulation Functions\n",
    "  * Case Conversion - `lower`,  `upper`\n",
    "  * Getting Length -  `length`\n",
    "  * Extracting substrings - `substring`, `split`\n",
    "  * Trimming - `trim`, `ltrim`, `rtrim`\n",
    "  * Padding - `lpad`, `rpad`\n",
    "  * Concatenating string - `concat`, `concat_ws`\n",
    "* ### Date Manipulation Functions\n",
    "  * Getting current date and time - `current_date`, `current_timestamp`\n",
    "  * Date Arithmetic - `date_add`, `date_sub`, `datediff`, `months_between`, `add_months`, `next_day`\n",
    "  * Beginning and Ending Date or Time - `last_day`, `trunc`, `date_trunc`\n",
    "  * Formatting Date - `date_format`\n",
    "  * Extracting Information - `dayofyear`, `dayofmonth`, `dayofweek`, `year`, `month`\n",
    "* ### Aggregate Functions\n",
    "  * `count`, `countDistinct`\n",
    "  * `sum`, `avg`\n",
    "  * `min`, `max`\n",
    "* ### Other Functions\n",
    "  * `CASE` and `WHEN`\n",
    "  * `CAST` for type casting\n",
    "  * Functions to manage special types such as `ARRAY`, `MAP`, `STRUCT` type columns\n",
    "  * Many others"
   ]
  },
  {
   "cell_type": "code",
   "execution_count": 0,
   "metadata": {
    "application/vnd.databricks.v1+cell": {
     "cellMetadata": {},
     "inputWidgets": {},
     "nuid": "176130f9-488d-4ff9-926b-7d77dc97867c",
     "showTitle": false,
     "tableResultSettingsMap": {},
     "title": ""
    }
   },
   "outputs": [],
   "source": [
    "# DATE FUNCTIONS\n",
    "\n",
    "# to_date(), to_timestamp() - converts strings to dates/timestamps\n",
    "# Very convienient. We can provide strings in almost any format.\n",
    "df.select(to_date(lit('20250418'), 'yyyyMMdd').alias('to_date')).show()\n",
    "df.select(to_timestamp(lit('20250418: 1940'), 'yyyyMMdd: HHmm').alias('to_timestamp')).show()\n",
    "\n",
    "\n",
    "# date_format()\n",
    "# Convienient way to change format of dates\n",
    "datetimesDF \\\n",
    "    .withColumn(\"date_ym\", date_format(\"date\", \"yyyy_MM\")) \\\n",
    "    .withColumn(\"time_ym\", date_format(\"time\", \"yyyyMM\")) \\\n",
    "    .withColumn(\"date_dt\", date_format(\"date\", \"yyyyMMdd::HHmmss\")) \\\n",
    "    .withColumn(\"date_ts\", date_format(\"time\", \"yyyyMMdd HH\\mm-ss\")) \\\n",
    "    .show(truncate=False)"
   ]
  },
  {
   "cell_type": "code",
   "execution_count": 0,
   "metadata": {
    "application/vnd.databricks.v1+cell": {
     "cellMetadata": {},
     "inputWidgets": {},
     "nuid": "06bb4243-dd3b-46e4-9312-0f939cf24881",
     "showTitle": false,
     "tableResultSettingsMap": {},
     "title": ""
    }
   },
   "outputs": [],
   "source": [
    "# FILLING NULL VALUES\n",
    "\n",
    "employeesDF.fillna(0.0).show()  # All floats\n",
    "employeesDF.na.fill('Empty').show()  # All strings\n",
    "employeesDF.na.fill('Empty', 'last_name').na.fill(0.0, 'salary').show()  # Specific strings and floats"
   ]
  },
  {
   "cell_type": "code",
   "execution_count": 0,
   "metadata": {
    "application/vnd.databricks.v1+cell": {
     "cellMetadata": {},
     "inputWidgets": {},
     "nuid": "c6beb139-c19f-4442-8f0f-e36776b11236",
     "showTitle": false,
     "tableResultSettingsMap": {},
     "title": ""
    }
   },
   "outputs": [],
   "source": [
    "# CASE/WHEN\n",
    "\n",
    "employeesDF. \\\n",
    "    withColumn(\n",
    "        'bonus', \n",
    "        expr(\"\"\"\n",
    "            CASE WHEN bonus IS NULL OR bonus = '' THEN 0\n",
    "            ELSE bonus\n",
    "            END\n",
    "            \"\"\")\n",
    "    ). \\\n",
    "    show()\n",
    "\n",
    "employeesDF. \\\n",
    "    withColumn(\n",
    "        'bonus',\n",
    "        when((col('bonus').isNull()) | (col('bonus') == lit('')), 0).otherwise(col('bonus'))\n",
    "    ). \\\n",
    "    show()"
   ]
  },
  {
   "cell_type": "code",
   "execution_count": 0,
   "metadata": {
    "application/vnd.databricks.v1+cell": {
     "cellMetadata": {},
     "inputWidgets": {},
     "nuid": "476558f2-10e1-4e1d-a9fd-c32429a70018",
     "showTitle": false,
     "tableResultSettingsMap": {},
     "title": ""
    }
   },
   "outputs": [],
   "source": [
    "# DROPPING COLUMNS\n",
    "\n",
    "orders.drop(\"order_status\")\n",
    "\n",
    "cols_to_drop = [col('order_id'), col('order_date')]\n",
    "orders.drop(*cols_to_drop)\n",
    "\n",
    "\n",
    "# DROPPING ROWS\n",
    "\n",
    "orders.distinct()\n",
    "orders.dropDuplicates(['order_date', 'order_customer_id'])\n",
    "\n",
    "orders.na.drop(how='any', thresh=3, subset=['order_date', 'order_customer_id'])"
   ]
  }
 ],
 "metadata": {
  "application/vnd.databricks.v1+notebook": {
   "computePreferences": null,
   "dashboards": [],
   "environmentMetadata": {
    "base_environment": "",
    "environment_version": "2"
   },
   "inputWidgetPreferences": null,
   "language": "python",
   "notebookMetadata": {
    "pythonIndentUnit": 4
   },
   "notebookName": "07 - Summary",
   "widgets": {}
  },
  "language_info": {
   "name": "python"
  }
 },
 "nbformat": 4,
 "nbformat_minor": 0
}
