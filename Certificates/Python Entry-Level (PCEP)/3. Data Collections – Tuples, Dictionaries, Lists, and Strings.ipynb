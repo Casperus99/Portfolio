{
 "cells": [
  {
   "cell_type": "markdown",
   "metadata": {},
   "source": [
    "# **Section 3**: Data Collections – Tuples, Dictionaries, Lists, and Strings (25%)"
   ]
  },
  {
   "cell_type": "markdown",
   "metadata": {},
   "source": [
    "## 3.1  Collect and process data using lists"
   ]
  },
  {
   "cell_type": "markdown",
   "metadata": {},
   "source": [
    "- **constructing vectors**"
   ]
  },
  {
   "cell_type": "code",
   "execution_count": 4,
   "metadata": {},
   "outputs": [
    {
     "data": {
      "text/plain": [
       "[1, 2, 3]"
      ]
     },
     "execution_count": 4,
     "metadata": {},
     "output_type": "execute_result"
    }
   ],
   "source": [
    "# list - container class, which can contain many values of different data types \n",
    "[1, 2, 3]"
   ]
  },
  {
   "cell_type": "code",
   "execution_count": 2,
   "metadata": {},
   "outputs": [
    {
     "data": {
      "text/plain": [
       "list"
      ]
     },
     "execution_count": 2,
     "metadata": {},
     "output_type": "execute_result"
    }
   ],
   "source": [
    "type([1,'abc', 52.2])"
   ]
  },
  {
   "cell_type": "code",
   "execution_count": 3,
   "metadata": {},
   "outputs": [
    {
     "data": {
      "text/plain": [
       "[]"
      ]
     },
     "execution_count": 3,
     "metadata": {},
     "output_type": "execute_result"
    }
   ],
   "source": [
    "[]"
   ]
  },
  {
   "cell_type": "markdown",
   "metadata": {},
   "source": [
    "- **indexing and slicing**"
   ]
  },
  {
   "cell_type": "code",
   "execution_count": 6,
   "metadata": {},
   "outputs": [
    {
     "data": {
      "text/plain": [
       "'b'"
      ]
     },
     "execution_count": 6,
     "metadata": {},
     "output_type": "execute_result"
    }
   ],
   "source": [
    "\"\"\"Containers can be indexed which means that every element has its own unique index.\n",
    "We can use them to get specific values from a list.\"\"\"\n",
    "a_list = ['a', 'b', 'c']\n",
    "a_list[1]"
   ]
  },
  {
   "cell_type": "code",
   "execution_count": 17,
   "metadata": {},
   "outputs": [
    {
     "data": {
      "text/plain": [
       "'c'"
      ]
     },
     "execution_count": 17,
     "metadata": {},
     "output_type": "execute_result"
    }
   ],
   "source": [
    "# We can use index number relative to the end of a container\n",
    "a_list = ['a', 'b', 'c']\n",
    "a_list[-1]"
   ]
  },
  {
   "cell_type": "code",
   "execution_count": 11,
   "metadata": {},
   "outputs": [
    {
     "data": {
      "text/plain": [
       "['b', 'c', 'd']"
      ]
     },
     "execution_count": 11,
     "metadata": {},
     "output_type": "execute_result"
    }
   ],
   "source": [
    "# It is also possible to get specific range of indexes (slicing)\n",
    "a_list = ['a', 'b', 'c', 'd', 'e']\n",
    "a_list[1:4]"
   ]
  },
  {
   "cell_type": "code",
   "execution_count": 18,
   "metadata": {},
   "outputs": [
    {
     "data": {
      "text/plain": [
       "['b', 'd', 'f']"
      ]
     },
     "execution_count": 18,
     "metadata": {},
     "output_type": "execute_result"
    }
   ],
   "source": [
    "# And like in range() we can add 'step' argument\n",
    "a_list = ['a', 'b', 'c', 'd', 'e', 'f', 'g', 'h']\n",
    "a_list[1:-2:2]"
   ]
  },
  {
   "cell_type": "markdown",
   "metadata": {},
   "source": [
    "- **the _len()_ function**"
   ]
  },
  {
   "cell_type": "code",
   "execution_count": 24,
   "metadata": {},
   "outputs": [
    {
     "data": {
      "text/plain": [
       "4"
      ]
     },
     "execution_count": 24,
     "metadata": {},
     "output_type": "execute_result"
    }
   ],
   "source": [
    "# If one wants to get length of a container, they can use built-in function len():\n",
    "a_list = [1, 2, \"hello\", 12.31]\n",
    "len(a_list)"
   ]
  },
  {
   "cell_type": "markdown",
   "metadata": {},
   "source": [
    "- **list methods: _append()_, _insert()_, _index()_, etc.**"
   ]
  },
  {
   "cell_type": "markdown",
   "metadata": {},
   "source": [
    "list class has a lot of methods (functions)"
   ]
  },
  {
   "cell_type": "code",
   "execution_count": 28,
   "metadata": {},
   "outputs": [
    {
     "name": "stdout",
     "output_type": "stream",
     "text": [
      "[1, 2, 3]\n",
      "[1, 2, 3, 12]\n"
     ]
    }
   ],
   "source": [
    "# .append(element) - Adds an element at the end of the list\n",
    "a_list = [1,2,3]\n",
    "print(a_list)\n",
    "a_list.append(0b1100)  # It doesn't return any value that has to be reassigned. It directly changes original object\n",
    "print(a_list)"
   ]
  },
  {
   "cell_type": "code",
   "execution_count": 30,
   "metadata": {},
   "outputs": [
    {
     "data": {
      "text/plain": [
       "[]"
      ]
     },
     "execution_count": 30,
     "metadata": {},
     "output_type": "execute_result"
    }
   ],
   "source": [
    "# .clear() - Removes all the elements from the list\n",
    "a_list = [1,2,3]\n",
    "a_list.clear()\n",
    "a_list"
   ]
  },
  {
   "cell_type": "code",
   "execution_count": 31,
   "metadata": {},
   "outputs": [
    {
     "data": {
      "text/plain": [
       "3"
      ]
     },
     "execution_count": 31,
     "metadata": {},
     "output_type": "execute_result"
    }
   ],
   "source": [
    "# .count(value) - Returns the quantity of elements with the specified value\n",
    "a_list = [1,2,3,2,2,4,6,7]\n",
    "a_list.count(2)"
   ]
  },
  {
   "cell_type": "code",
   "execution_count": 33,
   "metadata": {},
   "outputs": [
    {
     "data": {
      "text/plain": [
       "[1, 2, 3, 4, 5, 6]"
      ]
     },
     "execution_count": 33,
     "metadata": {},
     "output_type": "execute_result"
    }
   ],
   "source": [
    "# .extend(iterable) - Add the elements of a list (or any iterable), to the end of the current list\n",
    "a_list = [1,2,3]\n",
    "b_list = [4,5,6]\n",
    "a_list.extend(b_list)\n",
    "a_list"
   ]
  },
  {
   "cell_type": "code",
   "execution_count": 36,
   "metadata": {},
   "outputs": [
    {
     "data": {
      "text/plain": [
       "0"
      ]
     },
     "execution_count": 36,
     "metadata": {},
     "output_type": "execute_result"
    }
   ],
   "source": [
    "# .index(value) - Returns the index of the first element with the specified value\n",
    "a_list = [\"a\",\"b\",\"c\",\"d\",\"e\",\"a\"]\n",
    "a_list.index('a')"
   ]
  },
  {
   "cell_type": "code",
   "execution_count": 43,
   "metadata": {},
   "outputs": [
    {
     "data": {
      "text/plain": [
       "[1, 10, 2, 3, 4]"
      ]
     },
     "execution_count": 43,
     "metadata": {},
     "output_type": "execute_result"
    }
   ],
   "source": [
    "# .insert(index, element) - Adds an element at the specified index\n",
    "a_list = [1,2,3,4]\n",
    "a_list.insert(1, 10)\n",
    "a_list"
   ]
  },
  {
   "cell_type": "code",
   "execution_count": 45,
   "metadata": {},
   "outputs": [
    {
     "data": {
      "text/plain": [
       "[1, 2, 3, 4, 10]"
      ]
     },
     "execution_count": 45,
     "metadata": {},
     "output_type": "execute_result"
    }
   ],
   "source": [
    "# One can use index higher than the list length - element will be added at the end anyway\n",
    "a_list = [1,2,3,4]\n",
    "a_list.insert(8, 10)\n",
    "a_list"
   ]
  },
  {
   "cell_type": "code",
   "execution_count": 48,
   "metadata": {},
   "outputs": [
    {
     "name": "stdout",
     "output_type": "stream",
     "text": [
      "4\n"
     ]
    },
    {
     "data": {
      "text/plain": [
       "[1, 2, 3]"
      ]
     },
     "execution_count": 48,
     "metadata": {},
     "output_type": "execute_result"
    }
   ],
   "source": [
    "# .pop(index) - Removes the element at the specified position\n",
    "a_list = [1,2,3,4]\n",
    "print(a_list.pop(-1)) # It also returns the removed value\n",
    "a_list"
   ]
  },
  {
   "cell_type": "code",
   "execution_count": 53,
   "metadata": {},
   "outputs": [
    {
     "data": {
      "text/plain": [
       "['a', 'b', 'd', 'e', 'a']"
      ]
     },
     "execution_count": 53,
     "metadata": {},
     "output_type": "execute_result"
    }
   ],
   "source": [
    "# .remove(element) - Removes the first item with the specified value\n",
    "a_list = [\"a\",\"b\",\"c\",\"d\",\"e\",\"a\"]\n",
    "a_list.remove(\"c\")\n",
    "a_list"
   ]
  },
  {
   "cell_type": "code",
   "execution_count": 56,
   "metadata": {},
   "outputs": [
    {
     "data": {
      "text/plain": [
       "[4, 3, 2, 1]"
      ]
     },
     "execution_count": 56,
     "metadata": {},
     "output_type": "execute_result"
    }
   ],
   "source": [
    "# .reverse() - Reverses the order of the list\n",
    "a_list = [1,2,3,4]\n",
    "a_list.reverse()\n",
    "a_list"
   ]
  },
  {
   "cell_type": "code",
   "execution_count": 58,
   "metadata": {},
   "outputs": [
    {
     "data": {
      "text/plain": [
       "[1, 2, 3, 4]"
      ]
     },
     "execution_count": 58,
     "metadata": {},
     "output_type": "execute_result"
    }
   ],
   "source": [
    "# .sort() - Sorts the list\n",
    "a_list = [3,2,4,1]\n",
    "a_list.sort()\n",
    "a_list"
   ]
  },
  {
   "cell_type": "code",
   "execution_count": 59,
   "metadata": {},
   "outputs": [
    {
     "data": {
      "text/plain": [
       "[4, 3, 2, 1]"
      ]
     },
     "execution_count": 59,
     "metadata": {},
     "output_type": "execute_result"
    }
   ],
   "source": [
    "# We can also sort the list descending\n",
    "a_list = [3,2,4,1]\n",
    "a_list.sort(reverse=True)\n",
    "a_list"
   ]
  },
  {
   "cell_type": "markdown",
   "metadata": {},
   "source": [
    "- **functions: _len()_, _sorted()_**"
   ]
  },
  {
   "cell_type": "markdown",
   "metadata": {},
   "source": [
    "We already know _len()_ function."
   ]
  },
  {
   "cell_type": "code",
   "execution_count": 65,
   "metadata": {},
   "outputs": [
    {
     "data": {
      "text/plain": [
       "[4, 3, 2, 1]"
      ]
     },
     "execution_count": 65,
     "metadata": {},
     "output_type": "execute_result"
    }
   ],
   "source": [
    "# We can also sort iterable containers with sorted() function\n",
    "a_list = [3,2,4,1]\n",
    "sorted(a_list, reverse=True) # But it returns a new list - it doesn't alter the original"
   ]
  },
  {
   "cell_type": "markdown",
   "metadata": {},
   "source": [
    "- **the del instruction**"
   ]
  },
  {
   "cell_type": "markdown",
   "metadata": {},
   "source": [
    "The _del_ keyword is used to delete objects. In Python everything is an object, so the _del_ keyword can also be used to delete variables, lists, or parts of a list etc."
   ]
  },
  {
   "cell_type": "code",
   "execution_count": 67,
   "metadata": {},
   "outputs": [
    {
     "name": "stdout",
     "output_type": "stream",
     "text": [
      "2\n"
     ]
    },
    {
     "ename": "NameError",
     "evalue": "name 'x' is not defined",
     "output_type": "error",
     "traceback": [
      "\u001b[1;31m---------------------------------------------------------------------------\u001b[0m",
      "\u001b[1;31mNameError\u001b[0m                                 Traceback (most recent call last)",
      "Cell \u001b[1;32mIn[67], line 4\u001b[0m\n\u001b[0;32m      2\u001b[0m \u001b[38;5;28mprint\u001b[39m(x)\n\u001b[0;32m      3\u001b[0m \u001b[38;5;28;01mdel\u001b[39;00m x\n\u001b[1;32m----> 4\u001b[0m \u001b[38;5;28mprint\u001b[39m(\u001b[43mx\u001b[49m)\n",
      "\u001b[1;31mNameError\u001b[0m: name 'x' is not defined"
     ]
    }
   ],
   "source": [
    "x = 2\n",
    "print(x)\n",
    "del x\n",
    "print(x)"
   ]
  },
  {
   "cell_type": "code",
   "execution_count": 73,
   "metadata": {},
   "outputs": [
    {
     "data": {
      "text/plain": [
       "[1, 4, 5]"
      ]
     },
     "execution_count": 73,
     "metadata": {},
     "output_type": "execute_result"
    }
   ],
   "source": [
    "a_list = [1,2,3,4,5]\n",
    "del a_list[1:3]\n",
    "a_list"
   ]
  },
  {
   "cell_type": "markdown",
   "metadata": {},
   "source": [
    "- **iterating through lists with the _for_ loop**"
   ]
  },
  {
   "cell_type": "code",
   "execution_count": 75,
   "metadata": {},
   "outputs": [
    {
     "name": "stdout",
     "output_type": "stream",
     "text": [
      "2\n",
      "4\n",
      "6\n",
      "8\n",
      "10\n"
     ]
    }
   ],
   "source": [
    "# We can iterate through lists with for loops\n",
    "a_list = [1,2,3,4,5]\n",
    "for element in a_list:\n",
    "    print(element*2)"
   ]
  },
  {
   "cell_type": "markdown",
   "metadata": {},
   "source": [
    "- **initializing loops**"
   ]
  },
  {
   "cell_type": "markdown",
   "metadata": {},
   "source": [
    "I don't really understand this section because the last section literally shows how we can use list in a loop. Maybe here they meant that we don't only can use _for_ loop to iterate through lists but also use lists to determine specific values in a loop, which in most cases will be utilized by _range()_ function."
   ]
  },
  {
   "cell_type": "markdown",
   "metadata": {},
   "source": [
    "- **the _in_ and _not in_ operators**"
   ]
  },
  {
   "cell_type": "code",
   "execution_count": 2,
   "metadata": {},
   "outputs": [
    {
     "name": "stdout",
     "output_type": "stream",
     "text": [
      "2 is in a list\n"
     ]
    }
   ],
   "source": [
    "# We can check whether specific value exist in a list...\n",
    "a_list = [1,2,3]\n",
    "if 2 in a_list:\n",
    "    print(\"2 is in a list\")\n",
    "if 4 in a_list:\n",
    "    print(\"4 is in a list\")   "
   ]
  },
  {
   "cell_type": "code",
   "execution_count": 3,
   "metadata": {},
   "outputs": [
    {
     "name": "stdout",
     "output_type": "stream",
     "text": [
      "4 is not in a list\n"
     ]
    }
   ],
   "source": [
    "# ...or not:\n",
    "a_list = [1,2,3]\n",
    "if 2 not in a_list:\n",
    "    print(\"2 is not in a list\")\n",
    "elif 4 not in a_list:\n",
    "    print(\"4 is not in a list\")  "
   ]
  },
  {
   "cell_type": "markdown",
   "metadata": {},
   "source": [
    "- **list comprehensions**"
   ]
  },
  {
   "cell_type": "markdown",
   "metadata": {},
   "source": [
    "List comprehension offers a shorter syntax when you want to create a new list based on the values of an existing list."
   ]
  },
  {
   "cell_type": "code",
   "execution_count": 4,
   "metadata": {},
   "outputs": [
    {
     "name": "stdout",
     "output_type": "stream",
     "text": [
      "['apple', 'banana', 'mango']\n"
     ]
    }
   ],
   "source": [
    "'''Based on a list of fruits, you want a new list, containing only the fruits with the letter \"a\" in the name.\n",
    "Without list comprehension you will have to write a for statement with a conditional test inside:'''\n",
    "\n",
    "fruits = [\"apple\", \"banana\", \"cherry\", \"kiwi\", \"mango\"]\n",
    "newlist = []\n",
    "\n",
    "for x in fruits:\n",
    "  if \"a\" in x:\n",
    "    newlist.append(x)\n",
    "\n",
    "print(newlist)"
   ]
  },
  {
   "cell_type": "code",
   "execution_count": 5,
   "metadata": {},
   "outputs": [
    {
     "name": "stdout",
     "output_type": "stream",
     "text": [
      "['apple', 'banana', 'mango']\n"
     ]
    }
   ],
   "source": [
    "# With list comprehension you can do all that with only one line of code:\n",
    "\n",
    "fruits = [\"apple\", \"banana\", \"cherry\", \"kiwi\", \"mango\"]\n",
    "\n",
    "newlist = [x for x in fruits if \"a\" in x]\n",
    "\n",
    "print(newlist)"
   ]
  },
  {
   "cell_type": "markdown",
   "metadata": {},
   "source": [
    "###### Source: https://www.w3schools.com"
   ]
  },
  {
   "cell_type": "code",
   "execution_count": 7,
   "metadata": {},
   "outputs": [
    {
     "data": {
      "text/plain": [
       "[1, 4, 27, 16, 125, 36]"
      ]
     },
     "execution_count": 7,
     "metadata": {},
     "output_type": "execute_result"
    }
   ],
   "source": [
    "# Get squares of the even numbers and cubes of the odd numbers\n",
    "\n",
    "list_1 = [1, 2, 3, 4, 5, 6]\n",
    "\n",
    "[number**2 if number % 2 == 0 else number**3 for number in list_1]"
   ]
  },
  {
   "cell_type": "code",
   "execution_count": 8,
   "metadata": {},
   "outputs": [
    {
     "name": "stdout",
     "output_type": "stream",
     "text": [
      "yes\n",
      "no\n",
      "idle\n",
      "idle\n",
      "idle\n"
     ]
    },
    {
     "data": {
      "text/plain": [
       "['yes', 'no', 'idle', 'idle', 'idle']"
      ]
     },
     "execution_count": 8,
     "metadata": {},
     "output_type": "execute_result"
    }
   ],
   "source": [
    "# There is no 'elif' in list comprehensions but it can be override like that:\n",
    "\n",
    "l = [1, 2, 3, 4, 5]\n",
    "\n",
    "for values in l:\n",
    "    if values == 1:\n",
    "        print('yes')\n",
    "    elif values == 2:\n",
    "        print('no')\n",
    "    else:\n",
    "        print('idle')\n",
    "\n",
    "['yes' if v == 1 else 'no' if v == 2 else 'idle' for v in l]"
   ]
  },
  {
   "cell_type": "markdown",
   "metadata": {},
   "source": [
    "###### Source: https://stackoverflow.com/questions/9987483/elif-in-list-comprehension-conditionals"
   ]
  },
  {
   "cell_type": "markdown",
   "metadata": {},
   "source": [
    "- **copying and cloning**"
   ]
  },
  {
   "cell_type": "code",
   "execution_count": 9,
   "metadata": {},
   "outputs": [
    {
     "data": {
      "text/plain": [
       "[1, 2, 3, 4]"
      ]
     },
     "execution_count": 9,
     "metadata": {},
     "output_type": "execute_result"
    }
   ],
   "source": [
    "# Copying list using just assignment operator creates another binding to the same list. Hence changing the first list also changes the second list\n",
    "\n",
    "list_1 = [1,2,3]\n",
    "list_2 = list_1\n",
    "list_1.append(4)\n",
    "list_2"
   ]
  },
  {
   "cell_type": "markdown",
   "metadata": {},
   "source": [
    "For collections that are mutable or contain mutable items, a copy is sometimes needed so one can change one copy without changing the other.\n",
    "Here are some ways to do that:"
   ]
  },
  {
   "cell_type": "code",
   "execution_count": 13,
   "metadata": {},
   "outputs": [
    {
     "data": {
      "text/plain": [
       "[1, 2, 3]"
      ]
     },
     "execution_count": 13,
     "metadata": {},
     "output_type": "execute_result"
    }
   ],
   "source": [
    "# Slicing\n",
    "\n",
    "list_1 = [1,2,3]\n",
    "list_2 = list_1[:]\n",
    "list_1.append(4)\n",
    "list_2"
   ]
  },
  {
   "cell_type": "code",
   "execution_count": 14,
   "metadata": {},
   "outputs": [
    {
     "data": {
      "text/plain": [
       "[1, 2, 3]"
      ]
     },
     "execution_count": 14,
     "metadata": {},
     "output_type": "execute_result"
    }
   ],
   "source": [
    "# .extend()\n",
    "\n",
    "list_1 = [1,2,3]\n",
    "list_2 = []\n",
    "list_2.extend(list_1)\n",
    "list_1.append(4)\n",
    "list_2"
   ]
  },
  {
   "cell_type": "code",
   "execution_count": 15,
   "metadata": {},
   "outputs": [
    {
     "data": {
      "text/plain": [
       "[1, 2, 3]"
      ]
     },
     "execution_count": 15,
     "metadata": {},
     "output_type": "execute_result"
    }
   ],
   "source": [
    "# List comprehension\n",
    "\n",
    "list_1 = [1,2,3]\n",
    "list_2 = [i for i in list_1]\n",
    "list_1.append(4)\n",
    "list_2"
   ]
  },
  {
   "cell_type": "code",
   "execution_count": 16,
   "metadata": {},
   "outputs": [
    {
     "data": {
      "text/plain": [
       "[1, 2, 3]"
      ]
     },
     "execution_count": 16,
     "metadata": {},
     "output_type": "execute_result"
    }
   ],
   "source": [
    "# .append()\n",
    "\n",
    "list_1 = [1,2,3]\n",
    "list_2 = [] \n",
    "for item in list_1: list_2.append(item) \n",
    "list_1.append(4)\n",
    "list_2"
   ]
  },
  {
   "cell_type": "code",
   "execution_count": 17,
   "metadata": {},
   "outputs": [
    {
     "data": {
      "text/plain": [
       "[1, 2, 3]"
      ]
     },
     "execution_count": 17,
     "metadata": {},
     "output_type": "execute_result"
    }
   ],
   "source": [
    "# .copy()\n",
    "\n",
    "list_1 = [1,2,3]\n",
    "list_2 = list_1.copy()\n",
    "list_1.append(4)\n",
    "list_2"
   ]
  },
  {
   "cell_type": "markdown",
   "metadata": {},
   "source": [
    "Above methods create what is called 'shallow copy' because it copies only the first layer. Mutable objects within these objects (like lists in lists) are not truely copied"
   ]
  },
  {
   "cell_type": "code",
   "execution_count": 21,
   "metadata": {},
   "outputs": [
    {
     "data": {
      "text/plain": [
       "[1, 2, 3, [4, 5, 6]]"
      ]
     },
     "execution_count": 21,
     "metadata": {},
     "output_type": "execute_result"
    }
   ],
   "source": [
    "# Example showing limit of shallow copies: \n",
    "\n",
    "list_1 = [1,2,3,[4,5]]\n",
    "list_2 = list_1.copy()\n",
    "list_1.append(7)\n",
    "list_1[3].append(6)\n",
    "list_2"
   ]
  },
  {
   "cell_type": "markdown",
   "metadata": {},
   "source": [
    "- **lists in lists: matrices and cubes**"
   ]
  },
  {
   "cell_type": "code",
   "execution_count": 24,
   "metadata": {},
   "outputs": [
    {
     "data": {
      "text/plain": [
       "[[1, 2, 3], [3, 2, 1]]"
      ]
     },
     "execution_count": 24,
     "metadata": {},
     "output_type": "execute_result"
    }
   ],
   "source": [
    "# Since lists can be a part of another list we can use it to create matrices:\n",
    "\n",
    "matrix = [[1, 2, 3], [3, 2, 1]]\n",
    "matrix"
   ]
  },
  {
   "cell_type": "code",
   "execution_count": 27,
   "metadata": {},
   "outputs": [
    {
     "name": "stdout",
     "output_type": "stream",
     "text": [
      "[1, 2, 3]\n",
      "2\n"
     ]
    }
   ],
   "source": [
    "# We can get to the inner values by double indexing (because first indexing will return a list and second indexing will return value from this list):\n",
    "\n",
    "matrix = [[1, 2, 3], [3, 2, 1]]\n",
    "print(matrix[0])\n",
    "print(matrix[0][1])"
   ]
  },
  {
   "cell_type": "code",
   "execution_count": 28,
   "metadata": {},
   "outputs": [
    {
     "name": "stdout",
     "output_type": "stream",
     "text": [
      "3\n",
      "6\n",
      "9\n",
      "9\n",
      "6\n",
      "3\n"
     ]
    }
   ],
   "source": [
    "# And we can iterate through such matrix with two loops\n",
    "for row in matrix:\n",
    "    for value in row:\n",
    "        print(value*3)"
   ]
  },
  {
   "cell_type": "code",
   "execution_count": 29,
   "metadata": {},
   "outputs": [],
   "source": [
    "# Of course we can create cubes and more dimensional lists\n",
    "\n",
    "list_3d = [[[1], [2], [3]], [[3], [6], [9]], [[6], [9], [12]]]"
   ]
  },
  {
   "cell_type": "markdown",
   "metadata": {},
   "source": [
    "##   3.2 Collect and process data using tuples"
   ]
  },
  {
   "cell_type": "markdown",
   "metadata": {},
   "source": [
    "- **tuples: indexing, slicing, building, immutability**"
   ]
  },
  {
   "cell_type": "code",
   "execution_count": 30,
   "metadata": {},
   "outputs": [
    {
     "data": {
      "text/plain": [
       "tuple"
      ]
     },
     "execution_count": 30,
     "metadata": {},
     "output_type": "execute_result"
    }
   ],
   "source": [
    "# Tuples are another container object, just like lists\n",
    "\n",
    "a_tuple = (1,2,3)\n",
    "type(a_tuple)"
   ]
  },
  {
   "cell_type": "code",
   "execution_count": 32,
   "metadata": {},
   "outputs": [
    {
     "name": "stdout",
     "output_type": "stream",
     "text": [
      "first element: a\n",
      "last element: c\n"
     ]
    }
   ],
   "source": [
    "# We can get its values by indexing\n",
    "\n",
    "a_tuple = (\"a\",\"b\",\"c\")\n",
    "print(\"first element:\", a_tuple[0])\n",
    "print(\"last element:\", a_tuple[-1])"
   ]
  },
  {
   "cell_type": "code",
   "execution_count": 53,
   "metadata": {},
   "outputs": [
    {
     "data": {
      "text/plain": [
       "('a', 'b', 'c')"
      ]
     },
     "execution_count": 53,
     "metadata": {},
     "output_type": "execute_result"
    }
   ],
   "source": [
    "# We can get its values by slicing\n",
    "\n",
    "a_tuple = (\"a\",\"b\",\"c\")\n",
    "a_tuple[0:10]"
   ]
  },
  {
   "cell_type": "code",
   "execution_count": 55,
   "metadata": {},
   "outputs": [
    {
     "name": "stdout",
     "output_type": "stream",
     "text": [
      "['Change', 2, 3]\n"
     ]
    },
    {
     "ename": "TypeError",
     "evalue": "'tuple' object does not support item assignment",
     "output_type": "error",
     "traceback": [
      "\u001b[1;31m---------------------------------------------------------------------------\u001b[0m",
      "\u001b[1;31mTypeError\u001b[0m                                 Traceback (most recent call last)",
      "Cell \u001b[1;32mIn[55], line 8\u001b[0m\n\u001b[0;32m      5\u001b[0m \u001b[38;5;28mprint\u001b[39m(a_list)\n\u001b[0;32m      7\u001b[0m a_tuple \u001b[38;5;241m=\u001b[39m (\u001b[38;5;241m1\u001b[39m,\u001b[38;5;241m2\u001b[39m,\u001b[38;5;241m3\u001b[39m)\n\u001b[1;32m----> 8\u001b[0m \u001b[43ma_tuple\u001b[49m\u001b[43m[\u001b[49m\u001b[38;5;241;43m0\u001b[39;49m\u001b[43m]\u001b[49m \u001b[38;5;241m=\u001b[39m \u001b[38;5;124m\"\u001b[39m\u001b[38;5;124mChange\u001b[39m\u001b[38;5;124m\"\u001b[39m\n\u001b[0;32m      9\u001b[0m \u001b[38;5;28mprint\u001b[39m(a_tuple)\n",
      "\u001b[1;31mTypeError\u001b[0m: 'tuple' object does not support item assignment"
     ]
    }
   ],
   "source": [
    "# But we can not change once created tuple (immutability)\n",
    "\n",
    "a_list = [1,2,3]\n",
    "a_list[0] = \"Change\"\n",
    "print(a_list)\n",
    "\n",
    "a_tuple = (1,2,3)\n",
    "a_tuple[0] = \"Change\"\n",
    "print(a_tuple)"
   ]
  },
  {
   "cell_type": "markdown",
   "metadata": {},
   "source": [
    "- **tuples vs. lists: similarities and differences**"
   ]
  },
  {
   "cell_type": "markdown",
   "metadata": {},
   "source": [
    "**Similarities**:\n",
    "- Tuples and lists are both used to store collections of data\n",
    "- Tuples and lists are both ordered, which means the order that you put the items in are kept\n",
    "- Tuples and lists are both sequential data types so you can iterate over the items contained\n",
    "- Items of both tuples and lists can be accessed by an integer index operator, provided in square brackets, [index]\n",
    "\n",
    "**differences**:\n",
    "- Tuples are immutable objects and lists are mutable objects\n",
    "- Tuples use less memory and are faster to access than to lists\n",
    "- Tuple syntax uses round brackets or parenthesis, and list syntax uses square brackets"
   ]
  },
  {
   "cell_type": "markdown",
   "metadata": {},
   "source": [
    "###### Source: https://builtin.com/software-engineering-perspectives/python-tuples-vs-lists"
   ]
  },
  {
   "cell_type": "markdown",
   "metadata": {},
   "source": [
    "- **lists inside tuples and tuples inside lists**"
   ]
  },
  {
   "cell_type": "code",
   "execution_count": 57,
   "metadata": {},
   "outputs": [
    {
     "ename": "TypeError",
     "evalue": "'tuple' object does not support item assignment",
     "output_type": "error",
     "traceback": [
      "\u001b[1;31m---------------------------------------------------------------------------\u001b[0m",
      "\u001b[1;31mTypeError\u001b[0m                                 Traceback (most recent call last)",
      "Cell \u001b[1;32mIn[57], line 4\u001b[0m\n\u001b[0;32m      1\u001b[0m \u001b[38;5;66;03m# You can't alter objects within a tuple\u001b[39;00m\n\u001b[0;32m      3\u001b[0m a_tuple \u001b[38;5;241m=\u001b[39m (\u001b[38;5;241m1\u001b[39m, \u001b[38;5;124m'\u001b[39m\u001b[38;5;124mB\u001b[39m\u001b[38;5;124m'\u001b[39m, [\u001b[38;5;241m2\u001b[39m, \u001b[38;5;241m3\u001b[39m, \u001b[38;5;241m4\u001b[39m])\n\u001b[1;32m----> 4\u001b[0m \u001b[43ma_tuple\u001b[49m\u001b[43m[\u001b[49m\u001b[38;5;241;43m2\u001b[39;49m\u001b[43m]\u001b[49m \u001b[38;5;241m=\u001b[39m [\u001b[38;5;241m5\u001b[39m,\u001b[38;5;241m6\u001b[39m,\u001b[38;5;241m7\u001b[39m]\n\u001b[0;32m      5\u001b[0m a_tuple\n",
      "\u001b[1;31mTypeError\u001b[0m: 'tuple' object does not support item assignment"
     ]
    }
   ],
   "source": [
    "# You can't alter objects within a tuple...\n",
    "\n",
    "a_tuple = (1, 'B', [2, 3, 4])\n",
    "a_tuple[2] = [5,6,7]\n",
    "a_tuple"
   ]
  },
  {
   "cell_type": "code",
   "execution_count": 58,
   "metadata": {},
   "outputs": [
    {
     "data": {
      "text/plain": [
       "(1, 'B', [65, 3, 4])"
      ]
     },
     "execution_count": 58,
     "metadata": {},
     "output_type": "execute_result"
    }
   ],
   "source": [
    "# But we can change objects' attributes, like lists' values\n",
    "\n",
    "a_tuple = (1, 'B', [2, 3, 4])\n",
    "a_tuple[2][0] = 65\n",
    "a_tuple"
   ]
  },
  {
   "cell_type": "code",
   "execution_count": 59,
   "metadata": {},
   "outputs": [
    {
     "data": {
      "text/plain": [
       "[1, 2, (4, 5, 6)]"
      ]
     },
     "execution_count": 59,
     "metadata": {},
     "output_type": "execute_result"
    }
   ],
   "source": [
    "# In case of tuples inside lists - it is possible to change tuples with different objects...\n",
    " \n",
    "a_list = [1, 2, (3, 4, 5)]\n",
    "a_list[2] = (4, 5, 6)\n",
    "a_list"
   ]
  },
  {
   "cell_type": "code",
   "execution_count": 60,
   "metadata": {},
   "outputs": [
    {
     "ename": "TypeError",
     "evalue": "'tuple' object does not support item assignment",
     "output_type": "error",
     "traceback": [
      "\u001b[1;31m---------------------------------------------------------------------------\u001b[0m",
      "\u001b[1;31mTypeError\u001b[0m                                 Traceback (most recent call last)",
      "Cell \u001b[1;32mIn[60], line 4\u001b[0m\n\u001b[0;32m      1\u001b[0m \u001b[38;5;66;03m# In case of tuples inside lists - it is possible to change tuples with different objects\u001b[39;00m\n\u001b[0;32m      3\u001b[0m a_list \u001b[38;5;241m=\u001b[39m [\u001b[38;5;241m1\u001b[39m, \u001b[38;5;241m2\u001b[39m, (\u001b[38;5;241m3\u001b[39m, \u001b[38;5;241m4\u001b[39m, \u001b[38;5;241m5\u001b[39m)]\n\u001b[1;32m----> 4\u001b[0m \u001b[43ma_list\u001b[49m\u001b[43m[\u001b[49m\u001b[38;5;241;43m2\u001b[39;49m\u001b[43m]\u001b[49m\u001b[43m[\u001b[49m\u001b[38;5;241;43m0\u001b[39;49m\u001b[43m]\u001b[49m \u001b[38;5;241m=\u001b[39m \u001b[38;5;241m90\u001b[39m\n\u001b[0;32m      5\u001b[0m a_list\n",
      "\u001b[1;31mTypeError\u001b[0m: 'tuple' object does not support item assignment"
     ]
    }
   ],
   "source": [
    "# But we still can't change tuples' components \n",
    " \n",
    "a_list = [1, 2, (3, 4, 5)]\n",
    "a_list[2][0] = 90\n",
    "a_list"
   ]
  },
  {
   "cell_type": "markdown",
   "metadata": {},
   "source": [
    "## 3.3 Collect and process data using dictionaries"
   ]
  },
  {
   "cell_type": "markdown",
   "metadata": {},
   "source": [
    "- **dictionaries: building, indexing, adding and removing keys**"
   ]
  },
  {
   "cell_type": "code",
   "execution_count": 96,
   "metadata": {},
   "outputs": [
    {
     "data": {
      "text/plain": [
       "dict"
      ]
     },
     "execution_count": 96,
     "metadata": {},
     "output_type": "execute_result"
    }
   ],
   "source": [
    "# Dictionary is another type of container object - ordered, changeable and do not allow duplicates.\n",
    "# It consists of keys and values assigned to these keys like this: key:value, key:value\n",
    "# Values can be created from object of any type (even another dictionary)\n",
    "# Keys can be created only from hashable objects (which mostly means immutable objects)\n",
    "\n",
    "a_dict_1 = {\"apples\": 2, \"bananas\": 3, \"oranges\": None}\n",
    "a_dict_1 = {\"Kacper\": [1,2,3], 23: \"r\", ('car_1', 'car_2'): {\"key_1\":2, 3:\"value_2\"}}\n",
    "type(a_dict_1)"
   ]
  },
  {
   "cell_type": "code",
   "execution_count": 99,
   "metadata": {},
   "outputs": [
    {
     "data": {
      "text/plain": [
       "{'apple': 2, 'banana': 3, 'orange': 5}"
      ]
     },
     "execution_count": 99,
     "metadata": {},
     "output_type": "execute_result"
    }
   ],
   "source": [
    "# We can also build a dictionary this way:\n",
    "\n",
    "my_dict = dict(apple=2, banana=3, orange=5)\n",
    "my_dict"
   ]
  },
  {
   "cell_type": "code",
   "execution_count": 64,
   "metadata": {},
   "outputs": [
    {
     "data": {
      "text/plain": [
       "3"
      ]
     },
     "execution_count": 64,
     "metadata": {},
     "output_type": "execute_result"
    }
   ],
   "source": [
    "# We can get to its values by calling the proper keys:\n",
    "\n",
    "a_dict = {\"apples\": 2, \"bananas\": 3, \"oranges\": 4}\n",
    "a_dict['bananas']"
   ]
  },
  {
   "cell_type": "code",
   "execution_count": 72,
   "metadata": {},
   "outputs": [
    {
     "name": "stdout",
     "output_type": "stream",
     "text": [
      "{'apples': 2, 'bananas': 3, 'oranges': 4, 'grapes': 5}\n",
      "{'apples': 4, 'bananas': 3, 'oranges': 4, 'grapes': 5}\n"
     ]
    }
   ],
   "source": [
    "# There are few ways of adding pairs to the exisitng dictionary:\n",
    "# Subscript Notation\n",
    "\n",
    "a_dict = {\"apples\": 2, \"bananas\": 3, \"oranges\": 4}\n",
    "a_dict['grapes'] = 5\n",
    "print(a_dict)\n",
    "\n",
    "# This way we can also change values of the existing keys\n",
    "a_dict['apples'] = 4\n",
    "print(a_dict)"
   ]
  },
  {
   "cell_type": "code",
   "execution_count": 78,
   "metadata": {},
   "outputs": [
    {
     "data": {
      "text/plain": [
       "{'apples': 5, 'bananas': 3, 'oranges': 4, 'pears': 10}"
      ]
     },
     "execution_count": 78,
     "metadata": {},
     "output_type": "execute_result"
    }
   ],
   "source": [
    "# .update() method\n",
    "# Works like .extend() method in lists but it updates values of already existing keys\n",
    "\n",
    "a_dict = {\"apples\": 2, \"bananas\": 3, \"oranges\": 4}\n",
    "b_dict = {\"apples\": 5, \"pears\": 10}\n",
    "a_dict.update(b_dict)\n",
    "a_dict"
   ]
  },
  {
   "cell_type": "code",
   "execution_count": 94,
   "metadata": {},
   "outputs": [
    {
     "data": {
      "text/plain": [
       "{'apples': 2, 'bananas': 3, 'oranges': 4, 'grapes': 20}"
      ]
     },
     "execution_count": 94,
     "metadata": {},
     "output_type": "execute_result"
    }
   ],
   "source": [
    "# ** operator allows to unpack dictionaries\n",
    "\n",
    "a_dict = {\"apples\": 2, \"bananas\": 3, \"oranges\": 4}\n",
    "b_dict = {**a_dict, **{\"grapes\": 20}}\n",
    "b_dict"
   ]
  },
  {
   "cell_type": "code",
   "execution_count": 100,
   "metadata": {},
   "outputs": [
    {
     "data": {
      "text/plain": [
       "{'bananas': 3, 'oranges': 4}"
      ]
     },
     "execution_count": 100,
     "metadata": {},
     "output_type": "execute_result"
    }
   ],
   "source": [
    "# There are also some ways to delete pairs:\n",
    "# del keyword\n",
    "\n",
    "a_dict = {\"apples\": 2, \"bananas\": 3, \"oranges\": 4}\n",
    "del a_dict[\"apples\"]\n",
    "a_dict"
   ]
  },
  {
   "cell_type": "code",
   "execution_count": 102,
   "metadata": {},
   "outputs": [
    {
     "data": {
      "text/plain": [
       "{'apples': 2, 'oranges': 4}"
      ]
     },
     "execution_count": 102,
     "metadata": {},
     "output_type": "execute_result"
    }
   ],
   "source": [
    "# .pop(key)\n",
    "\n",
    "a_dict = {\"apples\": 2, \"bananas\": 3, \"oranges\": 4}\n",
    "a_dict.pop(\"bananas\")\n",
    "a_dict"
   ]
  },
  {
   "cell_type": "code",
   "execution_count": 103,
   "metadata": {},
   "outputs": [
    {
     "data": {
      "text/plain": [
       "{'apples': 2, 'bananas': 3}"
      ]
     },
     "execution_count": 103,
     "metadata": {},
     "output_type": "execute_result"
    }
   ],
   "source": [
    "# .popitem() - deletes last item\n",
    "\n",
    "a_dict = {\"apples\": 2, \"bananas\": 3, \"oranges\": 4}\n",
    "a_dict.popitem()\n",
    "a_dict"
   ]
  },
  {
   "cell_type": "code",
   "execution_count": 120,
   "metadata": {},
   "outputs": [
    {
     "data": {
      "text/plain": [
       "{}"
      ]
     },
     "execution_count": 120,
     "metadata": {},
     "output_type": "execute_result"
    }
   ],
   "source": [
    "# .clear() - deletes all items\n",
    "\n",
    "a_dict = {\"apples\": 2, \"bananas\": 3, \"oranges\": 4}\n",
    "a_dict.clear()\n",
    "a_dict"
   ]
  },
  {
   "cell_type": "markdown",
   "metadata": {},
   "source": [
    "- **iterating through dictionaries and their keys and values**"
   ]
  },
  {
   "cell_type": "code",
   "execution_count": 104,
   "metadata": {},
   "outputs": [
    {
     "name": "stdout",
     "output_type": "stream",
     "text": [
      "apples\n",
      "bananas\n",
      "oranges\n"
     ]
    }
   ],
   "source": [
    "# Using for loops like this automatically iterates over keys...\n",
    "\n",
    "a_dict = {\"apples\": 2, \"bananas\": 3, \"oranges\": 4}\n",
    "for fruit in a_dict:\n",
    "    print(fruit)"
   ]
  },
  {
   "cell_type": "code",
   "execution_count": 105,
   "metadata": {},
   "outputs": [
    {
     "name": "stdout",
     "output_type": "stream",
     "text": [
      "apples -> 2\n",
      "bananas -> 3\n",
      "oranges -> 4\n"
     ]
    }
   ],
   "source": [
    "# And we can use it to iterate over values as well\n",
    "\n",
    "a_dict = {\"apples\": 2, \"bananas\": 3, \"oranges\": 4}\n",
    "for fruit in a_dict:\n",
    "    print(fruit, '->', a_dict[fruit])"
   ]
  },
  {
   "cell_type": "markdown",
   "metadata": {},
   "source": [
    "- **checking the existence of keys**"
   ]
  },
  {
   "cell_type": "code",
   "execution_count": 106,
   "metadata": {},
   "outputs": [
    {
     "name": "stdout",
     "output_type": "stream",
     "text": [
      "Apples already are in the dictionary\n"
     ]
    },
    {
     "data": {
      "text/plain": [
       "{'apples': 2, 'bananas': 3, 'oranges': 4}"
      ]
     },
     "execution_count": 106,
     "metadata": {},
     "output_type": "execute_result"
    }
   ],
   "source": [
    "# Since adding already existing key actually updates the dict - sometimes we might want to not let that happen\n",
    "\n",
    "a_dict = {\"apples\": 2, \"bananas\": 3, \"oranges\": 4}\n",
    "if \"apples\" in a_dict:\n",
    "    print(\"Apples already are in the dictionary\")\n",
    "else:\n",
    "    a_dict[\"apples\"] = 10\n",
    "a_dict"
   ]
  },
  {
   "cell_type": "code",
   "execution_count": 119,
   "metadata": {},
   "outputs": [
    {
     "name": "stdout",
     "output_type": "stream",
     "text": [
      "None\n",
      "There is no such key like applesss\n"
     ]
    }
   ],
   "source": [
    "# We can also check it with built-in method .get(key, value)\n",
    "\n",
    "a_dict = {\"apples\": 2, \"bananas\": 3, \"oranges\": 4}\n",
    "key = \"applesss\"\n",
    "print(a_dict.get(key))\n",
    "if a_dict.get(key) == None:\n",
    "    print(\"There is no such key like\", key)"
   ]
  },
  {
   "cell_type": "markdown",
   "metadata": {},
   "source": [
    "- **methods: keys(), items(), and values()**"
   ]
  },
  {
   "cell_type": "code",
   "execution_count": 128,
   "metadata": {},
   "outputs": [
    {
     "name": "stdout",
     "output_type": "stream",
     "text": [
      "{'apples': 2, 'bananas': 3, 'oranges': 4}\n",
      "dict_keys(['apples', 'bananas', 'oranges'])\n",
      "dict_values([2, 3, 4])\n",
      "dict_items([('apples', 2), ('bananas', 3), ('oranges', 4)])\n"
     ]
    }
   ],
   "source": [
    "# Dictionaries have also specific methods that let you get its keys, values and items\n",
    "\n",
    "a_dict = {\"apples\": 2, \"bananas\": 3, \"oranges\": 4}\n",
    "print(a_dict)\n",
    "print(a_dict.keys())\n",
    "print(a_dict.values())\n",
    "print(a_dict.items())"
   ]
  },
  {
   "cell_type": "code",
   "execution_count": 110,
   "metadata": {},
   "outputs": [
    {
     "name": "stdout",
     "output_type": "stream",
     "text": [
      "2\n",
      "3\n",
      "4\n"
     ]
    }
   ],
   "source": [
    "# Returned objects are iterable\n",
    "\n",
    "a_dict = {\"apples\": 2, \"bananas\": 3, \"oranges\": 4}\n",
    "\n",
    "for value in a_dict.values():\n",
    "    print(value)"
   ]
  },
  {
   "cell_type": "code",
   "execution_count": 111,
   "metadata": {},
   "outputs": [
    {
     "name": "stdout",
     "output_type": "stream",
     "text": [
      "apples -> 2\n",
      "bananas -> 3\n",
      "oranges -> 4\n"
     ]
    }
   ],
   "source": [
    "# The most interesting method is items which allows to get keys and values simultaneously\n",
    "\n",
    "a_dict = {\"apples\": 2, \"bananas\": 3, \"oranges\": 4}\n",
    "for key, value in a_dict.items():\n",
    "    print(key, '->', value)"
   ]
  },
  {
   "cell_type": "markdown",
   "metadata": {},
   "source": [
    "##   3.4 Operate with strings"
   ]
  },
  {
   "cell_type": "markdown",
   "metadata": {},
   "source": [
    "- **constructing strings**"
   ]
  },
  {
   "cell_type": "code",
   "execution_count": 126,
   "metadata": {},
   "outputs": [
    {
     "data": {
      "text/plain": [
       "str"
      ]
     },
     "execution_count": 126,
     "metadata": {},
     "output_type": "execute_result"
    }
   ],
   "source": [
    "# Strings are objects that are immutable and consist of character symbols\n",
    "\n",
    "type(\"Hello\")"
   ]
  },
  {
   "cell_type": "code",
   "execution_count": null,
   "metadata": {},
   "outputs": [],
   "source": [
    "# This is the most common way of creating string\n",
    "\n",
    "a_string = \"Set of characters\""
   ]
  },
  {
   "cell_type": "code",
   "execution_count": 138,
   "metadata": {},
   "outputs": [
    {
     "name": "stdout",
     "output_type": "stream",
     "text": [
      "2\n",
      "0.3333333333333333\n",
      "[1, 2, 3]\n",
      "(4, 5, 6)\n",
      "{4: 'abc', 5: 'erfty'}\n"
     ]
    }
   ],
   "source": [
    "# We can also map other objects to strings\n",
    "\n",
    "string_2 = str(2)\n",
    "print(string_2)\n",
    "string_2 = str(1/3)\n",
    "print(string_2)\n",
    "string_2 = str([1,2,3])\n",
    "print(string_2)\n",
    "string_2 = str((4,5,6))\n",
    "print(string_2)\n",
    "string_2 = str({4:'abc', 5:\"erfty\"})\n",
    "print(string_2)"
   ]
  },
  {
   "cell_type": "markdown",
   "metadata": {},
   "source": [
    "- **indexing, slicing, immutability**"
   ]
  },
  {
   "cell_type": "code",
   "execution_count": 143,
   "metadata": {},
   "outputs": [
    {
     "name": "stdout",
     "output_type": "stream",
     "text": [
      "e\n",
      "llo Worl\n"
     ]
    }
   ],
   "source": [
    "# Just like in case of other containers we can get to the specific characters by indexing and slicing\n",
    "\n",
    "a_string = \"Hello World!\"\n",
    "print(a_string[1])\n",
    "print(a_string[2:10])"
   ]
  },
  {
   "cell_type": "code",
   "execution_count": 144,
   "metadata": {},
   "outputs": [
    {
     "ename": "TypeError",
     "evalue": "'str' object does not support item assignment",
     "output_type": "error",
     "traceback": [
      "\u001b[1;31m---------------------------------------------------------------------------\u001b[0m",
      "\u001b[1;31mTypeError\u001b[0m                                 Traceback (most recent call last)",
      "Cell \u001b[1;32mIn[144], line 4\u001b[0m\n\u001b[0;32m      1\u001b[0m \u001b[38;5;66;03m# Strings, like tuples, are immutable so we cannot change its characters\u001b[39;00m\n\u001b[0;32m      3\u001b[0m a_string \u001b[38;5;241m=\u001b[39m \u001b[38;5;124m\"\u001b[39m\u001b[38;5;124mHello World!\u001b[39m\u001b[38;5;124m\"\u001b[39m\n\u001b[1;32m----> 4\u001b[0m \u001b[43ma_string\u001b[49m\u001b[43m[\u001b[49m\u001b[38;5;241;43m2\u001b[39;49m\u001b[43m]\u001b[49m \u001b[38;5;241m=\u001b[39m \u001b[38;5;124m'\u001b[39m\u001b[38;5;124mX\u001b[39m\u001b[38;5;124m'\u001b[39m\n",
      "\u001b[1;31mTypeError\u001b[0m: 'str' object does not support item assignment"
     ]
    }
   ],
   "source": [
    "# Strings, like tuples, are immutable so we cannot change its characters\n",
    "\n",
    "a_string = \"Hello World!\"\n",
    "a_string[2] = 'X'"
   ]
  },
  {
   "cell_type": "code",
   "execution_count": 155,
   "metadata": {},
   "outputs": [
    {
     "name": "stdout",
     "output_type": "stream",
     "text": [
      "hello worldhello worldhello world\n"
     ]
    }
   ],
   "source": [
    "# We can add and multiply strings\n",
    "\n",
    "string_1 = \"hello\"\n",
    "string_2 = \"world\"\n",
    "string_3 = string_1 + \" \" + string_2\n",
    "print(string_3 * 3)"
   ]
  },
  {
   "cell_type": "markdown",
   "metadata": {},
   "source": [
    "- **escaping using the \\ character**"
   ]
  },
  {
   "cell_type": "code",
   "execution_count": 156,
   "metadata": {},
   "outputs": [
    {
     "ename": "SyntaxError",
     "evalue": "invalid syntax (1942848520.py, line 3)",
     "output_type": "error",
     "traceback": [
      "\u001b[1;36m  Cell \u001b[1;32mIn[156], line 3\u001b[1;36m\u001b[0m\n\u001b[1;33m    a_string = \"And he said \"I love you!\" after class\"\u001b[0m\n\u001b[1;37m                             ^\u001b[0m\n\u001b[1;31mSyntaxError\u001b[0m\u001b[1;31m:\u001b[0m invalid syntax\n"
     ]
    }
   ],
   "source": [
    "# Sometimes we want to add special characters to out string, like quote for example. But we use quote to define a string, right?\n",
    "\n",
    "a_string = \"And he said \"I love you!\" after class\""
   ]
  },
  {
   "cell_type": "code",
   "execution_count": 158,
   "metadata": {},
   "outputs": [
    {
     "data": {
      "text/plain": [
       "\"And he said 'I love you!' after class\""
      ]
     },
     "execution_count": 158,
     "metadata": {},
     "output_type": "execute_result"
    }
   ],
   "source": [
    "# We can just use another type of quotation marks:\n",
    "\n",
    "a_string = \"And he said 'I love you!' after class\"\n",
    "a_string"
   ]
  },
  {
   "cell_type": "code",
   "execution_count": 160,
   "metadata": {},
   "outputs": [
    {
     "data": {
      "text/plain": [
       "'And he said \"I love you!\" after class'"
      ]
     },
     "execution_count": 160,
     "metadata": {},
     "output_type": "execute_result"
    }
   ],
   "source": [
    "# But the most professional way is to use escaping character which basically gives special meaning based on the second character\"\n",
    "# In this scenario it just treats quotation marks as a part of the string - not a part of the code\n",
    "\n",
    "a_string = \"And he said \\\"I love you!\\\" after class\"\n",
    "a_string"
   ]
  },
  {
   "cell_type": "code",
   "execution_count": 163,
   "metadata": {},
   "outputs": [
    {
     "name": "stdout",
     "output_type": "stream",
     "text": [
      "And he said\n",
      "\"I love you!\"\n",
      "after class\n"
     ]
    }
   ],
   "source": [
    "# But it can also mean linebreak:\n",
    "\n",
    "a_string = \"And he said\\n\\\"I love you!\\\"\\nafter class\"\n",
    "print(a_string)"
   ]
  },
  {
   "cell_type": "markdown",
   "metadata": {},
   "source": [
    "This is a list of some escape characters available in strings"
   ]
  },
  {
   "cell_type": "markdown",
   "metadata": {},
   "source": [
    "![3.4.1](Images/3.4.1.png)\n",
    "###### Source: https://www.bestprog.net/en/2019/11/06/python-strings-escape-sequences-unformatted-strings-multiline-text-blocks/"
   ]
  },
  {
   "cell_type": "markdown",
   "metadata": {},
   "source": [
    "- **quotes and apostrophes inside strings**"
   ]
  },
  {
   "cell_type": "markdown",
   "metadata": {},
   "source": [
    "I just showed that we can add quotes and apostrophes as much we want using escape characters"
   ]
  },
  {
   "cell_type": "markdown",
   "metadata": {},
   "source": [
    "- **multi-line strings**"
   ]
  },
  {
   "cell_type": "code",
   "execution_count": 7,
   "metadata": {},
   "outputs": [
    {
     "data": {
      "text/plain": [
       "'This is multi-line string\\nThe differences between this and normal string is that we can add:\\nnew lines without escape characters,\\nquotes and apostrophes without escape characters \"HELLO\" \\'wadawd\\'\\nand         tabs (if they are really tabs and not just many blanks)'"
      ]
     },
     "execution_count": 7,
     "metadata": {},
     "output_type": "execute_result"
    }
   ],
   "source": [
    "multi_string = '''This is multi-line string\n",
    "The differences between this and normal string is that we can add:\n",
    "new lines without escape characters,\n",
    "quotes and apostrophes without escape characters \"HELLO\" 'wadawd'\n",
    "and         tabs (if they are really tabs and not just many blanks)'''\n",
    "multi_string"
   ]
  },
  {
   "cell_type": "markdown",
   "metadata": {},
   "source": [
    "- **basic string functions and methods**"
   ]
  },
  {
   "cell_type": "code",
   "execution_count": 18,
   "metadata": {},
   "outputs": [
    {
     "name": "stdout",
     "output_type": "stream",
     "text": [
      "4\n",
      "1\n",
      "0\n"
     ]
    }
   ],
   "source": [
    "# .count(value <, start, end>)\n",
    "# Returns the number of times a specified value appears in the string.\n",
    "\n",
    "txt = \"Hello, welcome to my world.\"\n",
    "print(txt.count('o'))\n",
    "print(txt.count('o', 6, 12))\n",
    "print(txt.count('O')) # Capital o"
   ]
  },
  {
   "cell_type": "code",
   "execution_count": 11,
   "metadata": {},
   "outputs": [
    {
     "name": "stdout",
     "output_type": "stream",
     "text": [
      "-1\n",
      "11\n"
     ]
    }
   ],
   "source": [
    "# .find(value <, start, end>)\n",
    "# Finds the first occurrence of the specified value. This method returns -1 if the value is not found.\n",
    "\n",
    "txt = \"Hello, welcome to my world.\"\n",
    "print(txt.find('o', 6, 10))\n",
    "print(txt.find('o', 6, 12))"
   ]
  },
  {
   "cell_type": "code",
   "execution_count": 19,
   "metadata": {},
   "outputs": [
    {
     "name": "stdout",
     "output_type": "stream",
     "text": [
      "4\n"
     ]
    },
    {
     "ename": "ValueError",
     "evalue": "substring not found",
     "output_type": "error",
     "traceback": [
      "\u001b[1;31m---------------------------------------------------------------------------\u001b[0m",
      "\u001b[1;31mValueError\u001b[0m                                Traceback (most recent call last)",
      "Cell \u001b[1;32mIn[19], line 6\u001b[0m\n\u001b[0;32m      4\u001b[0m txt \u001b[38;5;241m=\u001b[39m \u001b[38;5;124m\"\u001b[39m\u001b[38;5;124mHello, welcome to my world.\u001b[39m\u001b[38;5;124m\"\u001b[39m\n\u001b[0;32m      5\u001b[0m \u001b[38;5;28mprint\u001b[39m(txt\u001b[38;5;241m.\u001b[39mindex(\u001b[38;5;124m'\u001b[39m\u001b[38;5;124mo\u001b[39m\u001b[38;5;124m'\u001b[39m))\n\u001b[1;32m----> 6\u001b[0m \u001b[38;5;28mprint\u001b[39m(\u001b[43mtxt\u001b[49m\u001b[38;5;241;43m.\u001b[39;49m\u001b[43mindex\u001b[49m\u001b[43m(\u001b[49m\u001b[38;5;124;43m'\u001b[39;49m\u001b[38;5;124;43mO\u001b[39;49m\u001b[38;5;124;43m'\u001b[39;49m\u001b[43m,\u001b[49m\u001b[43m \u001b[49m\u001b[38;5;241;43m6\u001b[39;49m\u001b[43m,\u001b[49m\u001b[43m \u001b[49m\u001b[38;5;241;43m12\u001b[39;49m\u001b[43m)\u001b[49m)\n",
      "\u001b[1;31mValueError\u001b[0m: substring not found"
     ]
    }
   ],
   "source": [
    "# .index(value <, start, end>)\n",
    "# Finds the first occurrence of the specified value. This method raises an exception if the value is not found.\n",
    "\n",
    "txt = \"Hello, welcome to my world.\"\n",
    "print(txt.index('o'))\n",
    "print(txt.index('O', 6, 12))"
   ]
  },
  {
   "cell_type": "code",
   "execution_count": 20,
   "metadata": {},
   "outputs": [
    {
     "name": "stdout",
     "output_type": "stream",
     "text": [
      "This string consist only of numbers\n"
     ]
    }
   ],
   "source": [
    "# .isnumeric()\n",
    "# Returns True if all the characters are numeric (0-9), otherwise False.\n",
    "# \"-1\" and \"1.5\" are NOT considered numeric values, because all the characters in the string must be numeric, and the - and the . are not.\n",
    "\n",
    "txt = \"1234\"\n",
    "if txt.isnumeric() is True:\n",
    "    print(\"This string consist only of numbers\")\n",
    "else:\n",
    "    print(\"This string doesn't consist only of numbers\")    "
   ]
  },
  {
   "cell_type": "markdown",
   "metadata": {},
   "source": [
    "There are many methods like this: isalpha(), isdecimal() and more"
   ]
  },
  {
   "cell_type": "code",
   "execution_count": 22,
   "metadata": {},
   "outputs": [
    {
     "name": "stdout",
     "output_type": "stream",
     "text": [
      "HELLO, WELCOME TO MY WORLD.\n",
      "hello, welcome to my world.\n"
     ]
    }
   ],
   "source": [
    "# .upper() and .lower()\n",
    "# Returns string with all characters in upper/lower case\n",
    "\n",
    "txt = \"Hello, Welcome To MY world.\"\n",
    "print(txt.upper())\n",
    "print(txt.lower())"
   ]
  },
  {
   "cell_type": "code",
   "execution_count": 25,
   "metadata": {},
   "outputs": [
    {
     "name": "stdout",
     "output_type": "stream",
     "text": [
      "1 1 was a race horse, two two was some1 too.\n",
      "1 1 was a race horse, two two was someone too.\n"
     ]
    }
   ],
   "source": [
    "# .replace(oldvalue, newvalue <, count>)\n",
    "# Replaces a specified phrase with another specified phrase\n",
    "\n",
    "txt = \"one one was a race horse, two two was someone too.\"\n",
    "print(txt.replace('one', '1'))\n",
    "print(txt.replace('one', '1', 2))"
   ]
  },
  {
   "cell_type": "code",
   "execution_count": 30,
   "metadata": {},
   "outputs": [
    {
     "name": "stdout",
     "output_type": "stream",
     "text": [
      "['Hello,', 'Welcome', 'To', 'MY', 'world.']\n",
      "['Hello', ' Welcome To MY world.']\n"
     ]
    }
   ],
   "source": [
    "# .split(<separator, maxsplit>)\n",
    "# Method splits a string into a list. You can specify the separator, default separator is any whitespace.\n",
    "\n",
    "txt = \"Hello, Welcome To MY world.\"\n",
    "print(txt.split())\n",
    "print(txt.split(','))"
   ]
  },
  {
   "cell_type": "code",
   "execution_count": 39,
   "metadata": {},
   "outputs": [
    {
     "name": "stdout",
     "output_type": "stream",
     "text": [
      "banana\n",
      "      ,,,,,rrttgg.....banana\n"
     ]
    }
   ],
   "source": [
    "# .strip(<characters>)\n",
    "# Removes any leading, and trailing whitespaces. You can specify which character(s) to remove, if not, any whitespaces will be removed.\n",
    "\n",
    "txt = \"     banana     \"\n",
    "print(txt.strip())\n",
    "\n",
    "txt = \"      ,,,,,rrttgg.....banana....rrr\"\n",
    "print(txt.strip('.r,gt'))"
   ]
  },
  {
   "cell_type": "markdown",
   "metadata": {},
   "source": [
    "There are obviously many more methods and you can find them here: https://www.w3schools.com/python/python_ref_string.asp"
   ]
  }
 ],
 "metadata": {
  "kernelspec": {
   "display_name": "Python 3",
   "language": "python",
   "name": "python3"
  },
  "language_info": {
   "codemirror_mode": {
    "name": "ipython",
    "version": 3
   },
   "file_extension": ".py",
   "mimetype": "text/x-python",
   "name": "python",
   "nbconvert_exporter": "python",
   "pygments_lexer": "ipython3",
   "version": "3.11.5"
  }
 },
 "nbformat": 4,
 "nbformat_minor": 2
}
